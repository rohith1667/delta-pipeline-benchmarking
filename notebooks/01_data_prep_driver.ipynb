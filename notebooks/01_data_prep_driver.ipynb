{
 "cells": [
  {
   "cell_type": "code",
   "execution_count": 0,
   "metadata": {
    "application/vnd.databricks.v1+cell": {
     "cellMetadata": {
      "byteLimit": 2048000,
      "rowLimit": 10000
     },
     "inputWidgets": {},
     "nuid": "b97b20b8-d471-4720-8a1d-7e7f1cfb29af",
     "showTitle": false,
     "tableResultSettingsMap": {},
     "title": ""
    }
   },
   "outputs": [
    {
     "output_type": "stream",
     "name": "stdout",
     "output_type": "stream",
     "text": [
      "Wrote customers -> /Volumes/tabular/dataexpert/benchmarking_capstone/raw_customers\n"
     ]
    }
   ],
   "source": [
    "# Volumes paths\n",
    "bronze_root = \"/Volumes/tabular/dataexpert/benchmarking_capstone\"\n",
    "tx_path     = f\"{bronze_root}/raw_transactions_daily\"   # single Delta table, daily partitions\n",
    "cust_path   = f\"{bronze_root}/raw_customers\"\n",
    "\n",
    "# sizes\n",
    "CUSTOMER_ROWS  = 200_000\n",
    "\n",
    "from pyspark.sql import functions as F\n",
    "\n",
    "# ---- customers builder (same as before) ----\n",
    "def make_customers(n_rows: int):\n",
    "    states = F.array(*[F.lit(s) for s in [\"CA\",\"TX\",\"NY\",\"FL\",\"WA\",\"IL\",\"GA\",\"NC\",\"PA\",\"OH\"]])\n",
    "    seg = (F.when(F.rand(31) < 0.2,\"VIP\")\n",
    "             .when(F.rand(32) < 0.6,\"LOYAL\")\n",
    "             .otherwise(\"CASUAL\"))\n",
    "    df = (spark.range(1, n_rows+1).toDF(\"customer_id\")\n",
    "            .withColumn(\"signup_date\", F.expr(\"date_add(to_date('2023-01-01'), cast(rand(41)*365 as int))\"))\n",
    "            .withColumn(\"segment\", seg)\n",
    "            .withColumn(\"state\", F.element_at(states, (F.rand(33)*10 + 1).cast(\"int\")))\n",
    "            .withColumn(\"city\", F.concat(F.lit(\"City_\"), F.floor(F.rand(34)*500))))\n",
    "    return df\n",
    "\n",
    "# write customers ONCE (overwrite is fine here)\n",
    "cust_df = make_customers(CUSTOMER_ROWS)\n",
    "(cust_df.write.mode(\"overwrite\").format(\"delta\").save(cust_path))\n",
    "print(\"Wrote customers ->\", cust_path)\n"
   ]
  },
  {
   "cell_type": "code",
   "execution_count": 0,
   "metadata": {
    "application/vnd.databricks.v1+cell": {
     "cellMetadata": {
      "byteLimit": 2048000,
      "rowLimit": 10000
     },
     "inputWidgets": {},
     "nuid": "a05371a9-8f6e-4b20-b044-388fb46e4238",
     "showTitle": false,
     "tableResultSettingsMap": {},
     "title": ""
    }
   },
   "outputs": [],
   "source": [
    "from pyspark.sql import functions as F\n",
    "from datetime import date, timedelta\n",
    "\n",
    "# transactions builder that pins all rows to a single 'ingest_day'\n",
    "def make_transactions_for_day(n_rows: int, customer_upper: int, ingest_day: str):\n",
    "    \"\"\"\n",
    "    n_rows: number of tx for that day\n",
    "    ingest_day: 'YYYY-MM-DD' partition (arrival date)\n",
    "    \"\"\"\n",
    "    # Spread event timestamps within the day; link to customers\n",
    "    df = (spark.range(0, n_rows).toDF(\"txn_id\")\n",
    "            .withColumn(\"store_id\", (F.rand(7)*500 + 1).cast(\"int\"))\n",
    "            .withColumn(\"customer_id\", (F.rand(11)*customer_upper + 1).cast(\"int\"))\n",
    "            .withColumn(\"sku\", (F.rand(13)*90000 + 10000).cast(\"int\"))\n",
    "            .withColumn(\"qty\", (F.rand(17)*6 + 1).cast(\"int\"))\n",
    "            .withColumn(\"price\", F.round(F.exp(F.rand(19)*1.0 + 2.5), 2))\n",
    "            # random minute in the day\n",
    "            .withColumn(\"minutes_offset\", (F.rand(23)*24*60).cast(\"int\"))\n",
    "            .withColumn(\"ts\", F.expr(f\"timestampadd(MINUTE, minutes_offset, to_timestamp('{ingest_day} 00:00:00'))\"))\n",
    "            .drop(\"minutes_offset\")\n",
    "            .withColumn(\"amount\", F.col(\"qty\")*F.col(\"price\"))\n",
    "            .withColumn(\"ingest_day\", F.lit(ingest_day))  # partition column\n",
    "         )\n",
    "    return df\n",
    "\n",
    "def write_daily_batch(n_rows:int, ingest_day:str):\n",
    "    df = make_transactions_for_day(n_rows=n_rows, customer_upper=CUSTOMER_ROWS, ingest_day=ingest_day)\n",
    "    # APPEND and PARTITION BY day → new files per day, Delta log tracks versions\n",
    "    (df.write\n",
    "       .format(\"delta\")\n",
    "       .mode(\"append\")\n",
    "       .partitionBy(\"ingest_day\")\n",
    "       .save(tx_path))\n",
    "    print(f\"Appended {n_rows:,} rows for day={ingest_day} -> {tx_path}\")\n"
   ]
  },
  {
   "cell_type": "code",
   "execution_count": 0,
   "metadata": {
    "application/vnd.databricks.v1+cell": {
     "cellMetadata": {
      "byteLimit": 2048000,
      "rowLimit": 10000
     },
     "inputWidgets": {},
     "nuid": "e7903906-92d1-486b-aeff-39aaeecaae9a",
     "showTitle": false,
     "tableResultSettingsMap": {},
     "title": ""
    }
   },
   "outputs": [
    {
     "output_type": "stream",
     "name": "stdout",
     "output_type": "stream",
     "text": [
      "Appended 1,500,000 rows for day=2024-06-04 -> /Volumes/tabular/dataexpert/benchmarking_capstone/raw_transactions_daily\nAppended 1,500,000 rows for day=2024-06-05 -> /Volumes/tabular/dataexpert/benchmarking_capstone/raw_transactions_daily\nAppended 1,500,000 rows for day=2024-06-06 -> /Volumes/tabular/dataexpert/benchmarking_capstone/raw_transactions_daily\nAppended 1,500,000 rows for day=2024-06-07 -> /Volumes/tabular/dataexpert/benchmarking_capstone/raw_transactions_daily\nAppended 1,500,000 rows for day=2024-06-08 -> /Volumes/tabular/dataexpert/benchmarking_capstone/raw_transactions_daily\nAppended 1,500,000 rows for day=2024-06-09 -> /Volumes/tabular/dataexpert/benchmarking_capstone/raw_transactions_daily\nAppended 1,500,000 rows for day=2024-06-10 -> /Volumes/tabular/dataexpert/benchmarking_capstone/raw_transactions_daily\nAppended 1,500,000 rows for day=2024-06-11 -> /Volumes/tabular/dataexpert/benchmarking_capstone/raw_transactions_daily\nAppended 1,500,000 rows for day=2024-06-12 -> /Volumes/tabular/dataexpert/benchmarking_capstone/raw_transactions_daily\nAppended 1,500,000 rows for day=2024-06-13 -> /Volumes/tabular/dataexpert/benchmarking_capstone/raw_transactions_daily\nAppended 1,500,000 rows for day=2024-06-14 -> /Volumes/tabular/dataexpert/benchmarking_capstone/raw_transactions_daily\nAppended 1,500,000 rows for day=2024-06-15 -> /Volumes/tabular/dataexpert/benchmarking_capstone/raw_transactions_daily\nAppended 1,500,000 rows for day=2024-06-16 -> /Volumes/tabular/dataexpert/benchmarking_capstone/raw_transactions_daily\nAppended 1,500,000 rows for day=2024-06-17 -> /Volumes/tabular/dataexpert/benchmarking_capstone/raw_transactions_daily\nAppended 1,500,000 rows for day=2024-06-18 -> /Volumes/tabular/dataexpert/benchmarking_capstone/raw_transactions_daily\nAppended 1,500,000 rows for day=2024-06-19 -> /Volumes/tabular/dataexpert/benchmarking_capstone/raw_transactions_daily\nAppended 1,500,000 rows for day=2024-06-20 -> /Volumes/tabular/dataexpert/benchmarking_capstone/raw_transactions_daily\nAppended 1,500,000 rows for day=2024-06-21 -> /Volumes/tabular/dataexpert/benchmarking_capstone/raw_transactions_daily\nAppended 1,500,000 rows for day=2024-06-22 -> /Volumes/tabular/dataexpert/benchmarking_capstone/raw_transactions_daily\nAppended 1,500,000 rows for day=2024-06-23 -> /Volumes/tabular/dataexpert/benchmarking_capstone/raw_transactions_daily\nAppended 1,500,000 rows for day=2024-06-24 -> /Volumes/tabular/dataexpert/benchmarking_capstone/raw_transactions_daily\nAppended 1,500,000 rows for day=2024-06-25 -> /Volumes/tabular/dataexpert/benchmarking_capstone/raw_transactions_daily\nAppended 1,500,000 rows for day=2024-06-26 -> /Volumes/tabular/dataexpert/benchmarking_capstone/raw_transactions_daily\nAppended 1,500,000 rows for day=2024-06-27 -> /Volumes/tabular/dataexpert/benchmarking_capstone/raw_transactions_daily\nAppended 1,500,000 rows for day=2024-06-28 -> /Volumes/tabular/dataexpert/benchmarking_capstone/raw_transactions_daily\nAppended 1,500,000 rows for day=2024-06-29 -> /Volumes/tabular/dataexpert/benchmarking_capstone/raw_transactions_daily\nAppended 1,500,000 rows for day=2024-06-30 -> /Volumes/tabular/dataexpert/benchmarking_capstone/raw_transactions_daily\nAppended 1,500,000 rows for day=2024-06-31 -> /Volumes/tabular/dataexpert/benchmarking_capstone/raw_transactions_daily\nAppended 1,500,000 rows for day=2024-07-01 -> /Volumes/tabular/dataexpert/benchmarking_capstone/raw_transactions_daily\nAppended 1,500,000 rows for day=2024-07-02 -> /Volumes/tabular/dataexpert/benchmarking_capstone/raw_transactions_daily\nAppended 1,500,000 rows for day=2024-07-03 -> /Volumes/tabular/dataexpert/benchmarking_capstone/raw_transactions_daily\nAppended 1,500,000 rows for day=2024-07-04 -> /Volumes/tabular/dataexpert/benchmarking_capstone/raw_transactions_daily\nAppended 1,500,000 rows for day=2024-07-05 -> /Volumes/tabular/dataexpert/benchmarking_capstone/raw_transactions_daily\nAppended 1,500,000 rows for day=2024-07-06 -> /Volumes/tabular/dataexpert/benchmarking_capstone/raw_transactions_daily\nAppended 1,500,000 rows for day=2024-07-07 -> /Volumes/tabular/dataexpert/benchmarking_capstone/raw_transactions_daily\nAppended 1,500,000 rows for day=2024-07-08 -> /Volumes/tabular/dataexpert/benchmarking_capstone/raw_transactions_daily\nAppended 1,500,000 rows for day=2024-07-09 -> /Volumes/tabular/dataexpert/benchmarking_capstone/raw_transactions_daily\nAppended 1,500,000 rows for day=2024-07-10 -> /Volumes/tabular/dataexpert/benchmarking_capstone/raw_transactions_daily\nAppended 1,500,000 rows for day=2024-07-11 -> /Volumes/tabular/dataexpert/benchmarking_capstone/raw_transactions_daily\nAppended 1,500,000 rows for day=2024-07-12 -> /Volumes/tabular/dataexpert/benchmarking_capstone/raw_transactions_daily\nAppended 1,500,000 rows for day=2024-07-13 -> /Volumes/tabular/dataexpert/benchmarking_capstone/raw_transactions_daily\nAppended 1,500,000 rows for day=2024-07-14 -> /Volumes/tabular/dataexpert/benchmarking_capstone/raw_transactions_daily\nAppended 1,500,000 rows for day=2024-07-15 -> /Volumes/tabular/dataexpert/benchmarking_capstone/raw_transactions_daily\nAppended 1,500,000 rows for day=2024-07-16 -> /Volumes/tabular/dataexpert/benchmarking_capstone/raw_transactions_daily\nAppended 1,500,000 rows for day=2024-07-17 -> /Volumes/tabular/dataexpert/benchmarking_capstone/raw_transactions_daily\nAppended 1,500,000 rows for day=2024-07-18 -> /Volumes/tabular/dataexpert/benchmarking_capstone/raw_transactions_daily\nAppended 1,500,000 rows for day=2024-07-19 -> /Volumes/tabular/dataexpert/benchmarking_capstone/raw_transactions_daily\nAppended 1,500,000 rows for day=2024-07-20 -> /Volumes/tabular/dataexpert/benchmarking_capstone/raw_transactions_daily\nAppended 1,500,000 rows for day=2024-07-21 -> /Volumes/tabular/dataexpert/benchmarking_capstone/raw_transactions_daily\nAppended 1,500,000 rows for day=2024-07-22 -> /Volumes/tabular/dataexpert/benchmarking_capstone/raw_transactions_daily\nAppended 1,500,000 rows for day=2024-07-23 -> /Volumes/tabular/dataexpert/benchmarking_capstone/raw_transactions_daily\nAppended 1,500,000 rows for day=2024-07-24 -> /Volumes/tabular/dataexpert/benchmarking_capstone/raw_transactions_daily\nAppended 1,500,000 rows for day=2024-07-25 -> /Volumes/tabular/dataexpert/benchmarking_capstone/raw_transactions_daily\nAppended 1,500,000 rows for day=2024-07-26 -> /Volumes/tabular/dataexpert/benchmarking_capstone/raw_transactions_daily\nAppended 1,500,000 rows for day=2024-07-27 -> /Volumes/tabular/dataexpert/benchmarking_capstone/raw_transactions_daily\nAppended 1,500,000 rows for day=2024-07-28 -> /Volumes/tabular/dataexpert/benchmarking_capstone/raw_transactions_daily\nAppended 1,500,000 rows for day=2024-07-29 -> /Volumes/tabular/dataexpert/benchmarking_capstone/raw_transactions_daily\nAppended 1,500,000 rows for day=2024-07-30 -> /Volumes/tabular/dataexpert/benchmarking_capstone/raw_transactions_daily\nAppended 1,500,000 rows for day=2024-08-01 -> /Volumes/tabular/dataexpert/benchmarking_capstone/raw_transactions_daily\nAppended 1,500,000 rows for day=2024-08-02 -> /Volumes/tabular/dataexpert/benchmarking_capstone/raw_transactions_daily\nAppended 1,500,000 rows for day=2024-08-03 -> /Volumes/tabular/dataexpert/benchmarking_capstone/raw_transactions_daily\nAppended 1,500,000 rows for day=2024-08-04 -> /Volumes/tabular/dataexpert/benchmarking_capstone/raw_transactions_daily\nAppended 1,500,000 rows for day=2024-08-05 -> /Volumes/tabular/dataexpert/benchmarking_capstone/raw_transactions_daily\nAppended 1,500,000 rows for day=2024-08-06 -> /Volumes/tabular/dataexpert/benchmarking_capstone/raw_transactions_daily\nAppended 1,500,000 rows for day=2024-08-07 -> /Volumes/tabular/dataexpert/benchmarking_capstone/raw_transactions_daily\nAppended 1,500,000 rows for day=2024-08-08 -> /Volumes/tabular/dataexpert/benchmarking_capstone/raw_transactions_daily\nAppended 1,500,000 rows for day=2024-08-09 -> /Volumes/tabular/dataexpert/benchmarking_capstone/raw_transactions_daily\nAppended 1,500,000 rows for day=2024-08-10 -> /Volumes/tabular/dataexpert/benchmarking_capstone/raw_transactions_daily\nAppended 1,500,000 rows for day=2024-08-11 -> /Volumes/tabular/dataexpert/benchmarking_capstone/raw_transactions_daily\nAppended 1,500,000 rows for day=2024-08-12 -> /Volumes/tabular/dataexpert/benchmarking_capstone/raw_transactions_daily\nAppended 1,500,000 rows for day=2024-08-13 -> /Volumes/tabular/dataexpert/benchmarking_capstone/raw_transactions_daily\nAppended 1,500,000 rows for day=2024-08-14 -> /Volumes/tabular/dataexpert/benchmarking_capstone/raw_transactions_daily\nAppended 1,500,000 rows for day=2024-08-15 -> /Volumes/tabular/dataexpert/benchmarking_capstone/raw_transactions_daily\nAppended 1,500,000 rows for day=2024-08-16 -> /Volumes/tabular/dataexpert/benchmarking_capstone/raw_transactions_daily\nAppended 1,500,000 rows for day=2024-08-17 -> /Volumes/tabular/dataexpert/benchmarking_capstone/raw_transactions_daily\nAppended 1,500,000 rows for day=2024-08-18 -> /Volumes/tabular/dataexpert/benchmarking_capstone/raw_transactions_daily\nAppended 1,500,000 rows for day=2024-08-19 -> /Volumes/tabular/dataexpert/benchmarking_capstone/raw_transactions_daily\nAppended 1,500,000 rows for day=2024-08-20 -> /Volumes/tabular/dataexpert/benchmarking_capstone/raw_transactions_daily\nAppended 1,500,000 rows for day=2024-08-21 -> /Volumes/tabular/dataexpert/benchmarking_capstone/raw_transactions_daily\nAppended 1,500,000 rows for day=2024-08-22 -> /Volumes/tabular/dataexpert/benchmarking_capstone/raw_transactions_daily\nAppended 1,500,000 rows for day=2024-08-23 -> /Volumes/tabular/dataexpert/benchmarking_capstone/raw_transactions_daily\nAppended 1,500,000 rows for day=2024-08-24 -> /Volumes/tabular/dataexpert/benchmarking_capstone/raw_transactions_daily\nAppended 1,500,000 rows for day=2024-08-25 -> /Volumes/tabular/dataexpert/benchmarking_capstone/raw_transactions_daily\nAppended 1,500,000 rows for day=2024-08-26 -> /Volumes/tabular/dataexpert/benchmarking_capstone/raw_transactions_daily\nAppended 1,500,000 rows for day=2024-08-27 -> /Volumes/tabular/dataexpert/benchmarking_capstone/raw_transactions_daily\nAppended 1,500,000 rows for day=2024-08-28 -> /Volumes/tabular/dataexpert/benchmarking_capstone/raw_transactions_daily\nAppended 1,500,000 rows for day=2024-08-29 -> /Volumes/tabular/dataexpert/benchmarking_capstone/raw_transactions_daily\nAppended 1,500,000 rows for day=2024-08-30 -> /Volumes/tabular/dataexpert/benchmarking_capstone/raw_transactions_daily\n"
     ]
    }
   ],
   "source": [
    "\n",
    "\n",
    "ROWS_PER_DAY = 1_500_000   # adjust up/down for final volume\n",
    "days = [f\"2024-06-{d:02d}\" for d in range(4, 32)] + \\\n",
    "       [f\"2024-07-{d:02d}\" for d in range(1, 31)] + \\\n",
    "       [f\"2024-08-{d:02d}\" for d in range(1, 31)]\n",
    "\n",
    "for d in days:\n",
    "    write_daily_batch(ROWS_PER_DAY, d)\n",
    "\n"
   ]
  },
  {
   "cell_type": "code",
   "execution_count": 0,
   "metadata": {
    "application/vnd.databricks.v1+cell": {
     "cellMetadata": {
      "byteLimit": 2048000,
      "rowLimit": 10000
     },
     "inputWidgets": {},
     "nuid": "a16f6851-d549-4836-bcfc-2b02facac4bc",
     "showTitle": false,
     "tableResultSettingsMap": {},
     "title": ""
    }
   },
   "outputs": [
    {
     "output_type": "stream",
     "name": "stdout",
     "output_type": "stream",
     "text": [
      "Total rows: 270000000\n"
     ]
    },
    {
     "output_type": "display_data",
     "data": {
      "text/html": [
       "<style scoped>\n",
       "  .table-result-container {\n",
       "    max-height: 300px;\n",
       "    overflow: auto;\n",
       "  }\n",
       "  table, th, td {\n",
       "    border: 1px solid black;\n",
       "    border-collapse: collapse;\n",
       "  }\n",
       "  th, td {\n",
       "    padding: 5px;\n",
       "  }\n",
       "  th {\n",
       "    text-align: left;\n",
       "  }\n",
       "</style><div class='table-result-container'><table class='table-result'><thead style='background-color: white'><tr><th>ingest_day</th><th>count</th></tr></thead><tbody><tr><td>2024-01-11</td><td>1000000</td></tr><tr><td>2024-01-16</td><td>1000000</td></tr><tr><td>2024-01-31</td><td>1000000</td></tr><tr><td>2024-03-01</td><td>1000000</td></tr><tr><td>2024-03-02</td><td>1000000</td></tr><tr><td>2024-03-03</td><td>1000000</td></tr><tr><td>2024-03-04</td><td>1500000</td></tr><tr><td>2024-03-05</td><td>1500000</td></tr><tr><td>2024-03-06</td><td>1500000</td></tr><tr><td>2024-03-07</td><td>1500000</td></tr><tr><td>2024-03-08</td><td>1500000</td></tr><tr><td>2024-03-09</td><td>1500000</td></tr><tr><td>2024-03-10</td><td>1500000</td></tr><tr><td>2024-03-11</td><td>1500000</td></tr><tr><td>2024-03-12</td><td>1500000</td></tr><tr><td>2024-03-13</td><td>1500000</td></tr><tr><td>2024-03-14</td><td>1500000</td></tr><tr><td>2024-03-15</td><td>1500000</td></tr><tr><td>2024-03-16</td><td>1500000</td></tr><tr><td>2024-03-17</td><td>1500000</td></tr><tr><td>2024-03-18</td><td>1500000</td></tr><tr><td>2024-03-19</td><td>1500000</td></tr><tr><td>2024-03-20</td><td>1500000</td></tr><tr><td>2024-03-21</td><td>1500000</td></tr><tr><td>2024-03-22</td><td>1500000</td></tr><tr><td>2024-03-23</td><td>1500000</td></tr><tr><td>2024-03-24</td><td>1500000</td></tr><tr><td>2024-03-25</td><td>1500000</td></tr><tr><td>2024-03-26</td><td>1500000</td></tr><tr><td>2024-03-27</td><td>1500000</td></tr><tr><td>2024-03-28</td><td>1500000</td></tr><tr><td>2024-03-29</td><td>1500000</td></tr><tr><td>2024-03-30</td><td>1500000</td></tr><tr><td>2024-03-31</td><td>1500000</td></tr><tr><td>2024-04-01</td><td>1500000</td></tr><tr><td>2024-04-02</td><td>1500000</td></tr><tr><td>2024-04-03</td><td>1500000</td></tr><tr><td>2024-04-04</td><td>1500000</td></tr><tr><td>2024-04-05</td><td>1500000</td></tr><tr><td>2024-04-06</td><td>1500000</td></tr><tr><td>2024-04-07</td><td>1500000</td></tr><tr><td>2024-04-08</td><td>1500000</td></tr><tr><td>2024-04-09</td><td>1500000</td></tr><tr><td>2024-04-10</td><td>1500000</td></tr><tr><td>2024-04-11</td><td>1500000</td></tr><tr><td>2024-04-12</td><td>1500000</td></tr><tr><td>2024-04-13</td><td>1500000</td></tr><tr><td>2024-04-14</td><td>1500000</td></tr><tr><td>2024-04-15</td><td>1500000</td></tr><tr><td>2024-04-16</td><td>1500000</td></tr><tr><td>2024-04-17</td><td>1500000</td></tr><tr><td>2024-04-18</td><td>1500000</td></tr><tr><td>2024-04-19</td><td>1500000</td></tr><tr><td>2024-04-20</td><td>1500000</td></tr><tr><td>2024-04-21</td><td>1500000</td></tr><tr><td>2024-04-22</td><td>1500000</td></tr><tr><td>2024-04-23</td><td>1500000</td></tr><tr><td>2024-04-24</td><td>1500000</td></tr><tr><td>2024-04-25</td><td>1500000</td></tr><tr><td>2024-04-26</td><td>1500000</td></tr><tr><td>2024-04-27</td><td>1500000</td></tr><tr><td>2024-04-28</td><td>1500000</td></tr><tr><td>2024-04-29</td><td>1500000</td></tr><tr><td>2024-04-30</td><td>1500000</td></tr><tr><td>2024-05-01</td><td>1500000</td></tr><tr><td>2024-05-02</td><td>1500000</td></tr><tr><td>2024-05-03</td><td>1500000</td></tr><tr><td>2024-05-04</td><td>1500000</td></tr><tr><td>2024-05-05</td><td>1500000</td></tr><tr><td>2024-05-06</td><td>1500000</td></tr><tr><td>2024-05-07</td><td>1500000</td></tr><tr><td>2024-05-08</td><td>1500000</td></tr><tr><td>2024-05-09</td><td>1500000</td></tr><tr><td>2024-05-10</td><td>1500000</td></tr><tr><td>2024-05-11</td><td>1500000</td></tr><tr><td>2024-05-12</td><td>1500000</td></tr><tr><td>2024-05-13</td><td>1500000</td></tr><tr><td>2024-05-14</td><td>1500000</td></tr><tr><td>2024-05-15</td><td>1500000</td></tr><tr><td>2024-05-16</td><td>1500000</td></tr><tr><td>2024-05-17</td><td>1500000</td></tr><tr><td>2024-05-18</td><td>1500000</td></tr><tr><td>2024-05-19</td><td>1500000</td></tr><tr><td>2024-05-20</td><td>1500000</td></tr><tr><td>2024-05-21</td><td>1500000</td></tr><tr><td>2024-05-22</td><td>1500000</td></tr><tr><td>2024-05-23</td><td>1500000</td></tr><tr><td>2024-05-24</td><td>1500000</td></tr><tr><td>2024-05-25</td><td>1500000</td></tr><tr><td>2024-05-26</td><td>1500000</td></tr><tr><td>2024-05-27</td><td>1500000</td></tr><tr><td>2024-05-28</td><td>1500000</td></tr><tr><td>2024-05-29</td><td>1500000</td></tr><tr><td>2024-05-30</td><td>1500000</td></tr><tr><td>2024-06-04</td><td>1500000</td></tr><tr><td>2024-06-05</td><td>1500000</td></tr><tr><td>2024-06-06</td><td>1500000</td></tr><tr><td>2024-06-07</td><td>1500000</td></tr><tr><td>2024-06-08</td><td>1500000</td></tr><tr><td>2024-06-09</td><td>1500000</td></tr><tr><td>2024-06-10</td><td>1500000</td></tr><tr><td>2024-06-11</td><td>1500000</td></tr><tr><td>2024-06-12</td><td>1500000</td></tr><tr><td>2024-06-13</td><td>1500000</td></tr><tr><td>2024-06-14</td><td>1500000</td></tr><tr><td>2024-06-15</td><td>1500000</td></tr><tr><td>2024-06-16</td><td>1500000</td></tr><tr><td>2024-06-17</td><td>1500000</td></tr><tr><td>2024-06-18</td><td>1500000</td></tr><tr><td>2024-06-19</td><td>1500000</td></tr><tr><td>2024-06-20</td><td>1500000</td></tr><tr><td>2024-06-21</td><td>1500000</td></tr><tr><td>2024-06-22</td><td>1500000</td></tr><tr><td>2024-06-23</td><td>1500000</td></tr><tr><td>2024-06-24</td><td>1500000</td></tr><tr><td>2024-06-25</td><td>1500000</td></tr><tr><td>2024-06-26</td><td>1500000</td></tr><tr><td>2024-06-27</td><td>1500000</td></tr><tr><td>2024-06-28</td><td>1500000</td></tr><tr><td>2024-06-29</td><td>1500000</td></tr><tr><td>2024-06-30</td><td>1500000</td></tr><tr><td>2024-06-31</td><td>1500000</td></tr><tr><td>2024-07-01</td><td>1500000</td></tr><tr><td>2024-07-02</td><td>1500000</td></tr><tr><td>2024-07-03</td><td>1500000</td></tr><tr><td>2024-07-04</td><td>1500000</td></tr><tr><td>2024-07-05</td><td>1500000</td></tr><tr><td>2024-07-06</td><td>1500000</td></tr><tr><td>2024-07-07</td><td>1500000</td></tr><tr><td>2024-07-08</td><td>1500000</td></tr><tr><td>2024-07-09</td><td>1500000</td></tr><tr><td>2024-07-10</td><td>1500000</td></tr><tr><td>2024-07-11</td><td>1500000</td></tr><tr><td>2024-07-12</td><td>1500000</td></tr><tr><td>2024-07-13</td><td>1500000</td></tr><tr><td>2024-07-14</td><td>1500000</td></tr><tr><td>2024-07-15</td><td>1500000</td></tr><tr><td>2024-07-16</td><td>1500000</td></tr><tr><td>2024-07-17</td><td>1500000</td></tr><tr><td>2024-07-18</td><td>1500000</td></tr><tr><td>2024-07-19</td><td>1500000</td></tr><tr><td>2024-07-20</td><td>1500000</td></tr><tr><td>2024-07-21</td><td>1500000</td></tr><tr><td>2024-07-22</td><td>1500000</td></tr><tr><td>2024-07-23</td><td>1500000</td></tr><tr><td>2024-07-24</td><td>1500000</td></tr><tr><td>2024-07-25</td><td>1500000</td></tr><tr><td>2024-07-26</td><td>1500000</td></tr><tr><td>2024-07-27</td><td>1500000</td></tr><tr><td>2024-07-28</td><td>1500000</td></tr><tr><td>2024-07-29</td><td>1500000</td></tr><tr><td>2024-07-30</td><td>1500000</td></tr><tr><td>2024-08-01</td><td>1500000</td></tr><tr><td>2024-08-02</td><td>1500000</td></tr><tr><td>2024-08-03</td><td>1500000</td></tr><tr><td>2024-08-04</td><td>1500000</td></tr><tr><td>2024-08-05</td><td>1500000</td></tr><tr><td>2024-08-06</td><td>1500000</td></tr><tr><td>2024-08-07</td><td>1500000</td></tr><tr><td>2024-08-08</td><td>1500000</td></tr><tr><td>2024-08-09</td><td>1500000</td></tr><tr><td>2024-08-10</td><td>1500000</td></tr><tr><td>2024-08-11</td><td>1500000</td></tr><tr><td>2024-08-12</td><td>1500000</td></tr><tr><td>2024-08-13</td><td>1500000</td></tr><tr><td>2024-08-14</td><td>1500000</td></tr><tr><td>2024-08-15</td><td>1500000</td></tr><tr><td>2024-08-16</td><td>1500000</td></tr><tr><td>2024-08-17</td><td>1500000</td></tr><tr><td>2024-08-18</td><td>1500000</td></tr><tr><td>2024-08-19</td><td>1500000</td></tr><tr><td>2024-08-20</td><td>1500000</td></tr><tr><td>2024-08-21</td><td>1500000</td></tr><tr><td>2024-08-22</td><td>1500000</td></tr><tr><td>2024-08-23</td><td>1500000</td></tr><tr><td>2024-08-24</td><td>1500000</td></tr><tr><td>2024-08-25</td><td>1500000</td></tr><tr><td>2024-08-26</td><td>1500000</td></tr><tr><td>2024-08-27</td><td>1500000</td></tr><tr><td>2024-08-28</td><td>1500000</td></tr><tr><td>2024-08-29</td><td>1500000</td></tr><tr><td>2024-08-30</td><td>1500000</td></tr></tbody></table></div>"
      ]
     },
     "metadata": {
      "application/vnd.databricks.v1+output": {
       "addedWidgets": {},
       "aggData": [],
       "aggError": "",
       "aggOverflow": false,
       "aggSchema": [],
       "aggSeriesLimitReached": false,
       "aggType": "",
       "arguments": {},
       "columnCustomDisplayInfos": {},
       "data": [
        [
         "2024-01-11",
         1000000
        ],
        [
         "2024-01-16",
         1000000
        ],
        [
         "2024-01-31",
         1000000
        ],
        [
         "2024-03-01",
         1000000
        ],
        [
         "2024-03-02",
         1000000
        ],
        [
         "2024-03-03",
         1000000
        ],
        [
         "2024-03-04",
         1500000
        ],
        [
         "2024-03-05",
         1500000
        ],
        [
         "2024-03-06",
         1500000
        ],
        [
         "2024-03-07",
         1500000
        ],
        [
         "2024-03-08",
         1500000
        ],
        [
         "2024-03-09",
         1500000
        ],
        [
         "2024-03-10",
         1500000
        ],
        [
         "2024-03-11",
         1500000
        ],
        [
         "2024-03-12",
         1500000
        ],
        [
         "2024-03-13",
         1500000
        ],
        [
         "2024-03-14",
         1500000
        ],
        [
         "2024-03-15",
         1500000
        ],
        [
         "2024-03-16",
         1500000
        ],
        [
         "2024-03-17",
         1500000
        ],
        [
         "2024-03-18",
         1500000
        ],
        [
         "2024-03-19",
         1500000
        ],
        [
         "2024-03-20",
         1500000
        ],
        [
         "2024-03-21",
         1500000
        ],
        [
         "2024-03-22",
         1500000
        ],
        [
         "2024-03-23",
         1500000
        ],
        [
         "2024-03-24",
         1500000
        ],
        [
         "2024-03-25",
         1500000
        ],
        [
         "2024-03-26",
         1500000
        ],
        [
         "2024-03-27",
         1500000
        ],
        [
         "2024-03-28",
         1500000
        ],
        [
         "2024-03-29",
         1500000
        ],
        [
         "2024-03-30",
         1500000
        ],
        [
         "2024-03-31",
         1500000
        ],
        [
         "2024-04-01",
         1500000
        ],
        [
         "2024-04-02",
         1500000
        ],
        [
         "2024-04-03",
         1500000
        ],
        [
         "2024-04-04",
         1500000
        ],
        [
         "2024-04-05",
         1500000
        ],
        [
         "2024-04-06",
         1500000
        ],
        [
         "2024-04-07",
         1500000
        ],
        [
         "2024-04-08",
         1500000
        ],
        [
         "2024-04-09",
         1500000
        ],
        [
         "2024-04-10",
         1500000
        ],
        [
         "2024-04-11",
         1500000
        ],
        [
         "2024-04-12",
         1500000
        ],
        [
         "2024-04-13",
         1500000
        ],
        [
         "2024-04-14",
         1500000
        ],
        [
         "2024-04-15",
         1500000
        ],
        [
         "2024-04-16",
         1500000
        ],
        [
         "2024-04-17",
         1500000
        ],
        [
         "2024-04-18",
         1500000
        ],
        [
         "2024-04-19",
         1500000
        ],
        [
         "2024-04-20",
         1500000
        ],
        [
         "2024-04-21",
         1500000
        ],
        [
         "2024-04-22",
         1500000
        ],
        [
         "2024-04-23",
         1500000
        ],
        [
         "2024-04-24",
         1500000
        ],
        [
         "2024-04-25",
         1500000
        ],
        [
         "2024-04-26",
         1500000
        ],
        [
         "2024-04-27",
         1500000
        ],
        [
         "2024-04-28",
         1500000
        ],
        [
         "2024-04-29",
         1500000
        ],
        [
         "2024-04-30",
         1500000
        ],
        [
         "2024-05-01",
         1500000
        ],
        [
         "2024-05-02",
         1500000
        ],
        [
         "2024-05-03",
         1500000
        ],
        [
         "2024-05-04",
         1500000
        ],
        [
         "2024-05-05",
         1500000
        ],
        [
         "2024-05-06",
         1500000
        ],
        [
         "2024-05-07",
         1500000
        ],
        [
         "2024-05-08",
         1500000
        ],
        [
         "2024-05-09",
         1500000
        ],
        [
         "2024-05-10",
         1500000
        ],
        [
         "2024-05-11",
         1500000
        ],
        [
         "2024-05-12",
         1500000
        ],
        [
         "2024-05-13",
         1500000
        ],
        [
         "2024-05-14",
         1500000
        ],
        [
         "2024-05-15",
         1500000
        ],
        [
         "2024-05-16",
         1500000
        ],
        [
         "2024-05-17",
         1500000
        ],
        [
         "2024-05-18",
         1500000
        ],
        [
         "2024-05-19",
         1500000
        ],
        [
         "2024-05-20",
         1500000
        ],
        [
         "2024-05-21",
         1500000
        ],
        [
         "2024-05-22",
         1500000
        ],
        [
         "2024-05-23",
         1500000
        ],
        [
         "2024-05-24",
         1500000
        ],
        [
         "2024-05-25",
         1500000
        ],
        [
         "2024-05-26",
         1500000
        ],
        [
         "2024-05-27",
         1500000
        ],
        [
         "2024-05-28",
         1500000
        ],
        [
         "2024-05-29",
         1500000
        ],
        [
         "2024-05-30",
         1500000
        ],
        [
         "2024-06-04",
         1500000
        ],
        [
         "2024-06-05",
         1500000
        ],
        [
         "2024-06-06",
         1500000
        ],
        [
         "2024-06-07",
         1500000
        ],
        [
         "2024-06-08",
         1500000
        ],
        [
         "2024-06-09",
         1500000
        ],
        [
         "2024-06-10",
         1500000
        ],
        [
         "2024-06-11",
         1500000
        ],
        [
         "2024-06-12",
         1500000
        ],
        [
         "2024-06-13",
         1500000
        ],
        [
         "2024-06-14",
         1500000
        ],
        [
         "2024-06-15",
         1500000
        ],
        [
         "2024-06-16",
         1500000
        ],
        [
         "2024-06-17",
         1500000
        ],
        [
         "2024-06-18",
         1500000
        ],
        [
         "2024-06-19",
         1500000
        ],
        [
         "2024-06-20",
         1500000
        ],
        [
         "2024-06-21",
         1500000
        ],
        [
         "2024-06-22",
         1500000
        ],
        [
         "2024-06-23",
         1500000
        ],
        [
         "2024-06-24",
         1500000
        ],
        [
         "2024-06-25",
         1500000
        ],
        [
         "2024-06-26",
         1500000
        ],
        [
         "2024-06-27",
         1500000
        ],
        [
         "2024-06-28",
         1500000
        ],
        [
         "2024-06-29",
         1500000
        ],
        [
         "2024-06-30",
         1500000
        ],
        [
         "2024-06-31",
         1500000
        ],
        [
         "2024-07-01",
         1500000
        ],
        [
         "2024-07-02",
         1500000
        ],
        [
         "2024-07-03",
         1500000
        ],
        [
         "2024-07-04",
         1500000
        ],
        [
         "2024-07-05",
         1500000
        ],
        [
         "2024-07-06",
         1500000
        ],
        [
         "2024-07-07",
         1500000
        ],
        [
         "2024-07-08",
         1500000
        ],
        [
         "2024-07-09",
         1500000
        ],
        [
         "2024-07-10",
         1500000
        ],
        [
         "2024-07-11",
         1500000
        ],
        [
         "2024-07-12",
         1500000
        ],
        [
         "2024-07-13",
         1500000
        ],
        [
         "2024-07-14",
         1500000
        ],
        [
         "2024-07-15",
         1500000
        ],
        [
         "2024-07-16",
         1500000
        ],
        [
         "2024-07-17",
         1500000
        ],
        [
         "2024-07-18",
         1500000
        ],
        [
         "2024-07-19",
         1500000
        ],
        [
         "2024-07-20",
         1500000
        ],
        [
         "2024-07-21",
         1500000
        ],
        [
         "2024-07-22",
         1500000
        ],
        [
         "2024-07-23",
         1500000
        ],
        [
         "2024-07-24",
         1500000
        ],
        [
         "2024-07-25",
         1500000
        ],
        [
         "2024-07-26",
         1500000
        ],
        [
         "2024-07-27",
         1500000
        ],
        [
         "2024-07-28",
         1500000
        ],
        [
         "2024-07-29",
         1500000
        ],
        [
         "2024-07-30",
         1500000
        ],
        [
         "2024-08-01",
         1500000
        ],
        [
         "2024-08-02",
         1500000
        ],
        [
         "2024-08-03",
         1500000
        ],
        [
         "2024-08-04",
         1500000
        ],
        [
         "2024-08-05",
         1500000
        ],
        [
         "2024-08-06",
         1500000
        ],
        [
         "2024-08-07",
         1500000
        ],
        [
         "2024-08-08",
         1500000
        ],
        [
         "2024-08-09",
         1500000
        ],
        [
         "2024-08-10",
         1500000
        ],
        [
         "2024-08-11",
         1500000
        ],
        [
         "2024-08-12",
         1500000
        ],
        [
         "2024-08-13",
         1500000
        ],
        [
         "2024-08-14",
         1500000
        ],
        [
         "2024-08-15",
         1500000
        ],
        [
         "2024-08-16",
         1500000
        ],
        [
         "2024-08-17",
         1500000
        ],
        [
         "2024-08-18",
         1500000
        ],
        [
         "2024-08-19",
         1500000
        ],
        [
         "2024-08-20",
         1500000
        ],
        [
         "2024-08-21",
         1500000
        ],
        [
         "2024-08-22",
         1500000
        ],
        [
         "2024-08-23",
         1500000
        ],
        [
         "2024-08-24",
         1500000
        ],
        [
         "2024-08-25",
         1500000
        ],
        [
         "2024-08-26",
         1500000
        ],
        [
         "2024-08-27",
         1500000
        ],
        [
         "2024-08-28",
         1500000
        ],
        [
         "2024-08-29",
         1500000
        ],
        [
         "2024-08-30",
         1500000
        ]
       ],
       "datasetInfos": [],
       "dbfsResultPath": null,
       "isJsonSchema": true,
       "metadata": {},
       "overflow": false,
       "plotOptions": {
        "customPlotOptions": {},
        "displayType": "table",
        "pivotAggregation": null,
        "pivotColumns": null,
        "xColumns": null,
        "yColumns": null
       },
       "removedWidgets": [],
       "schema": [
        {
         "metadata": "{}",
         "name": "ingest_day",
         "type": "\"string\""
        },
        {
         "metadata": "{}",
         "name": "count",
         "type": "\"long\""
        }
       ],
       "type": "table"
      }
     },
     "output_type": "display_data"
    },
    {
     "output_type": "stream",
     "name": "stdout",
     "output_type": "stream",
     "text": [
      "Orphan transactions: 0\n"
     ]
    },
    {
     "output_type": "display_data",
     "data": {
      "text/html": [
       "<style scoped>\n",
       "  .table-result-container {\n",
       "    max-height: 300px;\n",
       "    overflow: auto;\n",
       "  }\n",
       "  table, th, td {\n",
       "    border: 1px solid black;\n",
       "    border-collapse: collapse;\n",
       "  }\n",
       "  th, td {\n",
       "    padding: 5px;\n",
       "  }\n",
       "  th {\n",
       "    text-align: left;\n",
       "  }\n",
       "</style><div class='table-result-container'><table class='table-result'><thead style='background-color: white'><tr><th>version</th><th>timestamp</th><th>userId</th><th>userName</th><th>operation</th><th>operationParameters</th><th>job</th><th>notebook</th><th>clusterId</th><th>readVersion</th><th>isolationLevel</th><th>isBlindAppend</th><th>operationMetrics</th><th>userMetadata</th><th>engineInfo</th></tr></thead><tbody><tr><td>181</td><td>2025-08-16T02:58:51Z</td><td>78016171715504</td><td>rohithkumar0955@gmail.com</td><td>WRITE</td><td>Map(mode -> Append, statsOnLoad -> false, partitionBy -> [\"ingest_day\"])</td><td>null</td><td>List(1323301528906842)</td><td>0120-034800-q4ixh8v8</td><td>180</td><td>WriteSerializable</td><td>true</td><td>Map(numFiles -> 1, numOutputRows -> 1500000, numOutputBytes -> 27317715)</td><td>null</td><td>Databricks-Runtime/15.4.x-scala2.12</td></tr><tr><td>180</td><td>2025-08-16T02:58:47Z</td><td>78016171715504</td><td>rohithkumar0955@gmail.com</td><td>WRITE</td><td>Map(mode -> Append, statsOnLoad -> false, partitionBy -> [\"ingest_day\"])</td><td>null</td><td>List(1323301528906842)</td><td>0120-034800-q4ixh8v8</td><td>179</td><td>WriteSerializable</td><td>true</td><td>Map(numFiles -> 1, numOutputRows -> 1500000, numOutputBytes -> 27318412)</td><td>null</td><td>Databricks-Runtime/15.4.x-scala2.12</td></tr><tr><td>179</td><td>2025-08-16T02:58:43Z</td><td>78016171715504</td><td>rohithkumar0955@gmail.com</td><td>WRITE</td><td>Map(mode -> Append, statsOnLoad -> false, partitionBy -> [\"ingest_day\"])</td><td>null</td><td>List(1323301528906842)</td><td>0120-034800-q4ixh8v8</td><td>178</td><td>WriteSerializable</td><td>true</td><td>Map(numFiles -> 1, numOutputRows -> 1500000, numOutputBytes -> 27317704)</td><td>null</td><td>Databricks-Runtime/15.4.x-scala2.12</td></tr><tr><td>178</td><td>2025-08-16T02:58:39Z</td><td>78016171715504</td><td>rohithkumar0955@gmail.com</td><td>WRITE</td><td>Map(mode -> Append, statsOnLoad -> false, partitionBy -> [\"ingest_day\"])</td><td>null</td><td>List(1323301528906842)</td><td>0120-034800-q4ixh8v8</td><td>177</td><td>WriteSerializable</td><td>true</td><td>Map(numFiles -> 1, numOutputRows -> 1500000, numOutputBytes -> 27318413)</td><td>null</td><td>Databricks-Runtime/15.4.x-scala2.12</td></tr><tr><td>177</td><td>2025-08-16T02:58:35Z</td><td>78016171715504</td><td>rohithkumar0955@gmail.com</td><td>WRITE</td><td>Map(mode -> Append, statsOnLoad -> false, partitionBy -> [\"ingest_day\"])</td><td>null</td><td>List(1323301528906842)</td><td>0120-034800-q4ixh8v8</td><td>176</td><td>WriteSerializable</td><td>true</td><td>Map(numFiles -> 1, numOutputRows -> 1500000, numOutputBytes -> 27317670)</td><td>null</td><td>Databricks-Runtime/15.4.x-scala2.12</td></tr><tr><td>176</td><td>2025-08-16T02:58:31Z</td><td>78016171715504</td><td>rohithkumar0955@gmail.com</td><td>WRITE</td><td>Map(mode -> Append, statsOnLoad -> false, partitionBy -> [\"ingest_day\"])</td><td>null</td><td>List(1323301528906842)</td><td>0120-034800-q4ixh8v8</td><td>175</td><td>WriteSerializable</td><td>true</td><td>Map(numFiles -> 1, numOutputRows -> 1500000, numOutputBytes -> 27318410)</td><td>null</td><td>Databricks-Runtime/15.4.x-scala2.12</td></tr><tr><td>175</td><td>2025-08-16T02:58:27Z</td><td>78016171715504</td><td>rohithkumar0955@gmail.com</td><td>WRITE</td><td>Map(mode -> Append, statsOnLoad -> false, partitionBy -> [\"ingest_day\"])</td><td>null</td><td>List(1323301528906842)</td><td>0120-034800-q4ixh8v8</td><td>174</td><td>WriteSerializable</td><td>true</td><td>Map(numFiles -> 1, numOutputRows -> 1500000, numOutputBytes -> 27317702)</td><td>null</td><td>Databricks-Runtime/15.4.x-scala2.12</td></tr><tr><td>174</td><td>2025-08-16T02:58:23Z</td><td>78016171715504</td><td>rohithkumar0955@gmail.com</td><td>WRITE</td><td>Map(mode -> Append, statsOnLoad -> false, partitionBy -> [\"ingest_day\"])</td><td>null</td><td>List(1323301528906842)</td><td>0120-034800-q4ixh8v8</td><td>173</td><td>WriteSerializable</td><td>true</td><td>Map(numFiles -> 1, numOutputRows -> 1500000, numOutputBytes -> 27318404)</td><td>null</td><td>Databricks-Runtime/15.4.x-scala2.12</td></tr><tr><td>173</td><td>2025-08-16T02:58:18Z</td><td>78016171715504</td><td>rohithkumar0955@gmail.com</td><td>WRITE</td><td>Map(mode -> Append, statsOnLoad -> false, partitionBy -> [\"ingest_day\"])</td><td>null</td><td>List(1323301528906842)</td><td>0120-034800-q4ixh8v8</td><td>172</td><td>WriteSerializable</td><td>true</td><td>Map(numFiles -> 1, numOutputRows -> 1500000, numOutputBytes -> 27318410)</td><td>null</td><td>Databricks-Runtime/15.4.x-scala2.12</td></tr><tr><td>172</td><td>2025-08-16T02:58:14Z</td><td>78016171715504</td><td>rohithkumar0955@gmail.com</td><td>WRITE</td><td>Map(mode -> Append, statsOnLoad -> false, partitionBy -> [\"ingest_day\"])</td><td>null</td><td>List(1323301528906842)</td><td>0120-034800-q4ixh8v8</td><td>171</td><td>WriteSerializable</td><td>true</td><td>Map(numFiles -> 1, numOutputRows -> 1500000, numOutputBytes -> 27317703)</td><td>null</td><td>Databricks-Runtime/15.4.x-scala2.12</td></tr><tr><td>171</td><td>2025-08-16T02:58:10Z</td><td>78016171715504</td><td>rohithkumar0955@gmail.com</td><td>WRITE</td><td>Map(mode -> Append, statsOnLoad -> false, partitionBy -> [\"ingest_day\"])</td><td>null</td><td>List(1323301528906842)</td><td>0120-034800-q4ixh8v8</td><td>170</td><td>WriteSerializable</td><td>true</td><td>Map(numFiles -> 1, numOutputRows -> 1500000, numOutputBytes -> 27317695)</td><td>null</td><td>Databricks-Runtime/15.4.x-scala2.12</td></tr><tr><td>170</td><td>2025-08-16T02:58:07Z</td><td>78016171715504</td><td>rohithkumar0955@gmail.com</td><td>WRITE</td><td>Map(mode -> Append, statsOnLoad -> false, partitionBy -> [\"ingest_day\"])</td><td>null</td><td>List(1323301528906842)</td><td>0120-034800-q4ixh8v8</td><td>169</td><td>WriteSerializable</td><td>true</td><td>Map(numFiles -> 1, numOutputRows -> 1500000, numOutputBytes -> 27318397)</td><td>null</td><td>Databricks-Runtime/15.4.x-scala2.12</td></tr><tr><td>169</td><td>2025-08-16T02:58:03Z</td><td>78016171715504</td><td>rohithkumar0955@gmail.com</td><td>WRITE</td><td>Map(mode -> Append, statsOnLoad -> false, partitionBy -> [\"ingest_day\"])</td><td>null</td><td>List(1323301528906842)</td><td>0120-034800-q4ixh8v8</td><td>168</td><td>WriteSerializable</td><td>true</td><td>Map(numFiles -> 1, numOutputRows -> 1500000, numOutputBytes -> 27317672)</td><td>null</td><td>Databricks-Runtime/15.4.x-scala2.12</td></tr><tr><td>168</td><td>2025-08-16T02:57:59Z</td><td>78016171715504</td><td>rohithkumar0955@gmail.com</td><td>WRITE</td><td>Map(mode -> Append, statsOnLoad -> false, partitionBy -> [\"ingest_day\"])</td><td>null</td><td>List(1323301528906842)</td><td>0120-034800-q4ixh8v8</td><td>167</td><td>WriteSerializable</td><td>true</td><td>Map(numFiles -> 1, numOutputRows -> 1500000, numOutputBytes -> 27318410)</td><td>null</td><td>Databricks-Runtime/15.4.x-scala2.12</td></tr><tr><td>167</td><td>2025-08-16T02:57:55Z</td><td>78016171715504</td><td>rohithkumar0955@gmail.com</td><td>WRITE</td><td>Map(mode -> Append, statsOnLoad -> false, partitionBy -> [\"ingest_day\"])</td><td>null</td><td>List(1323301528906842)</td><td>0120-034800-q4ixh8v8</td><td>166</td><td>WriteSerializable</td><td>true</td><td>Map(numFiles -> 1, numOutputRows -> 1500000, numOutputBytes -> 27318404)</td><td>null</td><td>Databricks-Runtime/15.4.x-scala2.12</td></tr><tr><td>166</td><td>2025-08-16T02:57:50Z</td><td>78016171715504</td><td>rohithkumar0955@gmail.com</td><td>WRITE</td><td>Map(mode -> Append, statsOnLoad -> false, partitionBy -> [\"ingest_day\"])</td><td>null</td><td>List(1323301528906842)</td><td>0120-034800-q4ixh8v8</td><td>165</td><td>WriteSerializable</td><td>true</td><td>Map(numFiles -> 1, numOutputRows -> 1500000, numOutputBytes -> 27317704)</td><td>null</td><td>Databricks-Runtime/15.4.x-scala2.12</td></tr><tr><td>165</td><td>2025-08-16T02:57:46Z</td><td>78016171715504</td><td>rohithkumar0955@gmail.com</td><td>WRITE</td><td>Map(mode -> Append, statsOnLoad -> false, partitionBy -> [\"ingest_day\"])</td><td>null</td><td>List(1323301528906842)</td><td>0120-034800-q4ixh8v8</td><td>164</td><td>WriteSerializable</td><td>true</td><td>Map(numFiles -> 1, numOutputRows -> 1500000, numOutputBytes -> 27318415)</td><td>null</td><td>Databricks-Runtime/15.4.x-scala2.12</td></tr><tr><td>164</td><td>2025-08-16T02:57:42Z</td><td>78016171715504</td><td>rohithkumar0955@gmail.com</td><td>WRITE</td><td>Map(mode -> Append, statsOnLoad -> false, partitionBy -> [\"ingest_day\"])</td><td>null</td><td>List(1323301528906842)</td><td>0120-034800-q4ixh8v8</td><td>163</td><td>WriteSerializable</td><td>true</td><td>Map(numFiles -> 1, numOutputRows -> 1500000, numOutputBytes -> 27318415)</td><td>null</td><td>Databricks-Runtime/15.4.x-scala2.12</td></tr><tr><td>163</td><td>2025-08-16T02:57:39Z</td><td>78016171715504</td><td>rohithkumar0955@gmail.com</td><td>WRITE</td><td>Map(mode -> Append, statsOnLoad -> false, partitionBy -> [\"ingest_day\"])</td><td>null</td><td>List(1323301528906842)</td><td>0120-034800-q4ixh8v8</td><td>162</td><td>WriteSerializable</td><td>true</td><td>Map(numFiles -> 1, numOutputRows -> 1500000, numOutputBytes -> 27317698)</td><td>null</td><td>Databricks-Runtime/15.4.x-scala2.12</td></tr><tr><td>162</td><td>2025-08-16T02:57:34Z</td><td>78016171715504</td><td>rohithkumar0955@gmail.com</td><td>WRITE</td><td>Map(mode -> Append, statsOnLoad -> false, partitionBy -> [\"ingest_day\"])</td><td>null</td><td>List(1323301528906842)</td><td>0120-034800-q4ixh8v8</td><td>161</td><td>WriteSerializable</td><td>true</td><td>Map(numFiles -> 1, numOutputRows -> 1500000, numOutputBytes -> 27318405)</td><td>null</td><td>Databricks-Runtime/15.4.x-scala2.12</td></tr><tr><td>161</td><td>2025-08-16T02:57:30Z</td><td>78016171715504</td><td>rohithkumar0955@gmail.com</td><td>WRITE</td><td>Map(mode -> Append, statsOnLoad -> false, partitionBy -> [\"ingest_day\"])</td><td>null</td><td>List(1323301528906842)</td><td>0120-034800-q4ixh8v8</td><td>160</td><td>WriteSerializable</td><td>true</td><td>Map(numFiles -> 1, numOutputRows -> 1500000, numOutputBytes -> 27318414)</td><td>null</td><td>Databricks-Runtime/15.4.x-scala2.12</td></tr><tr><td>160</td><td>2025-08-16T02:57:26Z</td><td>78016171715504</td><td>rohithkumar0955@gmail.com</td><td>WRITE</td><td>Map(mode -> Append, statsOnLoad -> false, partitionBy -> [\"ingest_day\"])</td><td>null</td><td>List(1323301528906842)</td><td>0120-034800-q4ixh8v8</td><td>159</td><td>WriteSerializable</td><td>true</td><td>Map(numFiles -> 1, numOutputRows -> 1500000, numOutputBytes -> 27317708)</td><td>null</td><td>Databricks-Runtime/15.4.x-scala2.12</td></tr><tr><td>159</td><td>2025-08-16T02:57:22Z</td><td>78016171715504</td><td>rohithkumar0955@gmail.com</td><td>WRITE</td><td>Map(mode -> Append, statsOnLoad -> false, partitionBy -> [\"ingest_day\"])</td><td>null</td><td>List(1323301528906842)</td><td>0120-034800-q4ixh8v8</td><td>158</td><td>WriteSerializable</td><td>true</td><td>Map(numFiles -> 1, numOutputRows -> 1500000, numOutputBytes -> 27317706)</td><td>null</td><td>Databricks-Runtime/15.4.x-scala2.12</td></tr><tr><td>158</td><td>2025-08-16T02:57:18Z</td><td>78016171715504</td><td>rohithkumar0955@gmail.com</td><td>WRITE</td><td>Map(mode -> Append, statsOnLoad -> false, partitionBy -> [\"ingest_day\"])</td><td>null</td><td>List(1323301528906842)</td><td>0120-034800-q4ixh8v8</td><td>157</td><td>WriteSerializable</td><td>true</td><td>Map(numFiles -> 1, numOutputRows -> 1500000, numOutputBytes -> 27318410)</td><td>null</td><td>Databricks-Runtime/15.4.x-scala2.12</td></tr><tr><td>157</td><td>2025-08-16T02:57:14Z</td><td>78016171715504</td><td>rohithkumar0955@gmail.com</td><td>WRITE</td><td>Map(mode -> Append, statsOnLoad -> false, partitionBy -> [\"ingest_day\"])</td><td>null</td><td>List(1323301528906842)</td><td>0120-034800-q4ixh8v8</td><td>156</td><td>WriteSerializable</td><td>true</td><td>Map(numFiles -> 1, numOutputRows -> 1500000, numOutputBytes -> 27318404)</td><td>null</td><td>Databricks-Runtime/15.4.x-scala2.12</td></tr><tr><td>156</td><td>2025-08-16T02:57:10Z</td><td>78016171715504</td><td>rohithkumar0955@gmail.com</td><td>WRITE</td><td>Map(mode -> Append, statsOnLoad -> false, partitionBy -> [\"ingest_day\"])</td><td>null</td><td>List(1323301528906842)</td><td>0120-034800-q4ixh8v8</td><td>155</td><td>WriteSerializable</td><td>true</td><td>Map(numFiles -> 1, numOutputRows -> 1500000, numOutputBytes -> 27317699)</td><td>null</td><td>Databricks-Runtime/15.4.x-scala2.12</td></tr><tr><td>155</td><td>2025-08-16T02:57:06Z</td><td>78016171715504</td><td>rohithkumar0955@gmail.com</td><td>WRITE</td><td>Map(mode -> Append, statsOnLoad -> false, partitionBy -> [\"ingest_day\"])</td><td>null</td><td>List(1323301528906842)</td><td>0120-034800-q4ixh8v8</td><td>154</td><td>WriteSerializable</td><td>true</td><td>Map(numFiles -> 1, numOutputRows -> 1500000, numOutputBytes -> 27317709)</td><td>null</td><td>Databricks-Runtime/15.4.x-scala2.12</td></tr><tr><td>154</td><td>2025-08-16T02:57:02Z</td><td>78016171715504</td><td>rohithkumar0955@gmail.com</td><td>WRITE</td><td>Map(mode -> Append, statsOnLoad -> false, partitionBy -> [\"ingest_day\"])</td><td>null</td><td>List(1323301528906842)</td><td>0120-034800-q4ixh8v8</td><td>153</td><td>WriteSerializable</td><td>true</td><td>Map(numFiles -> 1, numOutputRows -> 1500000, numOutputBytes -> 27317706)</td><td>null</td><td>Databricks-Runtime/15.4.x-scala2.12</td></tr><tr><td>153</td><td>2025-08-16T02:56:59Z</td><td>78016171715504</td><td>rohithkumar0955@gmail.com</td><td>WRITE</td><td>Map(mode -> Append, statsOnLoad -> false, partitionBy -> [\"ingest_day\"])</td><td>null</td><td>List(1323301528906842)</td><td>0120-034800-q4ixh8v8</td><td>152</td><td>WriteSerializable</td><td>true</td><td>Map(numFiles -> 1, numOutputRows -> 1500000, numOutputBytes -> 27318405)</td><td>null</td><td>Databricks-Runtime/15.4.x-scala2.12</td></tr><tr><td>152</td><td>2025-08-16T02:56:54Z</td><td>78016171715504</td><td>rohithkumar0955@gmail.com</td><td>WRITE</td><td>Map(mode -> Append, statsOnLoad -> false, partitionBy -> [\"ingest_day\"])</td><td>null</td><td>List(1323301528906842)</td><td>0120-034800-q4ixh8v8</td><td>151</td><td>WriteSerializable</td><td>true</td><td>Map(numFiles -> 1, numOutputRows -> 1500000, numOutputBytes -> 27318404)</td><td>null</td><td>Databricks-Runtime/15.4.x-scala2.12</td></tr><tr><td>151</td><td>2025-08-16T02:56:50Z</td><td>78016171715504</td><td>rohithkumar0955@gmail.com</td><td>WRITE</td><td>Map(mode -> Append, statsOnLoad -> false, partitionBy -> [\"ingest_day\"])</td><td>null</td><td>List(1323301528906842)</td><td>0120-034800-q4ixh8v8</td><td>150</td><td>WriteSerializable</td><td>true</td><td>Map(numFiles -> 1, numOutputRows -> 1500000, numOutputBytes -> 27317678)</td><td>null</td><td>Databricks-Runtime/15.4.x-scala2.12</td></tr><tr><td>150</td><td>2025-08-16T02:56:46Z</td><td>78016171715504</td><td>rohithkumar0955@gmail.com</td><td>WRITE</td><td>Map(mode -> Append, statsOnLoad -> false, partitionBy -> [\"ingest_day\"])</td><td>null</td><td>List(1323301528906842)</td><td>0120-034800-q4ixh8v8</td><td>149</td><td>WriteSerializable</td><td>true</td><td>Map(numFiles -> 1, numOutputRows -> 1500000, numOutputBytes -> 27318405)</td><td>null</td><td>Databricks-Runtime/15.4.x-scala2.12</td></tr><tr><td>149</td><td>2025-08-16T02:56:42Z</td><td>78016171715504</td><td>rohithkumar0955@gmail.com</td><td>WRITE</td><td>Map(mode -> Append, statsOnLoad -> false, partitionBy -> [\"ingest_day\"])</td><td>null</td><td>List(1323301528906842)</td><td>0120-034800-q4ixh8v8</td><td>148</td><td>WriteSerializable</td><td>true</td><td>Map(numFiles -> 1, numOutputRows -> 1500000, numOutputBytes -> 27318411)</td><td>null</td><td>Databricks-Runtime/15.4.x-scala2.12</td></tr><tr><td>148</td><td>2025-08-16T02:56:37Z</td><td>78016171715504</td><td>rohithkumar0955@gmail.com</td><td>WRITE</td><td>Map(mode -> Append, statsOnLoad -> false, partitionBy -> [\"ingest_day\"])</td><td>null</td><td>List(1323301528906842)</td><td>0120-034800-q4ixh8v8</td><td>147</td><td>WriteSerializable</td><td>true</td><td>Map(numFiles -> 1, numOutputRows -> 1500000, numOutputBytes -> 27318415)</td><td>null</td><td>Databricks-Runtime/15.4.x-scala2.12</td></tr><tr><td>147</td><td>2025-08-16T02:56:34Z</td><td>78016171715504</td><td>rohithkumar0955@gmail.com</td><td>WRITE</td><td>Map(mode -> Append, statsOnLoad -> false, partitionBy -> [\"ingest_day\"])</td><td>null</td><td>List(1323301528906842)</td><td>0120-034800-q4ixh8v8</td><td>146</td><td>WriteSerializable</td><td>true</td><td>Map(numFiles -> 1, numOutputRows -> 1500000, numOutputBytes -> 27317684)</td><td>null</td><td>Databricks-Runtime/15.4.x-scala2.12</td></tr><tr><td>146</td><td>2025-08-16T02:56:30Z</td><td>78016171715504</td><td>rohithkumar0955@gmail.com</td><td>WRITE</td><td>Map(mode -> Append, statsOnLoad -> false, partitionBy -> [\"ingest_day\"])</td><td>null</td><td>List(1323301528906842)</td><td>0120-034800-q4ixh8v8</td><td>145</td><td>WriteSerializable</td><td>true</td><td>Map(numFiles -> 1, numOutputRows -> 1500000, numOutputBytes -> 27318414)</td><td>null</td><td>Databricks-Runtime/15.4.x-scala2.12</td></tr><tr><td>145</td><td>2025-08-16T02:56:26Z</td><td>78016171715504</td><td>rohithkumar0955@gmail.com</td><td>WRITE</td><td>Map(mode -> Append, statsOnLoad -> false, partitionBy -> [\"ingest_day\"])</td><td>null</td><td>List(1323301528906842)</td><td>0120-034800-q4ixh8v8</td><td>144</td><td>WriteSerializable</td><td>true</td><td>Map(numFiles -> 1, numOutputRows -> 1500000, numOutputBytes -> 27317690)</td><td>null</td><td>Databricks-Runtime/15.4.x-scala2.12</td></tr><tr><td>144</td><td>2025-08-16T02:56:22Z</td><td>78016171715504</td><td>rohithkumar0955@gmail.com</td><td>WRITE</td><td>Map(mode -> Append, statsOnLoad -> false, partitionBy -> [\"ingest_day\"])</td><td>null</td><td>List(1323301528906842)</td><td>0120-034800-q4ixh8v8</td><td>143</td><td>WriteSerializable</td><td>true</td><td>Map(numFiles -> 1, numOutputRows -> 1500000, numOutputBytes -> 27318398)</td><td>null</td><td>Databricks-Runtime/15.4.x-scala2.12</td></tr><tr><td>143</td><td>2025-08-16T02:56:18Z</td><td>78016171715504</td><td>rohithkumar0955@gmail.com</td><td>WRITE</td><td>Map(mode -> Append, statsOnLoad -> false, partitionBy -> [\"ingest_day\"])</td><td>null</td><td>List(1323301528906842)</td><td>0120-034800-q4ixh8v8</td><td>142</td><td>WriteSerializable</td><td>true</td><td>Map(numFiles -> 1, numOutputRows -> 1500000, numOutputBytes -> 27317704)</td><td>null</td><td>Databricks-Runtime/15.4.x-scala2.12</td></tr><tr><td>142</td><td>2025-08-16T02:56:14Z</td><td>78016171715504</td><td>rohithkumar0955@gmail.com</td><td>WRITE</td><td>Map(mode -> Append, statsOnLoad -> false, partitionBy -> [\"ingest_day\"])</td><td>null</td><td>List(1323301528906842)</td><td>0120-034800-q4ixh8v8</td><td>141</td><td>WriteSerializable</td><td>true</td><td>Map(numFiles -> 1, numOutputRows -> 1500000, numOutputBytes -> 27317703)</td><td>null</td><td>Databricks-Runtime/15.4.x-scala2.12</td></tr><tr><td>141</td><td>2025-08-16T02:56:10Z</td><td>78016171715504</td><td>rohithkumar0955@gmail.com</td><td>WRITE</td><td>Map(mode -> Append, statsOnLoad -> false, partitionBy -> [\"ingest_day\"])</td><td>null</td><td>List(1323301528906842)</td><td>0120-034800-q4ixh8v8</td><td>140</td><td>WriteSerializable</td><td>true</td><td>Map(numFiles -> 1, numOutputRows -> 1500000, numOutputBytes -> 27317709)</td><td>null</td><td>Databricks-Runtime/15.4.x-scala2.12</td></tr><tr><td>140</td><td>2025-08-16T02:56:06Z</td><td>78016171715504</td><td>rohithkumar0955@gmail.com</td><td>WRITE</td><td>Map(mode -> Append, statsOnLoad -> false, partitionBy -> [\"ingest_day\"])</td><td>null</td><td>List(1323301528906842)</td><td>0120-034800-q4ixh8v8</td><td>139</td><td>WriteSerializable</td><td>true</td><td>Map(numFiles -> 1, numOutputRows -> 1500000, numOutputBytes -> 27318400)</td><td>null</td><td>Databricks-Runtime/15.4.x-scala2.12</td></tr><tr><td>139</td><td>2025-08-16T02:56:02Z</td><td>78016171715504</td><td>rohithkumar0955@gmail.com</td><td>WRITE</td><td>Map(mode -> Append, statsOnLoad -> false, partitionBy -> [\"ingest_day\"])</td><td>null</td><td>List(1323301528906842)</td><td>0120-034800-q4ixh8v8</td><td>138</td><td>WriteSerializable</td><td>true</td><td>Map(numFiles -> 1, numOutputRows -> 1500000, numOutputBytes -> 27317682)</td><td>null</td><td>Databricks-Runtime/15.4.x-scala2.12</td></tr><tr><td>138</td><td>2025-08-16T02:55:57Z</td><td>78016171715504</td><td>rohithkumar0955@gmail.com</td><td>WRITE</td><td>Map(mode -> Append, statsOnLoad -> false, partitionBy -> [\"ingest_day\"])</td><td>null</td><td>List(1323301528906842)</td><td>0120-034800-q4ixh8v8</td><td>137</td><td>WriteSerializable</td><td>true</td><td>Map(numFiles -> 1, numOutputRows -> 1500000, numOutputBytes -> 27318412)</td><td>null</td><td>Databricks-Runtime/15.4.x-scala2.12</td></tr><tr><td>137</td><td>2025-08-16T02:55:53Z</td><td>78016171715504</td><td>rohithkumar0955@gmail.com</td><td>WRITE</td><td>Map(mode -> Append, statsOnLoad -> false, partitionBy -> [\"ingest_day\"])</td><td>null</td><td>List(1323301528906842)</td><td>0120-034800-q4ixh8v8</td><td>136</td><td>WriteSerializable</td><td>true</td><td>Map(numFiles -> 1, numOutputRows -> 1500000, numOutputBytes -> 27318405)</td><td>null</td><td>Databricks-Runtime/15.4.x-scala2.12</td></tr><tr><td>136</td><td>2025-08-16T02:55:48Z</td><td>78016171715504</td><td>rohithkumar0955@gmail.com</td><td>WRITE</td><td>Map(mode -> Append, statsOnLoad -> false, partitionBy -> [\"ingest_day\"])</td><td>null</td><td>List(1323301528906842)</td><td>0120-034800-q4ixh8v8</td><td>135</td><td>WriteSerializable</td><td>true</td><td>Map(numFiles -> 1, numOutputRows -> 1500000, numOutputBytes -> 27318409)</td><td>null</td><td>Databricks-Runtime/15.4.x-scala2.12</td></tr><tr><td>135</td><td>2025-08-16T02:55:44Z</td><td>78016171715504</td><td>rohithkumar0955@gmail.com</td><td>WRITE</td><td>Map(mode -> Append, statsOnLoad -> false, partitionBy -> [\"ingest_day\"])</td><td>null</td><td>List(1323301528906842)</td><td>0120-034800-q4ixh8v8</td><td>134</td><td>WriteSerializable</td><td>true</td><td>Map(numFiles -> 1, numOutputRows -> 1500000, numOutputBytes -> 27318416)</td><td>null</td><td>Databricks-Runtime/15.4.x-scala2.12</td></tr><tr><td>134</td><td>2025-08-16T02:55:40Z</td><td>78016171715504</td><td>rohithkumar0955@gmail.com</td><td>WRITE</td><td>Map(mode -> Append, statsOnLoad -> false, partitionBy -> [\"ingest_day\"])</td><td>null</td><td>List(1323301528906842)</td><td>0120-034800-q4ixh8v8</td><td>133</td><td>WriteSerializable</td><td>true</td><td>Map(numFiles -> 1, numOutputRows -> 1500000, numOutputBytes -> 27318408)</td><td>null</td><td>Databricks-Runtime/15.4.x-scala2.12</td></tr><tr><td>133</td><td>2025-08-16T02:55:36Z</td><td>78016171715504</td><td>rohithkumar0955@gmail.com</td><td>WRITE</td><td>Map(mode -> Append, statsOnLoad -> false, partitionBy -> [\"ingest_day\"])</td><td>null</td><td>List(1323301528906842)</td><td>0120-034800-q4ixh8v8</td><td>132</td><td>WriteSerializable</td><td>true</td><td>Map(numFiles -> 1, numOutputRows -> 1500000, numOutputBytes -> 27318405)</td><td>null</td><td>Databricks-Runtime/15.4.x-scala2.12</td></tr><tr><td>132</td><td>2025-08-16T02:55:31Z</td><td>78016171715504</td><td>rohithkumar0955@gmail.com</td><td>WRITE</td><td>Map(mode -> Append, statsOnLoad -> false, partitionBy -> [\"ingest_day\"])</td><td>null</td><td>List(1323301528906842)</td><td>0120-034800-q4ixh8v8</td><td>131</td><td>WriteSerializable</td><td>true</td><td>Map(numFiles -> 1, numOutputRows -> 1500000, numOutputBytes -> 27318408)</td><td>null</td><td>Databricks-Runtime/15.4.x-scala2.12</td></tr><tr><td>131</td><td>2025-08-16T02:55:27Z</td><td>78016171715504</td><td>rohithkumar0955@gmail.com</td><td>WRITE</td><td>Map(mode -> Append, statsOnLoad -> false, partitionBy -> [\"ingest_day\"])</td><td>null</td><td>List(1323301528906842)</td><td>0120-034800-q4ixh8v8</td><td>130</td><td>WriteSerializable</td><td>true</td><td>Map(numFiles -> 1, numOutputRows -> 1500000, numOutputBytes -> 27318405)</td><td>null</td><td>Databricks-Runtime/15.4.x-scala2.12</td></tr><tr><td>130</td><td>2025-08-16T02:55:23Z</td><td>78016171715504</td><td>rohithkumar0955@gmail.com</td><td>WRITE</td><td>Map(mode -> Append, statsOnLoad -> false, partitionBy -> [\"ingest_day\"])</td><td>null</td><td>List(1323301528906842)</td><td>0120-034800-q4ixh8v8</td><td>129</td><td>WriteSerializable</td><td>true</td><td>Map(numFiles -> 1, numOutputRows -> 1500000, numOutputBytes -> 27317677)</td><td>null</td><td>Databricks-Runtime/15.4.x-scala2.12</td></tr><tr><td>129</td><td>2025-08-16T02:55:20Z</td><td>78016171715504</td><td>rohithkumar0955@gmail.com</td><td>WRITE</td><td>Map(mode -> Append, statsOnLoad -> false, partitionBy -> [\"ingest_day\"])</td><td>null</td><td>List(1323301528906842)</td><td>0120-034800-q4ixh8v8</td><td>128</td><td>WriteSerializable</td><td>true</td><td>Map(numFiles -> 1, numOutputRows -> 1500000, numOutputBytes -> 27318404)</td><td>null</td><td>Databricks-Runtime/15.4.x-scala2.12</td></tr><tr><td>128</td><td>2025-08-16T02:55:15Z</td><td>78016171715504</td><td>rohithkumar0955@gmail.com</td><td>WRITE</td><td>Map(mode -> Append, statsOnLoad -> false, partitionBy -> [\"ingest_day\"])</td><td>null</td><td>List(1323301528906842)</td><td>0120-034800-q4ixh8v8</td><td>127</td><td>WriteSerializable</td><td>true</td><td>Map(numFiles -> 1, numOutputRows -> 1500000, numOutputBytes -> 27317702)</td><td>null</td><td>Databricks-Runtime/15.4.x-scala2.12</td></tr><tr><td>127</td><td>2025-08-16T02:55:11Z</td><td>78016171715504</td><td>rohithkumar0955@gmail.com</td><td>WRITE</td><td>Map(mode -> Append, statsOnLoad -> false, partitionBy -> [\"ingest_day\"])</td><td>null</td><td>List(1323301528906842)</td><td>0120-034800-q4ixh8v8</td><td>126</td><td>WriteSerializable</td><td>true</td><td>Map(numFiles -> 1, numOutputRows -> 1500000, numOutputBytes -> 27318410)</td><td>null</td><td>Databricks-Runtime/15.4.x-scala2.12</td></tr><tr><td>126</td><td>2025-08-16T02:55:07Z</td><td>78016171715504</td><td>rohithkumar0955@gmail.com</td><td>WRITE</td><td>Map(mode -> Append, statsOnLoad -> false, partitionBy -> [\"ingest_day\"])</td><td>null</td><td>List(1323301528906842)</td><td>0120-034800-q4ixh8v8</td><td>125</td><td>WriteSerializable</td><td>true</td><td>Map(numFiles -> 1, numOutputRows -> 1500000, numOutputBytes -> 27318413)</td><td>null</td><td>Databricks-Runtime/15.4.x-scala2.12</td></tr><tr><td>125</td><td>2025-08-16T02:55:04Z</td><td>78016171715504</td><td>rohithkumar0955@gmail.com</td><td>WRITE</td><td>Map(mode -> Append, statsOnLoad -> false, partitionBy -> [\"ingest_day\"])</td><td>null</td><td>List(1323301528906842)</td><td>0120-034800-q4ixh8v8</td><td>124</td><td>WriteSerializable</td><td>true</td><td>Map(numFiles -> 1, numOutputRows -> 1500000, numOutputBytes -> 27318400)</td><td>null</td><td>Databricks-Runtime/15.4.x-scala2.12</td></tr><tr><td>124</td><td>2025-08-16T02:55:00Z</td><td>78016171715504</td><td>rohithkumar0955@gmail.com</td><td>WRITE</td><td>Map(mode -> Append, statsOnLoad -> false, partitionBy -> [\"ingest_day\"])</td><td>null</td><td>List(1323301528906842)</td><td>0120-034800-q4ixh8v8</td><td>123</td><td>WriteSerializable</td><td>true</td><td>Map(numFiles -> 1, numOutputRows -> 1500000, numOutputBytes -> 27318417)</td><td>null</td><td>Databricks-Runtime/15.4.x-scala2.12</td></tr><tr><td>123</td><td>2025-08-16T02:54:54Z</td><td>78016171715504</td><td>rohithkumar0955@gmail.com</td><td>WRITE</td><td>Map(mode -> Append, statsOnLoad -> false, partitionBy -> [\"ingest_day\"])</td><td>null</td><td>List(1323301528906842)</td><td>0120-034800-q4ixh8v8</td><td>122</td><td>WriteSerializable</td><td>true</td><td>Map(numFiles -> 1, numOutputRows -> 1500000, numOutputBytes -> 27317705)</td><td>null</td><td>Databricks-Runtime/15.4.x-scala2.12</td></tr><tr><td>122</td><td>2025-08-16T02:54:50Z</td><td>78016171715504</td><td>rohithkumar0955@gmail.com</td><td>WRITE</td><td>Map(mode -> Append, statsOnLoad -> false, partitionBy -> [\"ingest_day\"])</td><td>null</td><td>List(1323301528906842)</td><td>0120-034800-q4ixh8v8</td><td>121</td><td>WriteSerializable</td><td>true</td><td>Map(numFiles -> 1, numOutputRows -> 1500000, numOutputBytes -> 27318409)</td><td>null</td><td>Databricks-Runtime/15.4.x-scala2.12</td></tr><tr><td>121</td><td>2025-08-16T02:54:46Z</td><td>78016171715504</td><td>rohithkumar0955@gmail.com</td><td>WRITE</td><td>Map(mode -> Append, statsOnLoad -> false, partitionBy -> [\"ingest_day\"])</td><td>null</td><td>List(1323301528906842)</td><td>0120-034800-q4ixh8v8</td><td>120</td><td>WriteSerializable</td><td>true</td><td>Map(numFiles -> 1, numOutputRows -> 1500000, numOutputBytes -> 25241778)</td><td>null</td><td>Databricks-Runtime/15.4.x-scala2.12</td></tr><tr><td>120</td><td>2025-08-16T02:54:42Z</td><td>78016171715504</td><td>rohithkumar0955@gmail.com</td><td>WRITE</td><td>Map(mode -> Append, statsOnLoad -> false, partitionBy -> [\"ingest_day\"])</td><td>null</td><td>List(1323301528906842)</td><td>0120-034800-q4ixh8v8</td><td>119</td><td>WriteSerializable</td><td>true</td><td>Map(numFiles -> 1, numOutputRows -> 1500000, numOutputBytes -> 27317688)</td><td>null</td><td>Databricks-Runtime/15.4.x-scala2.12</td></tr><tr><td>119</td><td>2025-08-16T02:54:38Z</td><td>78016171715504</td><td>rohithkumar0955@gmail.com</td><td>WRITE</td><td>Map(mode -> Append, statsOnLoad -> false, partitionBy -> [\"ingest_day\"])</td><td>null</td><td>List(1323301528906842)</td><td>0120-034800-q4ixh8v8</td><td>118</td><td>WriteSerializable</td><td>true</td><td>Map(numFiles -> 1, numOutputRows -> 1500000, numOutputBytes -> 27317715)</td><td>null</td><td>Databricks-Runtime/15.4.x-scala2.12</td></tr><tr><td>118</td><td>2025-08-16T02:54:34Z</td><td>78016171715504</td><td>rohithkumar0955@gmail.com</td><td>WRITE</td><td>Map(mode -> Append, statsOnLoad -> false, partitionBy -> [\"ingest_day\"])</td><td>null</td><td>List(1323301528906842)</td><td>0120-034800-q4ixh8v8</td><td>117</td><td>WriteSerializable</td><td>true</td><td>Map(numFiles -> 1, numOutputRows -> 1500000, numOutputBytes -> 27318413)</td><td>null</td><td>Databricks-Runtime/15.4.x-scala2.12</td></tr><tr><td>117</td><td>2025-08-16T02:54:29Z</td><td>78016171715504</td><td>rohithkumar0955@gmail.com</td><td>WRITE</td><td>Map(mode -> Append, statsOnLoad -> false, partitionBy -> [\"ingest_day\"])</td><td>null</td><td>List(1323301528906842)</td><td>0120-034800-q4ixh8v8</td><td>116</td><td>WriteSerializable</td><td>true</td><td>Map(numFiles -> 1, numOutputRows -> 1500000, numOutputBytes -> 27318411)</td><td>null</td><td>Databricks-Runtime/15.4.x-scala2.12</td></tr><tr><td>116</td><td>2025-08-16T02:54:26Z</td><td>78016171715504</td><td>rohithkumar0955@gmail.com</td><td>WRITE</td><td>Map(mode -> Append, statsOnLoad -> false, partitionBy -> [\"ingest_day\"])</td><td>null</td><td>List(1323301528906842)</td><td>0120-034800-q4ixh8v8</td><td>115</td><td>WriteSerializable</td><td>true</td><td>Map(numFiles -> 1, numOutputRows -> 1500000, numOutputBytes -> 27317686)</td><td>null</td><td>Databricks-Runtime/15.4.x-scala2.12</td></tr><tr><td>115</td><td>2025-08-16T02:54:22Z</td><td>78016171715504</td><td>rohithkumar0955@gmail.com</td><td>WRITE</td><td>Map(mode -> Append, statsOnLoad -> false, partitionBy -> [\"ingest_day\"])</td><td>null</td><td>List(1323301528906842)</td><td>0120-034800-q4ixh8v8</td><td>114</td><td>WriteSerializable</td><td>true</td><td>Map(numFiles -> 1, numOutputRows -> 1500000, numOutputBytes -> 27318409)</td><td>null</td><td>Databricks-Runtime/15.4.x-scala2.12</td></tr><tr><td>114</td><td>2025-08-16T02:54:18Z</td><td>78016171715504</td><td>rohithkumar0955@gmail.com</td><td>WRITE</td><td>Map(mode -> Append, statsOnLoad -> false, partitionBy -> [\"ingest_day\"])</td><td>null</td><td>List(1323301528906842)</td><td>0120-034800-q4ixh8v8</td><td>113</td><td>WriteSerializable</td><td>true</td><td>Map(numFiles -> 1, numOutputRows -> 1500000, numOutputBytes -> 27318412)</td><td>null</td><td>Databricks-Runtime/15.4.x-scala2.12</td></tr><tr><td>113</td><td>2025-08-16T02:54:14Z</td><td>78016171715504</td><td>rohithkumar0955@gmail.com</td><td>WRITE</td><td>Map(mode -> Append, statsOnLoad -> false, partitionBy -> [\"ingest_day\"])</td><td>null</td><td>List(1323301528906842)</td><td>0120-034800-q4ixh8v8</td><td>112</td><td>WriteSerializable</td><td>true</td><td>Map(numFiles -> 1, numOutputRows -> 1500000, numOutputBytes -> 27318407)</td><td>null</td><td>Databricks-Runtime/15.4.x-scala2.12</td></tr><tr><td>112</td><td>2025-08-16T02:54:10Z</td><td>78016171715504</td><td>rohithkumar0955@gmail.com</td><td>WRITE</td><td>Map(mode -> Append, statsOnLoad -> false, partitionBy -> [\"ingest_day\"])</td><td>null</td><td>List(1323301528906842)</td><td>0120-034800-q4ixh8v8</td><td>111</td><td>WriteSerializable</td><td>true</td><td>Map(numFiles -> 1, numOutputRows -> 1500000, numOutputBytes -> 27318403)</td><td>null</td><td>Databricks-Runtime/15.4.x-scala2.12</td></tr><tr><td>111</td><td>2025-08-16T02:54:06Z</td><td>78016171715504</td><td>rohithkumar0955@gmail.com</td><td>WRITE</td><td>Map(mode -> Append, statsOnLoad -> false, partitionBy -> [\"ingest_day\"])</td><td>null</td><td>List(1323301528906842)</td><td>0120-034800-q4ixh8v8</td><td>110</td><td>WriteSerializable</td><td>true</td><td>Map(numFiles -> 1, numOutputRows -> 1500000, numOutputBytes -> 27318403)</td><td>null</td><td>Databricks-Runtime/15.4.x-scala2.12</td></tr><tr><td>110</td><td>2025-08-16T02:54:02Z</td><td>78016171715504</td><td>rohithkumar0955@gmail.com</td><td>WRITE</td><td>Map(mode -> Append, statsOnLoad -> false, partitionBy -> [\"ingest_day\"])</td><td>null</td><td>List(1323301528906842)</td><td>0120-034800-q4ixh8v8</td><td>109</td><td>WriteSerializable</td><td>true</td><td>Map(numFiles -> 1, numOutputRows -> 1500000, numOutputBytes -> 27318408)</td><td>null</td><td>Databricks-Runtime/15.4.x-scala2.12</td></tr><tr><td>109</td><td>2025-08-16T02:53:57Z</td><td>78016171715504</td><td>rohithkumar0955@gmail.com</td><td>WRITE</td><td>Map(mode -> Append, statsOnLoad -> false, partitionBy -> [\"ingest_day\"])</td><td>null</td><td>List(1323301528906842)</td><td>0120-034800-q4ixh8v8</td><td>108</td><td>WriteSerializable</td><td>true</td><td>Map(numFiles -> 1, numOutputRows -> 1500000, numOutputBytes -> 27318405)</td><td>null</td><td>Databricks-Runtime/15.4.x-scala2.12</td></tr><tr><td>108</td><td>2025-08-16T02:53:53Z</td><td>78016171715504</td><td>rohithkumar0955@gmail.com</td><td>WRITE</td><td>Map(mode -> Append, statsOnLoad -> false, partitionBy -> [\"ingest_day\"])</td><td>null</td><td>List(1323301528906842)</td><td>0120-034800-q4ixh8v8</td><td>107</td><td>WriteSerializable</td><td>true</td><td>Map(numFiles -> 1, numOutputRows -> 1500000, numOutputBytes -> 27317672)</td><td>null</td><td>Databricks-Runtime/15.4.x-scala2.12</td></tr><tr><td>107</td><td>2025-08-16T02:53:49Z</td><td>78016171715504</td><td>rohithkumar0955@gmail.com</td><td>WRITE</td><td>Map(mode -> Append, statsOnLoad -> false, partitionBy -> [\"ingest_day\"])</td><td>null</td><td>List(1323301528906842)</td><td>0120-034800-q4ixh8v8</td><td>106</td><td>WriteSerializable</td><td>true</td><td>Map(numFiles -> 1, numOutputRows -> 1500000, numOutputBytes -> 27317691)</td><td>null</td><td>Databricks-Runtime/15.4.x-scala2.12</td></tr><tr><td>106</td><td>2025-08-16T02:53:45Z</td><td>78016171715504</td><td>rohithkumar0955@gmail.com</td><td>WRITE</td><td>Map(mode -> Append, statsOnLoad -> false, partitionBy -> [\"ingest_day\"])</td><td>null</td><td>List(1323301528906842)</td><td>0120-034800-q4ixh8v8</td><td>105</td><td>WriteSerializable</td><td>true</td><td>Map(numFiles -> 1, numOutputRows -> 1500000, numOutputBytes -> 27317675)</td><td>null</td><td>Databricks-Runtime/15.4.x-scala2.12</td></tr><tr><td>105</td><td>2025-08-16T02:53:40Z</td><td>78016171715504</td><td>rohithkumar0955@gmail.com</td><td>WRITE</td><td>Map(mode -> Append, statsOnLoad -> false, partitionBy -> [\"ingest_day\"])</td><td>null</td><td>List(1323301528906842)</td><td>0120-034800-q4ixh8v8</td><td>104</td><td>WriteSerializable</td><td>true</td><td>Map(numFiles -> 1, numOutputRows -> 1500000, numOutputBytes -> 27317705)</td><td>null</td><td>Databricks-Runtime/15.4.x-scala2.12</td></tr><tr><td>104</td><td>2025-08-16T02:53:37Z</td><td>78016171715504</td><td>rohithkumar0955@gmail.com</td><td>WRITE</td><td>Map(mode -> Append, statsOnLoad -> false, partitionBy -> [\"ingest_day\"])</td><td>null</td><td>List(1323301528906842)</td><td>0120-034800-q4ixh8v8</td><td>103</td><td>WriteSerializable</td><td>true</td><td>Map(numFiles -> 1, numOutputRows -> 1500000, numOutputBytes -> 27317705)</td><td>null</td><td>Databricks-Runtime/15.4.x-scala2.12</td></tr><tr><td>103</td><td>2025-08-16T02:53:32Z</td><td>78016171715504</td><td>rohithkumar0955@gmail.com</td><td>WRITE</td><td>Map(mode -> Append, statsOnLoad -> false, partitionBy -> [\"ingest_day\"])</td><td>null</td><td>List(1323301528906842)</td><td>0120-034800-q4ixh8v8</td><td>102</td><td>WriteSerializable</td><td>true</td><td>Map(numFiles -> 1, numOutputRows -> 1500000, numOutputBytes -> 27318408)</td><td>null</td><td>Databricks-Runtime/15.4.x-scala2.12</td></tr><tr><td>102</td><td>2025-08-16T02:53:28Z</td><td>78016171715504</td><td>rohithkumar0955@gmail.com</td><td>WRITE</td><td>Map(mode -> Append, statsOnLoad -> false, partitionBy -> [\"ingest_day\"])</td><td>null</td><td>List(1323301528906842)</td><td>0120-034800-q4ixh8v8</td><td>101</td><td>WriteSerializable</td><td>true</td><td>Map(numFiles -> 1, numOutputRows -> 1500000, numOutputBytes -> 27317702)</td><td>null</td><td>Databricks-Runtime/15.4.x-scala2.12</td></tr><tr><td>101</td><td>2025-08-16T02:53:25Z</td><td>78016171715504</td><td>rohithkumar0955@gmail.com</td><td>WRITE</td><td>Map(mode -> Append, statsOnLoad -> false, partitionBy -> [\"ingest_day\"])</td><td>null</td><td>List(1323301528906842)</td><td>0120-034800-q4ixh8v8</td><td>100</td><td>WriteSerializable</td><td>true</td><td>Map(numFiles -> 1, numOutputRows -> 1500000, numOutputBytes -> 27318410)</td><td>null</td><td>Databricks-Runtime/15.4.x-scala2.12</td></tr><tr><td>100</td><td>2025-08-16T02:53:20Z</td><td>78016171715504</td><td>rohithkumar0955@gmail.com</td><td>WRITE</td><td>Map(mode -> Append, statsOnLoad -> false, partitionBy -> [\"ingest_day\"])</td><td>null</td><td>List(1323301528906842)</td><td>0120-034800-q4ixh8v8</td><td>99</td><td>WriteSerializable</td><td>true</td><td>Map(numFiles -> 1, numOutputRows -> 1500000, numOutputBytes -> 27318405)</td><td>null</td><td>Databricks-Runtime/15.4.x-scala2.12</td></tr><tr><td>99</td><td>2025-08-16T02:53:15Z</td><td>78016171715504</td><td>rohithkumar0955@gmail.com</td><td>WRITE</td><td>Map(mode -> Append, statsOnLoad -> false, partitionBy -> [\"ingest_day\"])</td><td>null</td><td>List(1323301528906842)</td><td>0120-034800-q4ixh8v8</td><td>98</td><td>WriteSerializable</td><td>true</td><td>Map(numFiles -> 1, numOutputRows -> 1500000, numOutputBytes -> 27318406)</td><td>null</td><td>Databricks-Runtime/15.4.x-scala2.12</td></tr><tr><td>98</td><td>2025-08-16T02:53:11Z</td><td>78016171715504</td><td>rohithkumar0955@gmail.com</td><td>WRITE</td><td>Map(mode -> Append, statsOnLoad -> false, partitionBy -> [\"ingest_day\"])</td><td>null</td><td>List(1323301528906842)</td><td>0120-034800-q4ixh8v8</td><td>97</td><td>WriteSerializable</td><td>true</td><td>Map(numFiles -> 1, numOutputRows -> 1500000, numOutputBytes -> 27318405)</td><td>null</td><td>Databricks-Runtime/15.4.x-scala2.12</td></tr><tr><td>97</td><td>2025-08-16T02:53:07Z</td><td>78016171715504</td><td>rohithkumar0955@gmail.com</td><td>WRITE</td><td>Map(mode -> Append, statsOnLoad -> false, partitionBy -> [\"ingest_day\"])</td><td>null</td><td>List(1323301528906842)</td><td>0120-034800-q4ixh8v8</td><td>96</td><td>WriteSerializable</td><td>true</td><td>Map(numFiles -> 1, numOutputRows -> 1500000, numOutputBytes -> 27317691)</td><td>null</td><td>Databricks-Runtime/15.4.x-scala2.12</td></tr><tr><td>96</td><td>2025-08-16T02:53:02Z</td><td>78016171715504</td><td>rohithkumar0955@gmail.com</td><td>WRITE</td><td>Map(mode -> Append, statsOnLoad -> false, partitionBy -> [\"ingest_day\"])</td><td>null</td><td>List(1323301528906842)</td><td>0120-034800-q4ixh8v8</td><td>95</td><td>WriteSerializable</td><td>true</td><td>Map(numFiles -> 1, numOutputRows -> 1500000, numOutputBytes -> 27318402)</td><td>null</td><td>Databricks-Runtime/15.4.x-scala2.12</td></tr><tr><td>95</td><td>2025-08-16T02:52:58Z</td><td>78016171715504</td><td>rohithkumar0955@gmail.com</td><td>WRITE</td><td>Map(mode -> Append, statsOnLoad -> false, partitionBy -> [\"ingest_day\"])</td><td>null</td><td>List(1323301528906842)</td><td>0120-034800-q4ixh8v8</td><td>94</td><td>WriteSerializable</td><td>true</td><td>Map(numFiles -> 1, numOutputRows -> 1500000, numOutputBytes -> 27317710)</td><td>null</td><td>Databricks-Runtime/15.4.x-scala2.12</td></tr><tr><td>94</td><td>2025-08-16T02:52:52Z</td><td>78016171715504</td><td>rohithkumar0955@gmail.com</td><td>WRITE</td><td>Map(mode -> Append, statsOnLoad -> false, partitionBy -> [\"ingest_day\"])</td><td>null</td><td>List(1323301528906842)</td><td>0120-034800-q4ixh8v8</td><td>93</td><td>WriteSerializable</td><td>true</td><td>Map(numFiles -> 1, numOutputRows -> 1500000, numOutputBytes -> 27318405)</td><td>null</td><td>Databricks-Runtime/15.4.x-scala2.12</td></tr><tr><td>93</td><td>2025-08-16T01:19:39Z</td><td>78016171715504</td><td>rohithkumar0955@gmail.com</td><td>WRITE</td><td>Map(mode -> Append, statsOnLoad -> false, partitionBy -> [\"ingest_day\"])</td><td>null</td><td>List(1323301528906842)</td><td>0120-034800-q4ixh8v8</td><td>92</td><td>WriteSerializable</td><td>true</td><td>Map(numFiles -> 1, numOutputRows -> 1500000, numOutputBytes -> 27318411)</td><td>null</td><td>Databricks-Runtime/15.4.x-scala2.12</td></tr><tr><td>92</td><td>2025-08-16T01:19:35Z</td><td>78016171715504</td><td>rohithkumar0955@gmail.com</td><td>WRITE</td><td>Map(mode -> Append, statsOnLoad -> false, partitionBy -> [\"ingest_day\"])</td><td>null</td><td>List(1323301528906842)</td><td>0120-034800-q4ixh8v8</td><td>91</td><td>WriteSerializable</td><td>true</td><td>Map(numFiles -> 1, numOutputRows -> 1500000, numOutputBytes -> 27318408)</td><td>null</td><td>Databricks-Runtime/15.4.x-scala2.12</td></tr><tr><td>91</td><td>2025-08-16T01:19:30Z</td><td>78016171715504</td><td>rohithkumar0955@gmail.com</td><td>WRITE</td><td>Map(mode -> Append, statsOnLoad -> false, partitionBy -> [\"ingest_day\"])</td><td>null</td><td>List(1323301528906842)</td><td>0120-034800-q4ixh8v8</td><td>90</td><td>WriteSerializable</td><td>true</td><td>Map(numFiles -> 1, numOutputRows -> 1500000, numOutputBytes -> 27317680)</td><td>null</td><td>Databricks-Runtime/15.4.x-scala2.12</td></tr><tr><td>90</td><td>2025-08-16T01:19:26Z</td><td>78016171715504</td><td>rohithkumar0955@gmail.com</td><td>WRITE</td><td>Map(mode -> Append, statsOnLoad -> false, partitionBy -> [\"ingest_day\"])</td><td>null</td><td>List(1323301528906842)</td><td>0120-034800-q4ixh8v8</td><td>89</td><td>WriteSerializable</td><td>true</td><td>Map(numFiles -> 1, numOutputRows -> 1500000, numOutputBytes -> 27317704)</td><td>null</td><td>Databricks-Runtime/15.4.x-scala2.12</td></tr><tr><td>89</td><td>2025-08-16T01:19:22Z</td><td>78016171715504</td><td>rohithkumar0955@gmail.com</td><td>WRITE</td><td>Map(mode -> Append, statsOnLoad -> false, partitionBy -> [\"ingest_day\"])</td><td>null</td><td>List(1323301528906842)</td><td>0120-034800-q4ixh8v8</td><td>88</td><td>WriteSerializable</td><td>true</td><td>Map(numFiles -> 1, numOutputRows -> 1500000, numOutputBytes -> 27317703)</td><td>null</td><td>Databricks-Runtime/15.4.x-scala2.12</td></tr><tr><td>88</td><td>2025-08-16T01:19:18Z</td><td>78016171715504</td><td>rohithkumar0955@gmail.com</td><td>WRITE</td><td>Map(mode -> Append, statsOnLoad -> false, partitionBy -> [\"ingest_day\"])</td><td>null</td><td>List(1323301528906842)</td><td>0120-034800-q4ixh8v8</td><td>87</td><td>WriteSerializable</td><td>true</td><td>Map(numFiles -> 1, numOutputRows -> 1500000, numOutputBytes -> 27317701)</td><td>null</td><td>Databricks-Runtime/15.4.x-scala2.12</td></tr><tr><td>87</td><td>2025-08-16T01:19:14Z</td><td>78016171715504</td><td>rohithkumar0955@gmail.com</td><td>WRITE</td><td>Map(mode -> Append, statsOnLoad -> false, partitionBy -> [\"ingest_day\"])</td><td>null</td><td>List(1323301528906842)</td><td>0120-034800-q4ixh8v8</td><td>86</td><td>WriteSerializable</td><td>true</td><td>Map(numFiles -> 1, numOutputRows -> 1500000, numOutputBytes -> 27317704)</td><td>null</td><td>Databricks-Runtime/15.4.x-scala2.12</td></tr><tr><td>86</td><td>2025-08-16T01:19:10Z</td><td>78016171715504</td><td>rohithkumar0955@gmail.com</td><td>WRITE</td><td>Map(mode -> Append, statsOnLoad -> false, partitionBy -> [\"ingest_day\"])</td><td>null</td><td>List(1323301528906842)</td><td>0120-034800-q4ixh8v8</td><td>85</td><td>WriteSerializable</td><td>true</td><td>Map(numFiles -> 1, numOutputRows -> 1500000, numOutputBytes -> 27317701)</td><td>null</td><td>Databricks-Runtime/15.4.x-scala2.12</td></tr><tr><td>85</td><td>2025-08-16T01:19:05Z</td><td>78016171715504</td><td>rohithkumar0955@gmail.com</td><td>WRITE</td><td>Map(mode -> Append, statsOnLoad -> false, partitionBy -> [\"ingest_day\"])</td><td>null</td><td>List(1323301528906842)</td><td>0120-034800-q4ixh8v8</td><td>84</td><td>WriteSerializable</td><td>true</td><td>Map(numFiles -> 1, numOutputRows -> 1500000, numOutputBytes -> 27318411)</td><td>null</td><td>Databricks-Runtime/15.4.x-scala2.12</td></tr><tr><td>84</td><td>2025-08-16T01:19:01Z</td><td>78016171715504</td><td>rohithkumar0955@gmail.com</td><td>WRITE</td><td>Map(mode -> Append, statsOnLoad -> false, partitionBy -> [\"ingest_day\"])</td><td>null</td><td>List(1323301528906842)</td><td>0120-034800-q4ixh8v8</td><td>83</td><td>WriteSerializable</td><td>true</td><td>Map(numFiles -> 1, numOutputRows -> 1500000, numOutputBytes -> 27318411)</td><td>null</td><td>Databricks-Runtime/15.4.x-scala2.12</td></tr><tr><td>83</td><td>2025-08-16T01:18:56Z</td><td>78016171715504</td><td>rohithkumar0955@gmail.com</td><td>WRITE</td><td>Map(mode -> Append, statsOnLoad -> false, partitionBy -> [\"ingest_day\"])</td><td>null</td><td>List(1323301528906842)</td><td>0120-034800-q4ixh8v8</td><td>82</td><td>WriteSerializable</td><td>true</td><td>Map(numFiles -> 1, numOutputRows -> 1500000, numOutputBytes -> 27318403)</td><td>null</td><td>Databricks-Runtime/15.4.x-scala2.12</td></tr><tr><td>82</td><td>2025-08-16T01:18:51Z</td><td>78016171715504</td><td>rohithkumar0955@gmail.com</td><td>WRITE</td><td>Map(mode -> Append, statsOnLoad -> false, partitionBy -> [\"ingest_day\"])</td><td>null</td><td>List(1323301528906842)</td><td>0120-034800-q4ixh8v8</td><td>81</td><td>WriteSerializable</td><td>true</td><td>Map(numFiles -> 1, numOutputRows -> 1500000, numOutputBytes -> 27318407)</td><td>null</td><td>Databricks-Runtime/15.4.x-scala2.12</td></tr><tr><td>81</td><td>2025-08-16T01:18:47Z</td><td>78016171715504</td><td>rohithkumar0955@gmail.com</td><td>WRITE</td><td>Map(mode -> Append, statsOnLoad -> false, partitionBy -> [\"ingest_day\"])</td><td>null</td><td>List(1323301528906842)</td><td>0120-034800-q4ixh8v8</td><td>80</td><td>WriteSerializable</td><td>true</td><td>Map(numFiles -> 1, numOutputRows -> 1500000, numOutputBytes -> 27317696)</td><td>null</td><td>Databricks-Runtime/15.4.x-scala2.12</td></tr><tr><td>80</td><td>2025-08-16T01:18:43Z</td><td>78016171715504</td><td>rohithkumar0955@gmail.com</td><td>WRITE</td><td>Map(mode -> Append, statsOnLoad -> false, partitionBy -> [\"ingest_day\"])</td><td>null</td><td>List(1323301528906842)</td><td>0120-034800-q4ixh8v8</td><td>79</td><td>WriteSerializable</td><td>true</td><td>Map(numFiles -> 1, numOutputRows -> 1500000, numOutputBytes -> 27318395)</td><td>null</td><td>Databricks-Runtime/15.4.x-scala2.12</td></tr><tr><td>79</td><td>2025-08-16T01:18:39Z</td><td>78016171715504</td><td>rohithkumar0955@gmail.com</td><td>WRITE</td><td>Map(mode -> Append, statsOnLoad -> false, partitionBy -> [\"ingest_day\"])</td><td>null</td><td>List(1323301528906842)</td><td>0120-034800-q4ixh8v8</td><td>78</td><td>WriteSerializable</td><td>true</td><td>Map(numFiles -> 1, numOutputRows -> 1500000, numOutputBytes -> 27317705)</td><td>null</td><td>Databricks-Runtime/15.4.x-scala2.12</td></tr><tr><td>78</td><td>2025-08-16T01:18:34Z</td><td>78016171715504</td><td>rohithkumar0955@gmail.com</td><td>WRITE</td><td>Map(mode -> Append, statsOnLoad -> false, partitionBy -> [\"ingest_day\"])</td><td>null</td><td>List(1323301528906842)</td><td>0120-034800-q4ixh8v8</td><td>77</td><td>WriteSerializable</td><td>true</td><td>Map(numFiles -> 1, numOutputRows -> 1500000, numOutputBytes -> 27317700)</td><td>null</td><td>Databricks-Runtime/15.4.x-scala2.12</td></tr><tr><td>77</td><td>2025-08-16T01:18:30Z</td><td>78016171715504</td><td>rohithkumar0955@gmail.com</td><td>WRITE</td><td>Map(mode -> Append, statsOnLoad -> false, partitionBy -> [\"ingest_day\"])</td><td>null</td><td>List(1323301528906842)</td><td>0120-034800-q4ixh8v8</td><td>76</td><td>WriteSerializable</td><td>true</td><td>Map(numFiles -> 1, numOutputRows -> 1500000, numOutputBytes -> 27318417)</td><td>null</td><td>Databricks-Runtime/15.4.x-scala2.12</td></tr><tr><td>76</td><td>2025-08-16T01:18:25Z</td><td>78016171715504</td><td>rohithkumar0955@gmail.com</td><td>WRITE</td><td>Map(mode -> Append, statsOnLoad -> false, partitionBy -> [\"ingest_day\"])</td><td>null</td><td>List(1323301528906842)</td><td>0120-034800-q4ixh8v8</td><td>75</td><td>WriteSerializable</td><td>true</td><td>Map(numFiles -> 1, numOutputRows -> 1500000, numOutputBytes -> 27317672)</td><td>null</td><td>Databricks-Runtime/15.4.x-scala2.12</td></tr><tr><td>75</td><td>2025-08-16T01:18:21Z</td><td>78016171715504</td><td>rohithkumar0955@gmail.com</td><td>WRITE</td><td>Map(mode -> Append, statsOnLoad -> false, partitionBy -> [\"ingest_day\"])</td><td>null</td><td>List(1323301528906842)</td><td>0120-034800-q4ixh8v8</td><td>74</td><td>WriteSerializable</td><td>true</td><td>Map(numFiles -> 1, numOutputRows -> 1500000, numOutputBytes -> 27317674)</td><td>null</td><td>Databricks-Runtime/15.4.x-scala2.12</td></tr><tr><td>74</td><td>2025-08-16T01:18:17Z</td><td>78016171715504</td><td>rohithkumar0955@gmail.com</td><td>WRITE</td><td>Map(mode -> Append, statsOnLoad -> false, partitionBy -> [\"ingest_day\"])</td><td>null</td><td>List(1323301528906842)</td><td>0120-034800-q4ixh8v8</td><td>73</td><td>WriteSerializable</td><td>true</td><td>Map(numFiles -> 1, numOutputRows -> 1500000, numOutputBytes -> 27317703)</td><td>null</td><td>Databricks-Runtime/15.4.x-scala2.12</td></tr><tr><td>73</td><td>2025-08-16T01:18:12Z</td><td>78016171715504</td><td>rohithkumar0955@gmail.com</td><td>WRITE</td><td>Map(mode -> Append, statsOnLoad -> false, partitionBy -> [\"ingest_day\"])</td><td>null</td><td>List(1323301528906842)</td><td>0120-034800-q4ixh8v8</td><td>72</td><td>WriteSerializable</td><td>true</td><td>Map(numFiles -> 1, numOutputRows -> 1500000, numOutputBytes -> 27318409)</td><td>null</td><td>Databricks-Runtime/15.4.x-scala2.12</td></tr><tr><td>72</td><td>2025-08-16T01:18:08Z</td><td>78016171715504</td><td>rohithkumar0955@gmail.com</td><td>WRITE</td><td>Map(mode -> Append, statsOnLoad -> false, partitionBy -> [\"ingest_day\"])</td><td>null</td><td>List(1323301528906842)</td><td>0120-034800-q4ixh8v8</td><td>71</td><td>WriteSerializable</td><td>true</td><td>Map(numFiles -> 1, numOutputRows -> 1500000, numOutputBytes -> 27318406)</td><td>null</td><td>Databricks-Runtime/15.4.x-scala2.12</td></tr><tr><td>71</td><td>2025-08-16T01:18:04Z</td><td>78016171715504</td><td>rohithkumar0955@gmail.com</td><td>WRITE</td><td>Map(mode -> Append, statsOnLoad -> false, partitionBy -> [\"ingest_day\"])</td><td>null</td><td>List(1323301528906842)</td><td>0120-034800-q4ixh8v8</td><td>70</td><td>WriteSerializable</td><td>true</td><td>Map(numFiles -> 1, numOutputRows -> 1500000, numOutputBytes -> 27317682)</td><td>null</td><td>Databricks-Runtime/15.4.x-scala2.12</td></tr><tr><td>70</td><td>2025-08-16T01:18:00Z</td><td>78016171715504</td><td>rohithkumar0955@gmail.com</td><td>WRITE</td><td>Map(mode -> Append, statsOnLoad -> false, partitionBy -> [\"ingest_day\"])</td><td>null</td><td>List(1323301528906842)</td><td>0120-034800-q4ixh8v8</td><td>69</td><td>WriteSerializable</td><td>true</td><td>Map(numFiles -> 1, numOutputRows -> 1500000, numOutputBytes -> 27317686)</td><td>null</td><td>Databricks-Runtime/15.4.x-scala2.12</td></tr><tr><td>69</td><td>2025-08-16T01:17:55Z</td><td>78016171715504</td><td>rohithkumar0955@gmail.com</td><td>WRITE</td><td>Map(mode -> Append, statsOnLoad -> false, partitionBy -> [\"ingest_day\"])</td><td>null</td><td>List(1323301528906842)</td><td>0120-034800-q4ixh8v8</td><td>68</td><td>WriteSerializable</td><td>true</td><td>Map(numFiles -> 1, numOutputRows -> 1500000, numOutputBytes -> 27318399)</td><td>null</td><td>Databricks-Runtime/15.4.x-scala2.12</td></tr><tr><td>68</td><td>2025-08-16T01:17:51Z</td><td>78016171715504</td><td>rohithkumar0955@gmail.com</td><td>WRITE</td><td>Map(mode -> Append, statsOnLoad -> false, partitionBy -> [\"ingest_day\"])</td><td>null</td><td>List(1323301528906842)</td><td>0120-034800-q4ixh8v8</td><td>67</td><td>WriteSerializable</td><td>true</td><td>Map(numFiles -> 1, numOutputRows -> 1500000, numOutputBytes -> 27318411)</td><td>null</td><td>Databricks-Runtime/15.4.x-scala2.12</td></tr><tr><td>67</td><td>2025-08-16T01:17:46Z</td><td>78016171715504</td><td>rohithkumar0955@gmail.com</td><td>WRITE</td><td>Map(mode -> Append, statsOnLoad -> false, partitionBy -> [\"ingest_day\"])</td><td>null</td><td>List(1323301528906842)</td><td>0120-034800-q4ixh8v8</td><td>66</td><td>WriteSerializable</td><td>true</td><td>Map(numFiles -> 1, numOutputRows -> 1500000, numOutputBytes -> 27318405)</td><td>null</td><td>Databricks-Runtime/15.4.x-scala2.12</td></tr><tr><td>66</td><td>2025-08-16T01:17:42Z</td><td>78016171715504</td><td>rohithkumar0955@gmail.com</td><td>WRITE</td><td>Map(mode -> Append, statsOnLoad -> false, partitionBy -> [\"ingest_day\"])</td><td>null</td><td>List(1323301528906842)</td><td>0120-034800-q4ixh8v8</td><td>65</td><td>WriteSerializable</td><td>true</td><td>Map(numFiles -> 1, numOutputRows -> 1500000, numOutputBytes -> 27317689)</td><td>null</td><td>Databricks-Runtime/15.4.x-scala2.12</td></tr><tr><td>65</td><td>2025-08-16T01:17:38Z</td><td>78016171715504</td><td>rohithkumar0955@gmail.com</td><td>WRITE</td><td>Map(mode -> Append, statsOnLoad -> false, partitionBy -> [\"ingest_day\"])</td><td>null</td><td>List(1323301528906842)</td><td>0120-034800-q4ixh8v8</td><td>64</td><td>WriteSerializable</td><td>true</td><td>Map(numFiles -> 1, numOutputRows -> 1500000, numOutputBytes -> 27317684)</td><td>null</td><td>Databricks-Runtime/15.4.x-scala2.12</td></tr><tr><td>64</td><td>2025-08-16T01:17:33Z</td><td>78016171715504</td><td>rohithkumar0955@gmail.com</td><td>WRITE</td><td>Map(mode -> Append, statsOnLoad -> false, partitionBy -> [\"ingest_day\"])</td><td>null</td><td>List(1323301528906842)</td><td>0120-034800-q4ixh8v8</td><td>63</td><td>WriteSerializable</td><td>true</td><td>Map(numFiles -> 1, numOutputRows -> 1500000, numOutputBytes -> 27317683)</td><td>null</td><td>Databricks-Runtime/15.4.x-scala2.12</td></tr><tr><td>63</td><td>2025-08-16T01:17:29Z</td><td>78016171715504</td><td>rohithkumar0955@gmail.com</td><td>WRITE</td><td>Map(mode -> Append, statsOnLoad -> false, partitionBy -> [\"ingest_day\"])</td><td>null</td><td>List(1323301528906842)</td><td>0120-034800-q4ixh8v8</td><td>62</td><td>WriteSerializable</td><td>true</td><td>Map(numFiles -> 1, numOutputRows -> 1500000, numOutputBytes -> 27318400)</td><td>null</td><td>Databricks-Runtime/15.4.x-scala2.12</td></tr><tr><td>62</td><td>2025-08-16T01:17:25Z</td><td>78016171715504</td><td>rohithkumar0955@gmail.com</td><td>WRITE</td><td>Map(mode -> Append, statsOnLoad -> false, partitionBy -> [\"ingest_day\"])</td><td>null</td><td>List(1323301528906842)</td><td>0120-034800-q4ixh8v8</td><td>61</td><td>WriteSerializable</td><td>true</td><td>Map(numFiles -> 1, numOutputRows -> 1500000, numOutputBytes -> 27318405)</td><td>null</td><td>Databricks-Runtime/15.4.x-scala2.12</td></tr><tr><td>61</td><td>2025-08-16T01:17:21Z</td><td>78016171715504</td><td>rohithkumar0955@gmail.com</td><td>WRITE</td><td>Map(mode -> Append, statsOnLoad -> false, partitionBy -> [\"ingest_day\"])</td><td>null</td><td>List(1323301528906842)</td><td>0120-034800-q4ixh8v8</td><td>60</td><td>WriteSerializable</td><td>true</td><td>Map(numFiles -> 1, numOutputRows -> 1500000, numOutputBytes -> 27317708)</td><td>null</td><td>Databricks-Runtime/15.4.x-scala2.12</td></tr><tr><td>60</td><td>2025-08-16T01:17:16Z</td><td>78016171715504</td><td>rohithkumar0955@gmail.com</td><td>WRITE</td><td>Map(mode -> Append, statsOnLoad -> false, partitionBy -> [\"ingest_day\"])</td><td>null</td><td>List(1323301528906842)</td><td>0120-034800-q4ixh8v8</td><td>59</td><td>WriteSerializable</td><td>true</td><td>Map(numFiles -> 1, numOutputRows -> 1500000, numOutputBytes -> 27317708)</td><td>null</td><td>Databricks-Runtime/15.4.x-scala2.12</td></tr><tr><td>59</td><td>2025-08-16T01:17:12Z</td><td>78016171715504</td><td>rohithkumar0955@gmail.com</td><td>WRITE</td><td>Map(mode -> Append, statsOnLoad -> false, partitionBy -> [\"ingest_day\"])</td><td>null</td><td>List(1323301528906842)</td><td>0120-034800-q4ixh8v8</td><td>58</td><td>WriteSerializable</td><td>true</td><td>Map(numFiles -> 1, numOutputRows -> 1500000, numOutputBytes -> 27317705)</td><td>null</td><td>Databricks-Runtime/15.4.x-scala2.12</td></tr><tr><td>58</td><td>2025-08-16T01:17:07Z</td><td>78016171715504</td><td>rohithkumar0955@gmail.com</td><td>WRITE</td><td>Map(mode -> Append, statsOnLoad -> false, partitionBy -> [\"ingest_day\"])</td><td>null</td><td>List(1323301528906842)</td><td>0120-034800-q4ixh8v8</td><td>57</td><td>WriteSerializable</td><td>true</td><td>Map(numFiles -> 1, numOutputRows -> 1500000, numOutputBytes -> 27317696)</td><td>null</td><td>Databricks-Runtime/15.4.x-scala2.12</td></tr><tr><td>57</td><td>2025-08-16T01:17:03Z</td><td>78016171715504</td><td>rohithkumar0955@gmail.com</td><td>WRITE</td><td>Map(mode -> Append, statsOnLoad -> false, partitionBy -> [\"ingest_day\"])</td><td>null</td><td>List(1323301528906842)</td><td>0120-034800-q4ixh8v8</td><td>56</td><td>WriteSerializable</td><td>true</td><td>Map(numFiles -> 1, numOutputRows -> 1500000, numOutputBytes -> 27318411)</td><td>null</td><td>Databricks-Runtime/15.4.x-scala2.12</td></tr><tr><td>56</td><td>2025-08-16T01:16:59Z</td><td>78016171715504</td><td>rohithkumar0955@gmail.com</td><td>WRITE</td><td>Map(mode -> Append, statsOnLoad -> false, partitionBy -> [\"ingest_day\"])</td><td>null</td><td>List(1323301528906842)</td><td>0120-034800-q4ixh8v8</td><td>55</td><td>WriteSerializable</td><td>true</td><td>Map(numFiles -> 1, numOutputRows -> 1500000, numOutputBytes -> 27317694)</td><td>null</td><td>Databricks-Runtime/15.4.x-scala2.12</td></tr><tr><td>55</td><td>2025-08-16T01:16:55Z</td><td>78016171715504</td><td>rohithkumar0955@gmail.com</td><td>WRITE</td><td>Map(mode -> Append, statsOnLoad -> false, partitionBy -> [\"ingest_day\"])</td><td>null</td><td>List(1323301528906842)</td><td>0120-034800-q4ixh8v8</td><td>54</td><td>WriteSerializable</td><td>true</td><td>Map(numFiles -> 1, numOutputRows -> 1500000, numOutputBytes -> 27317700)</td><td>null</td><td>Databricks-Runtime/15.4.x-scala2.12</td></tr><tr><td>54</td><td>2025-08-16T01:16:51Z</td><td>78016171715504</td><td>rohithkumar0955@gmail.com</td><td>WRITE</td><td>Map(mode -> Append, statsOnLoad -> false, partitionBy -> [\"ingest_day\"])</td><td>null</td><td>List(1323301528906842)</td><td>0120-034800-q4ixh8v8</td><td>53</td><td>WriteSerializable</td><td>true</td><td>Map(numFiles -> 1, numOutputRows -> 1500000, numOutputBytes -> 27317693)</td><td>null</td><td>Databricks-Runtime/15.4.x-scala2.12</td></tr><tr><td>53</td><td>2025-08-16T01:16:46Z</td><td>78016171715504</td><td>rohithkumar0955@gmail.com</td><td>WRITE</td><td>Map(mode -> Append, statsOnLoad -> false, partitionBy -> [\"ingest_day\"])</td><td>null</td><td>List(1323301528906842)</td><td>0120-034800-q4ixh8v8</td><td>52</td><td>WriteSerializable</td><td>true</td><td>Map(numFiles -> 1, numOutputRows -> 1500000, numOutputBytes -> 27317701)</td><td>null</td><td>Databricks-Runtime/15.4.x-scala2.12</td></tr><tr><td>52</td><td>2025-08-16T01:16:42Z</td><td>78016171715504</td><td>rohithkumar0955@gmail.com</td><td>WRITE</td><td>Map(mode -> Append, statsOnLoad -> false, partitionBy -> [\"ingest_day\"])</td><td>null</td><td>List(1323301528906842)</td><td>0120-034800-q4ixh8v8</td><td>51</td><td>WriteSerializable</td><td>true</td><td>Map(numFiles -> 1, numOutputRows -> 1500000, numOutputBytes -> 27318409)</td><td>null</td><td>Databricks-Runtime/15.4.x-scala2.12</td></tr><tr><td>51</td><td>2025-08-16T01:16:35Z</td><td>78016171715504</td><td>rohithkumar0955@gmail.com</td><td>WRITE</td><td>Map(mode -> Append, statsOnLoad -> false, partitionBy -> [\"ingest_day\"])</td><td>null</td><td>List(1323301528906842)</td><td>0120-034800-q4ixh8v8</td><td>50</td><td>WriteSerializable</td><td>true</td><td>Map(numFiles -> 1, numOutputRows -> 1500000, numOutputBytes -> 27318406)</td><td>null</td><td>Databricks-Runtime/15.4.x-scala2.12</td></tr><tr><td>50</td><td>2025-08-16T01:16:30Z</td><td>78016171715504</td><td>rohithkumar0955@gmail.com</td><td>WRITE</td><td>Map(mode -> Append, statsOnLoad -> false, partitionBy -> [\"ingest_day\"])</td><td>null</td><td>List(1323301528906842)</td><td>0120-034800-q4ixh8v8</td><td>49</td><td>WriteSerializable</td><td>true</td><td>Map(numFiles -> 1, numOutputRows -> 1500000, numOutputBytes -> 27317668)</td><td>null</td><td>Databricks-Runtime/15.4.x-scala2.12</td></tr><tr><td>49</td><td>2025-08-16T01:16:25Z</td><td>78016171715504</td><td>rohithkumar0955@gmail.com</td><td>WRITE</td><td>Map(mode -> Append, statsOnLoad -> false, partitionBy -> [\"ingest_day\"])</td><td>null</td><td>List(1323301528906842)</td><td>0120-034800-q4ixh8v8</td><td>48</td><td>WriteSerializable</td><td>true</td><td>Map(numFiles -> 1, numOutputRows -> 1500000, numOutputBytes -> 27317679)</td><td>null</td><td>Databricks-Runtime/15.4.x-scala2.12</td></tr><tr><td>48</td><td>2025-08-16T01:16:21Z</td><td>78016171715504</td><td>rohithkumar0955@gmail.com</td><td>WRITE</td><td>Map(mode -> Append, statsOnLoad -> false, partitionBy -> [\"ingest_day\"])</td><td>null</td><td>List(1323301528906842)</td><td>0120-034800-q4ixh8v8</td><td>47</td><td>WriteSerializable</td><td>true</td><td>Map(numFiles -> 1, numOutputRows -> 1500000, numOutputBytes -> 27318414)</td><td>null</td><td>Databricks-Runtime/15.4.x-scala2.12</td></tr><tr><td>47</td><td>2025-08-16T01:16:18Z</td><td>78016171715504</td><td>rohithkumar0955@gmail.com</td><td>WRITE</td><td>Map(mode -> Append, statsOnLoad -> false, partitionBy -> [\"ingest_day\"])</td><td>null</td><td>List(1323301528906842)</td><td>0120-034800-q4ixh8v8</td><td>46</td><td>WriteSerializable</td><td>true</td><td>Map(numFiles -> 1, numOutputRows -> 1500000, numOutputBytes -> 27317708)</td><td>null</td><td>Databricks-Runtime/15.4.x-scala2.12</td></tr><tr><td>46</td><td>2025-08-16T01:16:14Z</td><td>78016171715504</td><td>rohithkumar0955@gmail.com</td><td>WRITE</td><td>Map(mode -> Append, statsOnLoad -> false, partitionBy -> [\"ingest_day\"])</td><td>null</td><td>List(1323301528906842)</td><td>0120-034800-q4ixh8v8</td><td>45</td><td>WriteSerializable</td><td>true</td><td>Map(numFiles -> 1, numOutputRows -> 1500000, numOutputBytes -> 27317684)</td><td>null</td><td>Databricks-Runtime/15.4.x-scala2.12</td></tr><tr><td>45</td><td>2025-08-16T01:16:10Z</td><td>78016171715504</td><td>rohithkumar0955@gmail.com</td><td>WRITE</td><td>Map(mode -> Append, statsOnLoad -> false, partitionBy -> [\"ingest_day\"])</td><td>null</td><td>List(1323301528906842)</td><td>0120-034800-q4ixh8v8</td><td>44</td><td>WriteSerializable</td><td>true</td><td>Map(numFiles -> 1, numOutputRows -> 1500000, numOutputBytes -> 27318411)</td><td>null</td><td>Databricks-Runtime/15.4.x-scala2.12</td></tr><tr><td>44</td><td>2025-08-16T01:16:06Z</td><td>78016171715504</td><td>rohithkumar0955@gmail.com</td><td>WRITE</td><td>Map(mode -> Append, statsOnLoad -> false, partitionBy -> [\"ingest_day\"])</td><td>null</td><td>List(1323301528906842)</td><td>0120-034800-q4ixh8v8</td><td>43</td><td>WriteSerializable</td><td>true</td><td>Map(numFiles -> 1, numOutputRows -> 1500000, numOutputBytes -> 27318397)</td><td>null</td><td>Databricks-Runtime/15.4.x-scala2.12</td></tr><tr><td>43</td><td>2025-08-16T01:16:03Z</td><td>78016171715504</td><td>rohithkumar0955@gmail.com</td><td>WRITE</td><td>Map(mode -> Append, statsOnLoad -> false, partitionBy -> [\"ingest_day\"])</td><td>null</td><td>List(1323301528906842)</td><td>0120-034800-q4ixh8v8</td><td>42</td><td>WriteSerializable</td><td>true</td><td>Map(numFiles -> 1, numOutputRows -> 1500000, numOutputBytes -> 27317698)</td><td>null</td><td>Databricks-Runtime/15.4.x-scala2.12</td></tr><tr><td>42</td><td>2025-08-16T01:15:59Z</td><td>78016171715504</td><td>rohithkumar0955@gmail.com</td><td>WRITE</td><td>Map(mode -> Append, statsOnLoad -> false, partitionBy -> [\"ingest_day\"])</td><td>null</td><td>List(1323301528906842)</td><td>0120-034800-q4ixh8v8</td><td>41</td><td>WriteSerializable</td><td>true</td><td>Map(numFiles -> 1, numOutputRows -> 1500000, numOutputBytes -> 27317683)</td><td>null</td><td>Databricks-Runtime/15.4.x-scala2.12</td></tr><tr><td>41</td><td>2025-08-16T01:15:55Z</td><td>78016171715504</td><td>rohithkumar0955@gmail.com</td><td>WRITE</td><td>Map(mode -> Append, statsOnLoad -> false, partitionBy -> [\"ingest_day\"])</td><td>null</td><td>List(1323301528906842)</td><td>0120-034800-q4ixh8v8</td><td>40</td><td>WriteSerializable</td><td>true</td><td>Map(numFiles -> 1, numOutputRows -> 1500000, numOutputBytes -> 27318407)</td><td>null</td><td>Databricks-Runtime/15.4.x-scala2.12</td></tr><tr><td>40</td><td>2025-08-16T01:15:51Z</td><td>78016171715504</td><td>rohithkumar0955@gmail.com</td><td>WRITE</td><td>Map(mode -> Append, statsOnLoad -> false, partitionBy -> [\"ingest_day\"])</td><td>null</td><td>List(1323301528906842)</td><td>0120-034800-q4ixh8v8</td><td>39</td><td>WriteSerializable</td><td>true</td><td>Map(numFiles -> 1, numOutputRows -> 1500000, numOutputBytes -> 27318413)</td><td>null</td><td>Databricks-Runtime/15.4.x-scala2.12</td></tr><tr><td>39</td><td>2025-08-16T01:15:48Z</td><td>78016171715504</td><td>rohithkumar0955@gmail.com</td><td>WRITE</td><td>Map(mode -> Append, statsOnLoad -> false, partitionBy -> [\"ingest_day\"])</td><td>null</td><td>List(1323301528906842)</td><td>0120-034800-q4ixh8v8</td><td>38</td><td>WriteSerializable</td><td>true</td><td>Map(numFiles -> 1, numOutputRows -> 1500000, numOutputBytes -> 27317711)</td><td>null</td><td>Databricks-Runtime/15.4.x-scala2.12</td></tr><tr><td>38</td><td>2025-08-16T01:15:43Z</td><td>78016171715504</td><td>rohithkumar0955@gmail.com</td><td>WRITE</td><td>Map(mode -> Append, statsOnLoad -> false, partitionBy -> [\"ingest_day\"])</td><td>null</td><td>List(1323301528906842)</td><td>0120-034800-q4ixh8v8</td><td>37</td><td>WriteSerializable</td><td>true</td><td>Map(numFiles -> 1, numOutputRows -> 1500000, numOutputBytes -> 27317704)</td><td>null</td><td>Databricks-Runtime/15.4.x-scala2.12</td></tr><tr><td>37</td><td>2025-08-16T01:15:39Z</td><td>78016171715504</td><td>rohithkumar0955@gmail.com</td><td>WRITE</td><td>Map(mode -> Append, statsOnLoad -> false, partitionBy -> [\"ingest_day\"])</td><td>null</td><td>List(1323301528906842)</td><td>0120-034800-q4ixh8v8</td><td>36</td><td>WriteSerializable</td><td>true</td><td>Map(numFiles -> 1, numOutputRows -> 1500000, numOutputBytes -> 27317704)</td><td>null</td><td>Databricks-Runtime/15.4.x-scala2.12</td></tr><tr><td>36</td><td>2025-08-16T01:15:35Z</td><td>78016171715504</td><td>rohithkumar0955@gmail.com</td><td>WRITE</td><td>Map(mode -> Append, statsOnLoad -> false, partitionBy -> [\"ingest_day\"])</td><td>null</td><td>List(1323301528906842)</td><td>0120-034800-q4ixh8v8</td><td>35</td><td>WriteSerializable</td><td>true</td><td>Map(numFiles -> 1, numOutputRows -> 1500000, numOutputBytes -> 27317678)</td><td>null</td><td>Databricks-Runtime/15.4.x-scala2.12</td></tr><tr><td>35</td><td>2025-08-16T01:15:31Z</td><td>78016171715504</td><td>rohithkumar0955@gmail.com</td><td>WRITE</td><td>Map(mode -> Append, statsOnLoad -> false, partitionBy -> [\"ingest_day\"])</td><td>null</td><td>List(1323301528906842)</td><td>0120-034800-q4ixh8v8</td><td>34</td><td>WriteSerializable</td><td>true</td><td>Map(numFiles -> 1, numOutputRows -> 1500000, numOutputBytes -> 27318404)</td><td>null</td><td>Databricks-Runtime/15.4.x-scala2.12</td></tr><tr><td>34</td><td>2025-08-16T01:15:27Z</td><td>78016171715504</td><td>rohithkumar0955@gmail.com</td><td>WRITE</td><td>Map(mode -> Append, statsOnLoad -> false, partitionBy -> [\"ingest_day\"])</td><td>null</td><td>List(1323301528906842)</td><td>0120-034800-q4ixh8v8</td><td>33</td><td>WriteSerializable</td><td>true</td><td>Map(numFiles -> 1, numOutputRows -> 1500000, numOutputBytes -> 27317699)</td><td>null</td><td>Databricks-Runtime/15.4.x-scala2.12</td></tr><tr><td>33</td><td>2025-08-16T01:15:24Z</td><td>78016171715504</td><td>rohithkumar0955@gmail.com</td><td>WRITE</td><td>Map(mode -> Append, statsOnLoad -> false, partitionBy -> [\"ingest_day\"])</td><td>null</td><td>List(1323301528906842)</td><td>0120-034800-q4ixh8v8</td><td>32</td><td>WriteSerializable</td><td>true</td><td>Map(numFiles -> 1, numOutputRows -> 1500000, numOutputBytes -> 27317676)</td><td>null</td><td>Databricks-Runtime/15.4.x-scala2.12</td></tr><tr><td>32</td><td>2025-08-16T01:15:20Z</td><td>78016171715504</td><td>rohithkumar0955@gmail.com</td><td>WRITE</td><td>Map(mode -> Append, statsOnLoad -> false, partitionBy -> [\"ingest_day\"])</td><td>null</td><td>List(1323301528906842)</td><td>0120-034800-q4ixh8v8</td><td>31</td><td>WriteSerializable</td><td>true</td><td>Map(numFiles -> 1, numOutputRows -> 1500000, numOutputBytes -> 27317703)</td><td>null</td><td>Databricks-Runtime/15.4.x-scala2.12</td></tr><tr><td>31</td><td>2025-08-16T01:15:16Z</td><td>78016171715504</td><td>rohithkumar0955@gmail.com</td><td>WRITE</td><td>Map(mode -> Append, statsOnLoad -> false, partitionBy -> [\"ingest_day\"])</td><td>null</td><td>List(1323301528906842)</td><td>0120-034800-q4ixh8v8</td><td>30</td><td>WriteSerializable</td><td>true</td><td>Map(numFiles -> 1, numOutputRows -> 1500000, numOutputBytes -> 27317677)</td><td>null</td><td>Databricks-Runtime/15.4.x-scala2.12</td></tr><tr><td>30</td><td>2025-08-16T01:15:12Z</td><td>78016171715504</td><td>rohithkumar0955@gmail.com</td><td>WRITE</td><td>Map(mode -> Append, statsOnLoad -> false, partitionBy -> [\"ingest_day\"])</td><td>null</td><td>List(1323301528906842)</td><td>0120-034800-q4ixh8v8</td><td>29</td><td>WriteSerializable</td><td>true</td><td>Map(numFiles -> 1, numOutputRows -> 1500000, numOutputBytes -> 27318404)</td><td>null</td><td>Databricks-Runtime/15.4.x-scala2.12</td></tr><tr><td>29</td><td>2025-08-16T01:15:08Z</td><td>78016171715504</td><td>rohithkumar0955@gmail.com</td><td>WRITE</td><td>Map(mode -> Append, statsOnLoad -> false, partitionBy -> [\"ingest_day\"])</td><td>null</td><td>List(1323301528906842)</td><td>0120-034800-q4ixh8v8</td><td>28</td><td>WriteSerializable</td><td>true</td><td>Map(numFiles -> 1, numOutputRows -> 1500000, numOutputBytes -> 27317672)</td><td>null</td><td>Databricks-Runtime/15.4.x-scala2.12</td></tr><tr><td>28</td><td>2025-08-16T01:15:05Z</td><td>78016171715504</td><td>rohithkumar0955@gmail.com</td><td>WRITE</td><td>Map(mode -> Append, statsOnLoad -> false, partitionBy -> [\"ingest_day\"])</td><td>null</td><td>List(1323301528906842)</td><td>0120-034800-q4ixh8v8</td><td>27</td><td>WriteSerializable</td><td>true</td><td>Map(numFiles -> 1, numOutputRows -> 1500000, numOutputBytes -> 27317701)</td><td>null</td><td>Databricks-Runtime/15.4.x-scala2.12</td></tr><tr><td>27</td><td>2025-08-16T01:15:01Z</td><td>78016171715504</td><td>rohithkumar0955@gmail.com</td><td>WRITE</td><td>Map(mode -> Append, statsOnLoad -> false, partitionBy -> [\"ingest_day\"])</td><td>null</td><td>List(1323301528906842)</td><td>0120-034800-q4ixh8v8</td><td>26</td><td>WriteSerializable</td><td>true</td><td>Map(numFiles -> 1, numOutputRows -> 1500000, numOutputBytes -> 27318410)</td><td>null</td><td>Databricks-Runtime/15.4.x-scala2.12</td></tr><tr><td>26</td><td>2025-08-16T01:14:57Z</td><td>78016171715504</td><td>rohithkumar0955@gmail.com</td><td>WRITE</td><td>Map(mode -> Append, statsOnLoad -> false, partitionBy -> [\"ingest_day\"])</td><td>null</td><td>List(1323301528906842)</td><td>0120-034800-q4ixh8v8</td><td>25</td><td>WriteSerializable</td><td>true</td><td>Map(numFiles -> 1, numOutputRows -> 1500000, numOutputBytes -> 27317671)</td><td>null</td><td>Databricks-Runtime/15.4.x-scala2.12</td></tr><tr><td>25</td><td>2025-08-16T01:14:53Z</td><td>78016171715504</td><td>rohithkumar0955@gmail.com</td><td>WRITE</td><td>Map(mode -> Append, statsOnLoad -> false, partitionBy -> [\"ingest_day\"])</td><td>null</td><td>List(1323301528906842)</td><td>0120-034800-q4ixh8v8</td><td>24</td><td>WriteSerializable</td><td>true</td><td>Map(numFiles -> 1, numOutputRows -> 1500000, numOutputBytes -> 27317678)</td><td>null</td><td>Databricks-Runtime/15.4.x-scala2.12</td></tr><tr><td>24</td><td>2025-08-16T01:14:50Z</td><td>78016171715504</td><td>rohithkumar0955@gmail.com</td><td>WRITE</td><td>Map(mode -> Append, statsOnLoad -> false, partitionBy -> [\"ingest_day\"])</td><td>null</td><td>List(1323301528906842)</td><td>0120-034800-q4ixh8v8</td><td>23</td><td>WriteSerializable</td><td>true</td><td>Map(numFiles -> 1, numOutputRows -> 1500000, numOutputBytes -> 27318412)</td><td>null</td><td>Databricks-Runtime/15.4.x-scala2.12</td></tr><tr><td>23</td><td>2025-08-16T01:14:46Z</td><td>78016171715504</td><td>rohithkumar0955@gmail.com</td><td>WRITE</td><td>Map(mode -> Append, statsOnLoad -> false, partitionBy -> [\"ingest_day\"])</td><td>null</td><td>List(1323301528906842)</td><td>0120-034800-q4ixh8v8</td><td>22</td><td>WriteSerializable</td><td>true</td><td>Map(numFiles -> 1, numOutputRows -> 1500000, numOutputBytes -> 27317687)</td><td>null</td><td>Databricks-Runtime/15.4.x-scala2.12</td></tr><tr><td>22</td><td>2025-08-16T01:14:42Z</td><td>78016171715504</td><td>rohithkumar0955@gmail.com</td><td>WRITE</td><td>Map(mode -> Append, statsOnLoad -> false, partitionBy -> [\"ingest_day\"])</td><td>null</td><td>List(1323301528906842)</td><td>0120-034800-q4ixh8v8</td><td>21</td><td>WriteSerializable</td><td>true</td><td>Map(numFiles -> 1, numOutputRows -> 1500000, numOutputBytes -> 27317712)</td><td>null</td><td>Databricks-Runtime/15.4.x-scala2.12</td></tr><tr><td>21</td><td>2025-08-16T01:14:39Z</td><td>78016171715504</td><td>rohithkumar0955@gmail.com</td><td>WRITE</td><td>Map(mode -> Append, statsOnLoad -> false, partitionBy -> [\"ingest_day\"])</td><td>null</td><td>List(1323301528906842)</td><td>0120-034800-q4ixh8v8</td><td>20</td><td>WriteSerializable</td><td>true</td><td>Map(numFiles -> 1, numOutputRows -> 1500000, numOutputBytes -> 27317707)</td><td>null</td><td>Databricks-Runtime/15.4.x-scala2.12</td></tr><tr><td>20</td><td>2025-08-16T01:14:35Z</td><td>78016171715504</td><td>rohithkumar0955@gmail.com</td><td>WRITE</td><td>Map(mode -> Append, statsOnLoad -> false, partitionBy -> [\"ingest_day\"])</td><td>null</td><td>List(1323301528906842)</td><td>0120-034800-q4ixh8v8</td><td>19</td><td>WriteSerializable</td><td>true</td><td>Map(numFiles -> 1, numOutputRows -> 1500000, numOutputBytes -> 27318415)</td><td>null</td><td>Databricks-Runtime/15.4.x-scala2.12</td></tr><tr><td>19</td><td>2025-08-16T01:14:31Z</td><td>78016171715504</td><td>rohithkumar0955@gmail.com</td><td>WRITE</td><td>Map(mode -> Append, statsOnLoad -> false, partitionBy -> [\"ingest_day\"])</td><td>null</td><td>List(1323301528906842)</td><td>0120-034800-q4ixh8v8</td><td>18</td><td>WriteSerializable</td><td>true</td><td>Map(numFiles -> 1, numOutputRows -> 1500000, numOutputBytes -> 27318404)</td><td>null</td><td>Databricks-Runtime/15.4.x-scala2.12</td></tr><tr><td>18</td><td>2025-08-16T01:14:27Z</td><td>78016171715504</td><td>rohithkumar0955@gmail.com</td><td>WRITE</td><td>Map(mode -> Append, statsOnLoad -> false, partitionBy -> [\"ingest_day\"])</td><td>null</td><td>List(1323301528906842)</td><td>0120-034800-q4ixh8v8</td><td>17</td><td>WriteSerializable</td><td>true</td><td>Map(numFiles -> 1, numOutputRows -> 1500000, numOutputBytes -> 27318402)</td><td>null</td><td>Databricks-Runtime/15.4.x-scala2.12</td></tr><tr><td>17</td><td>2025-08-16T01:14:22Z</td><td>78016171715504</td><td>rohithkumar0955@gmail.com</td><td>WRITE</td><td>Map(mode -> Append, statsOnLoad -> false, partitionBy -> [\"ingest_day\"])</td><td>null</td><td>List(1323301528906842)</td><td>0120-034800-q4ixh8v8</td><td>16</td><td>WriteSerializable</td><td>true</td><td>Map(numFiles -> 1, numOutputRows -> 1500000, numOutputBytes -> 27317667)</td><td>null</td><td>Databricks-Runtime/15.4.x-scala2.12</td></tr><tr><td>16</td><td>2025-08-16T01:14:18Z</td><td>78016171715504</td><td>rohithkumar0955@gmail.com</td><td>WRITE</td><td>Map(mode -> Append, statsOnLoad -> false, partitionBy -> [\"ingest_day\"])</td><td>null</td><td>List(1323301528906842)</td><td>0120-034800-q4ixh8v8</td><td>15</td><td>WriteSerializable</td><td>true</td><td>Map(numFiles -> 1, numOutputRows -> 1500000, numOutputBytes -> 27318404)</td><td>null</td><td>Databricks-Runtime/15.4.x-scala2.12</td></tr><tr><td>15</td><td>2025-08-16T01:14:15Z</td><td>78016171715504</td><td>rohithkumar0955@gmail.com</td><td>WRITE</td><td>Map(mode -> Append, statsOnLoad -> false, partitionBy -> [\"ingest_day\"])</td><td>null</td><td>List(1323301528906842)</td><td>0120-034800-q4ixh8v8</td><td>14</td><td>WriteSerializable</td><td>true</td><td>Map(numFiles -> 1, numOutputRows -> 1500000, numOutputBytes -> 27318406)</td><td>null</td><td>Databricks-Runtime/15.4.x-scala2.12</td></tr><tr><td>14</td><td>2025-08-16T01:14:11Z</td><td>78016171715504</td><td>rohithkumar0955@gmail.com</td><td>WRITE</td><td>Map(mode -> Append, statsOnLoad -> false, partitionBy -> [\"ingest_day\"])</td><td>null</td><td>List(1323301528906842)</td><td>0120-034800-q4ixh8v8</td><td>13</td><td>WriteSerializable</td><td>true</td><td>Map(numFiles -> 1, numOutputRows -> 1500000, numOutputBytes -> 27317705)</td><td>null</td><td>Databricks-Runtime/15.4.x-scala2.12</td></tr><tr><td>13</td><td>2025-08-16T01:14:07Z</td><td>78016171715504</td><td>rohithkumar0955@gmail.com</td><td>WRITE</td><td>Map(mode -> Append, statsOnLoad -> false, partitionBy -> [\"ingest_day\"])</td><td>null</td><td>List(1323301528906842)</td><td>0120-034800-q4ixh8v8</td><td>12</td><td>WriteSerializable</td><td>true</td><td>Map(numFiles -> 1, numOutputRows -> 1500000, numOutputBytes -> 27318408)</td><td>null</td><td>Databricks-Runtime/15.4.x-scala2.12</td></tr><tr><td>12</td><td>2025-08-16T01:14:04Z</td><td>78016171715504</td><td>rohithkumar0955@gmail.com</td><td>WRITE</td><td>Map(mode -> Append, statsOnLoad -> false, partitionBy -> [\"ingest_day\"])</td><td>null</td><td>List(1323301528906842)</td><td>0120-034800-q4ixh8v8</td><td>11</td><td>WriteSerializable</td><td>true</td><td>Map(numFiles -> 1, numOutputRows -> 1500000, numOutputBytes -> 27317702)</td><td>null</td><td>Databricks-Runtime/15.4.x-scala2.12</td></tr><tr><td>11</td><td>2025-08-16T01:14:00Z</td><td>78016171715504</td><td>rohithkumar0955@gmail.com</td><td>WRITE</td><td>Map(mode -> Append, statsOnLoad -> false, partitionBy -> [\"ingest_day\"])</td><td>null</td><td>List(1323301528906842)</td><td>0120-034800-q4ixh8v8</td><td>10</td><td>WriteSerializable</td><td>true</td><td>Map(numFiles -> 1, numOutputRows -> 1500000, numOutputBytes -> 27318405)</td><td>null</td><td>Databricks-Runtime/15.4.x-scala2.12</td></tr><tr><td>10</td><td>2025-08-16T01:13:56Z</td><td>78016171715504</td><td>rohithkumar0955@gmail.com</td><td>WRITE</td><td>Map(mode -> Append, statsOnLoad -> false, partitionBy -> [\"ingest_day\"])</td><td>null</td><td>List(1323301528906842)</td><td>0120-034800-q4ixh8v8</td><td>9</td><td>WriteSerializable</td><td>true</td><td>Map(numFiles -> 1, numOutputRows -> 1500000, numOutputBytes -> 27317702)</td><td>null</td><td>Databricks-Runtime/15.4.x-scala2.12</td></tr><tr><td>9</td><td>2025-08-16T01:13:52Z</td><td>78016171715504</td><td>rohithkumar0955@gmail.com</td><td>WRITE</td><td>Map(mode -> Append, statsOnLoad -> false, partitionBy -> [\"ingest_day\"])</td><td>null</td><td>List(1323301528906842)</td><td>0120-034800-q4ixh8v8</td><td>8</td><td>WriteSerializable</td><td>true</td><td>Map(numFiles -> 1, numOutputRows -> 1500000, numOutputBytes -> 27318407)</td><td>null</td><td>Databricks-Runtime/15.4.x-scala2.12</td></tr><tr><td>8</td><td>2025-08-16T01:13:49Z</td><td>78016171715504</td><td>rohithkumar0955@gmail.com</td><td>WRITE</td><td>Map(mode -> Append, statsOnLoad -> false, partitionBy -> [\"ingest_day\"])</td><td>null</td><td>List(1323301528906842)</td><td>0120-034800-q4ixh8v8</td><td>7</td><td>WriteSerializable</td><td>true</td><td>Map(numFiles -> 1, numOutputRows -> 1500000, numOutputBytes -> 27317706)</td><td>null</td><td>Databricks-Runtime/15.4.x-scala2.12</td></tr><tr><td>7</td><td>2025-08-16T01:13:44Z</td><td>78016171715504</td><td>rohithkumar0955@gmail.com</td><td>WRITE</td><td>Map(mode -> Append, statsOnLoad -> false, partitionBy -> [\"ingest_day\"])</td><td>null</td><td>List(1323301528906842)</td><td>0120-034800-q4ixh8v8</td><td>6</td><td>WriteSerializable</td><td>true</td><td>Map(numFiles -> 1, numOutputRows -> 1500000, numOutputBytes -> 27317699)</td><td>null</td><td>Databricks-Runtime/15.4.x-scala2.12</td></tr><tr><td>6</td><td>2025-08-16T01:13:40Z</td><td>78016171715504</td><td>rohithkumar0955@gmail.com</td><td>WRITE</td><td>Map(mode -> Append, statsOnLoad -> false, partitionBy -> [\"ingest_day\"])</td><td>null</td><td>List(1323301528906842)</td><td>0120-034800-q4ixh8v8</td><td>5</td><td>WriteSerializable</td><td>true</td><td>Map(numFiles -> 1, numOutputRows -> 1500000, numOutputBytes -> 27317681)</td><td>null</td><td>Databricks-Runtime/15.4.x-scala2.12</td></tr><tr><td>5</td><td>2025-08-14T23:17:35Z</td><td>78016171715504</td><td>rohithkumar0955@gmail.com</td><td>WRITE</td><td>Map(mode -> Append, statsOnLoad -> false, partitionBy -> [\"ingest_day\"])</td><td>null</td><td>List(1323301528906842)</td><td>0120-034800-q4ixh8v8</td><td>4</td><td>WriteSerializable</td><td>true</td><td>Map(numFiles -> 1, numOutputRows -> 1000000, numOutputBytes -> 18235243)</td><td>null</td><td>Databricks-Runtime/15.4.x-scala2.12</td></tr><tr><td>4</td><td>2025-08-14T23:17:32Z</td><td>78016171715504</td><td>rohithkumar0955@gmail.com</td><td>WRITE</td><td>Map(mode -> Append, statsOnLoad -> false, partitionBy -> [\"ingest_day\"])</td><td>null</td><td>List(1323301528906842)</td><td>0120-034800-q4ixh8v8</td><td>3</td><td>WriteSerializable</td><td>true</td><td>Map(numFiles -> 1, numOutputRows -> 1000000, numOutputBytes -> 18235277)</td><td>null</td><td>Databricks-Runtime/15.4.x-scala2.12</td></tr><tr><td>3</td><td>2025-08-14T23:17:28Z</td><td>78016171715504</td><td>rohithkumar0955@gmail.com</td><td>WRITE</td><td>Map(mode -> Append, statsOnLoad -> false, partitionBy -> [\"ingest_day\"])</td><td>null</td><td>List(1323301528906842)</td><td>0120-034800-q4ixh8v8</td><td>2</td><td>WriteSerializable</td><td>true</td><td>Map(numFiles -> 1, numOutputRows -> 1000000, numOutputBytes -> 18234507)</td><td>null</td><td>Databricks-Runtime/15.4.x-scala2.12</td></tr><tr><td>2</td><td>2025-08-14T23:00:38Z</td><td>78016171715504</td><td>rohithkumar0955@gmail.com</td><td>WRITE</td><td>Map(mode -> Append, statsOnLoad -> false, partitionBy -> [\"ingest_day\"])</td><td>null</td><td>List(1323301528906842)</td><td>0120-034800-q4ixh8v8</td><td>1</td><td>WriteSerializable</td><td>true</td><td>Map(numFiles -> 1, numOutputRows -> 1000000, numOutputBytes -> 18235231)</td><td>null</td><td>Databricks-Runtime/15.4.x-scala2.12</td></tr><tr><td>1</td><td>2025-08-14T23:00:34Z</td><td>78016171715504</td><td>rohithkumar0955@gmail.com</td><td>WRITE</td><td>Map(mode -> Append, statsOnLoad -> false, partitionBy -> [\"ingest_day\"])</td><td>null</td><td>List(1323301528906842)</td><td>0120-034800-q4ixh8v8</td><td>0</td><td>WriteSerializable</td><td>true</td><td>Map(numFiles -> 1, numOutputRows -> 1000000, numOutputBytes -> 18234517)</td><td>null</td><td>Databricks-Runtime/15.4.x-scala2.12</td></tr><tr><td>0</td><td>2025-08-14T23:00:30Z</td><td>78016171715504</td><td>rohithkumar0955@gmail.com</td><td>WRITE</td><td>Map(mode -> Append, statsOnLoad -> false, partitionBy -> [\"ingest_day\"])</td><td>null</td><td>List(1323301528906842)</td><td>0120-034800-q4ixh8v8</td><td>null</td><td>WriteSerializable</td><td>true</td><td>Map(numFiles -> 1, numOutputRows -> 1000000, numOutputBytes -> 18235273)</td><td>null</td><td>Databricks-Runtime/15.4.x-scala2.12</td></tr></tbody></table></div>"
      ]
     },
     "metadata": {
      "application/vnd.databricks.v1+output": {
       "addedWidgets": {},
       "aggData": [],
       "aggError": "",
       "aggOverflow": false,
       "aggSchema": [],
       "aggSeriesLimitReached": false,
       "aggType": "",
       "arguments": {},
       "columnCustomDisplayInfos": {},
       "data": [
        [
         181,
         "2025-08-16T02:58:51Z",
         "78016171715504",
         "rohithkumar0955@gmail.com",
         "WRITE",
         {
          "mode": "Append",
          "partitionBy": "[\"ingest_day\"]",
          "statsOnLoad": "false"
         },
         null,
         [
          "1323301528906842"
         ],
         "0120-034800-q4ixh8v8",
         180,
         "WriteSerializable",
         true,
         {
          "numFiles": "1",
          "numOutputBytes": "27317715",
          "numOutputRows": "1500000"
         },
         null,
         "Databricks-Runtime/15.4.x-scala2.12"
        ],
        [
         180,
         "2025-08-16T02:58:47Z",
         "78016171715504",
         "rohithkumar0955@gmail.com",
         "WRITE",
         {
          "mode": "Append",
          "partitionBy": "[\"ingest_day\"]",
          "statsOnLoad": "false"
         },
         null,
         [
          "1323301528906842"
         ],
         "0120-034800-q4ixh8v8",
         179,
         "WriteSerializable",
         true,
         {
          "numFiles": "1",
          "numOutputBytes": "27318412",
          "numOutputRows": "1500000"
         },
         null,
         "Databricks-Runtime/15.4.x-scala2.12"
        ],
        [
         179,
         "2025-08-16T02:58:43Z",
         "78016171715504",
         "rohithkumar0955@gmail.com",
         "WRITE",
         {
          "mode": "Append",
          "partitionBy": "[\"ingest_day\"]",
          "statsOnLoad": "false"
         },
         null,
         [
          "1323301528906842"
         ],
         "0120-034800-q4ixh8v8",
         178,
         "WriteSerializable",
         true,
         {
          "numFiles": "1",
          "numOutputBytes": "27317704",
          "numOutputRows": "1500000"
         },
         null,
         "Databricks-Runtime/15.4.x-scala2.12"
        ],
        [
         178,
         "2025-08-16T02:58:39Z",
         "78016171715504",
         "rohithkumar0955@gmail.com",
         "WRITE",
         {
          "mode": "Append",
          "partitionBy": "[\"ingest_day\"]",
          "statsOnLoad": "false"
         },
         null,
         [
          "1323301528906842"
         ],
         "0120-034800-q4ixh8v8",
         177,
         "WriteSerializable",
         true,
         {
          "numFiles": "1",
          "numOutputBytes": "27318413",
          "numOutputRows": "1500000"
         },
         null,
         "Databricks-Runtime/15.4.x-scala2.12"
        ],
        [
         177,
         "2025-08-16T02:58:35Z",
         "78016171715504",
         "rohithkumar0955@gmail.com",
         "WRITE",
         {
          "mode": "Append",
          "partitionBy": "[\"ingest_day\"]",
          "statsOnLoad": "false"
         },
         null,
         [
          "1323301528906842"
         ],
         "0120-034800-q4ixh8v8",
         176,
         "WriteSerializable",
         true,
         {
          "numFiles": "1",
          "numOutputBytes": "27317670",
          "numOutputRows": "1500000"
         },
         null,
         "Databricks-Runtime/15.4.x-scala2.12"
        ],
        [
         176,
         "2025-08-16T02:58:31Z",
         "78016171715504",
         "rohithkumar0955@gmail.com",
         "WRITE",
         {
          "mode": "Append",
          "partitionBy": "[\"ingest_day\"]",
          "statsOnLoad": "false"
         },
         null,
         [
          "1323301528906842"
         ],
         "0120-034800-q4ixh8v8",
         175,
         "WriteSerializable",
         true,
         {
          "numFiles": "1",
          "numOutputBytes": "27318410",
          "numOutputRows": "1500000"
         },
         null,
         "Databricks-Runtime/15.4.x-scala2.12"
        ],
        [
         175,
         "2025-08-16T02:58:27Z",
         "78016171715504",
         "rohithkumar0955@gmail.com",
         "WRITE",
         {
          "mode": "Append",
          "partitionBy": "[\"ingest_day\"]",
          "statsOnLoad": "false"
         },
         null,
         [
          "1323301528906842"
         ],
         "0120-034800-q4ixh8v8",
         174,
         "WriteSerializable",
         true,
         {
          "numFiles": "1",
          "numOutputBytes": "27317702",
          "numOutputRows": "1500000"
         },
         null,
         "Databricks-Runtime/15.4.x-scala2.12"
        ],
        [
         174,
         "2025-08-16T02:58:23Z",
         "78016171715504",
         "rohithkumar0955@gmail.com",
         "WRITE",
         {
          "mode": "Append",
          "partitionBy": "[\"ingest_day\"]",
          "statsOnLoad": "false"
         },
         null,
         [
          "1323301528906842"
         ],
         "0120-034800-q4ixh8v8",
         173,
         "WriteSerializable",
         true,
         {
          "numFiles": "1",
          "numOutputBytes": "27318404",
          "numOutputRows": "1500000"
         },
         null,
         "Databricks-Runtime/15.4.x-scala2.12"
        ],
        [
         173,
         "2025-08-16T02:58:18Z",
         "78016171715504",
         "rohithkumar0955@gmail.com",
         "WRITE",
         {
          "mode": "Append",
          "partitionBy": "[\"ingest_day\"]",
          "statsOnLoad": "false"
         },
         null,
         [
          "1323301528906842"
         ],
         "0120-034800-q4ixh8v8",
         172,
         "WriteSerializable",
         true,
         {
          "numFiles": "1",
          "numOutputBytes": "27318410",
          "numOutputRows": "1500000"
         },
         null,
         "Databricks-Runtime/15.4.x-scala2.12"
        ],
        [
         172,
         "2025-08-16T02:58:14Z",
         "78016171715504",
         "rohithkumar0955@gmail.com",
         "WRITE",
         {
          "mode": "Append",
          "partitionBy": "[\"ingest_day\"]",
          "statsOnLoad": "false"
         },
         null,
         [
          "1323301528906842"
         ],
         "0120-034800-q4ixh8v8",
         171,
         "WriteSerializable",
         true,
         {
          "numFiles": "1",
          "numOutputBytes": "27317703",
          "numOutputRows": "1500000"
         },
         null,
         "Databricks-Runtime/15.4.x-scala2.12"
        ],
        [
         171,
         "2025-08-16T02:58:10Z",
         "78016171715504",
         "rohithkumar0955@gmail.com",
         "WRITE",
         {
          "mode": "Append",
          "partitionBy": "[\"ingest_day\"]",
          "statsOnLoad": "false"
         },
         null,
         [
          "1323301528906842"
         ],
         "0120-034800-q4ixh8v8",
         170,
         "WriteSerializable",
         true,
         {
          "numFiles": "1",
          "numOutputBytes": "27317695",
          "numOutputRows": "1500000"
         },
         null,
         "Databricks-Runtime/15.4.x-scala2.12"
        ],
        [
         170,
         "2025-08-16T02:58:07Z",
         "78016171715504",
         "rohithkumar0955@gmail.com",
         "WRITE",
         {
          "mode": "Append",
          "partitionBy": "[\"ingest_day\"]",
          "statsOnLoad": "false"
         },
         null,
         [
          "1323301528906842"
         ],
         "0120-034800-q4ixh8v8",
         169,
         "WriteSerializable",
         true,
         {
          "numFiles": "1",
          "numOutputBytes": "27318397",
          "numOutputRows": "1500000"
         },
         null,
         "Databricks-Runtime/15.4.x-scala2.12"
        ],
        [
         169,
         "2025-08-16T02:58:03Z",
         "78016171715504",
         "rohithkumar0955@gmail.com",
         "WRITE",
         {
          "mode": "Append",
          "partitionBy": "[\"ingest_day\"]",
          "statsOnLoad": "false"
         },
         null,
         [
          "1323301528906842"
         ],
         "0120-034800-q4ixh8v8",
         168,
         "WriteSerializable",
         true,
         {
          "numFiles": "1",
          "numOutputBytes": "27317672",
          "numOutputRows": "1500000"
         },
         null,
         "Databricks-Runtime/15.4.x-scala2.12"
        ],
        [
         168,
         "2025-08-16T02:57:59Z",
         "78016171715504",
         "rohithkumar0955@gmail.com",
         "WRITE",
         {
          "mode": "Append",
          "partitionBy": "[\"ingest_day\"]",
          "statsOnLoad": "false"
         },
         null,
         [
          "1323301528906842"
         ],
         "0120-034800-q4ixh8v8",
         167,
         "WriteSerializable",
         true,
         {
          "numFiles": "1",
          "numOutputBytes": "27318410",
          "numOutputRows": "1500000"
         },
         null,
         "Databricks-Runtime/15.4.x-scala2.12"
        ],
        [
         167,
         "2025-08-16T02:57:55Z",
         "78016171715504",
         "rohithkumar0955@gmail.com",
         "WRITE",
         {
          "mode": "Append",
          "partitionBy": "[\"ingest_day\"]",
          "statsOnLoad": "false"
         },
         null,
         [
          "1323301528906842"
         ],
         "0120-034800-q4ixh8v8",
         166,
         "WriteSerializable",
         true,
         {
          "numFiles": "1",
          "numOutputBytes": "27318404",
          "numOutputRows": "1500000"
         },
         null,
         "Databricks-Runtime/15.4.x-scala2.12"
        ],
        [
         166,
         "2025-08-16T02:57:50Z",
         "78016171715504",
         "rohithkumar0955@gmail.com",
         "WRITE",
         {
          "mode": "Append",
          "partitionBy": "[\"ingest_day\"]",
          "statsOnLoad": "false"
         },
         null,
         [
          "1323301528906842"
         ],
         "0120-034800-q4ixh8v8",
         165,
         "WriteSerializable",
         true,
         {
          "numFiles": "1",
          "numOutputBytes": "27317704",
          "numOutputRows": "1500000"
         },
         null,
         "Databricks-Runtime/15.4.x-scala2.12"
        ],
        [
         165,
         "2025-08-16T02:57:46Z",
         "78016171715504",
         "rohithkumar0955@gmail.com",
         "WRITE",
         {
          "mode": "Append",
          "partitionBy": "[\"ingest_day\"]",
          "statsOnLoad": "false"
         },
         null,
         [
          "1323301528906842"
         ],
         "0120-034800-q4ixh8v8",
         164,
         "WriteSerializable",
         true,
         {
          "numFiles": "1",
          "numOutputBytes": "27318415",
          "numOutputRows": "1500000"
         },
         null,
         "Databricks-Runtime/15.4.x-scala2.12"
        ],
        [
         164,
         "2025-08-16T02:57:42Z",
         "78016171715504",
         "rohithkumar0955@gmail.com",
         "WRITE",
         {
          "mode": "Append",
          "partitionBy": "[\"ingest_day\"]",
          "statsOnLoad": "false"
         },
         null,
         [
          "1323301528906842"
         ],
         "0120-034800-q4ixh8v8",
         163,
         "WriteSerializable",
         true,
         {
          "numFiles": "1",
          "numOutputBytes": "27318415",
          "numOutputRows": "1500000"
         },
         null,
         "Databricks-Runtime/15.4.x-scala2.12"
        ],
        [
         163,
         "2025-08-16T02:57:39Z",
         "78016171715504",
         "rohithkumar0955@gmail.com",
         "WRITE",
         {
          "mode": "Append",
          "partitionBy": "[\"ingest_day\"]",
          "statsOnLoad": "false"
         },
         null,
         [
          "1323301528906842"
         ],
         "0120-034800-q4ixh8v8",
         162,
         "WriteSerializable",
         true,
         {
          "numFiles": "1",
          "numOutputBytes": "27317698",
          "numOutputRows": "1500000"
         },
         null,
         "Databricks-Runtime/15.4.x-scala2.12"
        ],
        [
         162,
         "2025-08-16T02:57:34Z",
         "78016171715504",
         "rohithkumar0955@gmail.com",
         "WRITE",
         {
          "mode": "Append",
          "partitionBy": "[\"ingest_day\"]",
          "statsOnLoad": "false"
         },
         null,
         [
          "1323301528906842"
         ],
         "0120-034800-q4ixh8v8",
         161,
         "WriteSerializable",
         true,
         {
          "numFiles": "1",
          "numOutputBytes": "27318405",
          "numOutputRows": "1500000"
         },
         null,
         "Databricks-Runtime/15.4.x-scala2.12"
        ],
        [
         161,
         "2025-08-16T02:57:30Z",
         "78016171715504",
         "rohithkumar0955@gmail.com",
         "WRITE",
         {
          "mode": "Append",
          "partitionBy": "[\"ingest_day\"]",
          "statsOnLoad": "false"
         },
         null,
         [
          "1323301528906842"
         ],
         "0120-034800-q4ixh8v8",
         160,
         "WriteSerializable",
         true,
         {
          "numFiles": "1",
          "numOutputBytes": "27318414",
          "numOutputRows": "1500000"
         },
         null,
         "Databricks-Runtime/15.4.x-scala2.12"
        ],
        [
         160,
         "2025-08-16T02:57:26Z",
         "78016171715504",
         "rohithkumar0955@gmail.com",
         "WRITE",
         {
          "mode": "Append",
          "partitionBy": "[\"ingest_day\"]",
          "statsOnLoad": "false"
         },
         null,
         [
          "1323301528906842"
         ],
         "0120-034800-q4ixh8v8",
         159,
         "WriteSerializable",
         true,
         {
          "numFiles": "1",
          "numOutputBytes": "27317708",
          "numOutputRows": "1500000"
         },
         null,
         "Databricks-Runtime/15.4.x-scala2.12"
        ],
        [
         159,
         "2025-08-16T02:57:22Z",
         "78016171715504",
         "rohithkumar0955@gmail.com",
         "WRITE",
         {
          "mode": "Append",
          "partitionBy": "[\"ingest_day\"]",
          "statsOnLoad": "false"
         },
         null,
         [
          "1323301528906842"
         ],
         "0120-034800-q4ixh8v8",
         158,
         "WriteSerializable",
         true,
         {
          "numFiles": "1",
          "numOutputBytes": "27317706",
          "numOutputRows": "1500000"
         },
         null,
         "Databricks-Runtime/15.4.x-scala2.12"
        ],
        [
         158,
         "2025-08-16T02:57:18Z",
         "78016171715504",
         "rohithkumar0955@gmail.com",
         "WRITE",
         {
          "mode": "Append",
          "partitionBy": "[\"ingest_day\"]",
          "statsOnLoad": "false"
         },
         null,
         [
          "1323301528906842"
         ],
         "0120-034800-q4ixh8v8",
         157,
         "WriteSerializable",
         true,
         {
          "numFiles": "1",
          "numOutputBytes": "27318410",
          "numOutputRows": "1500000"
         },
         null,
         "Databricks-Runtime/15.4.x-scala2.12"
        ],
        [
         157,
         "2025-08-16T02:57:14Z",
         "78016171715504",
         "rohithkumar0955@gmail.com",
         "WRITE",
         {
          "mode": "Append",
          "partitionBy": "[\"ingest_day\"]",
          "statsOnLoad": "false"
         },
         null,
         [
          "1323301528906842"
         ],
         "0120-034800-q4ixh8v8",
         156,
         "WriteSerializable",
         true,
         {
          "numFiles": "1",
          "numOutputBytes": "27318404",
          "numOutputRows": "1500000"
         },
         null,
         "Databricks-Runtime/15.4.x-scala2.12"
        ],
        [
         156,
         "2025-08-16T02:57:10Z",
         "78016171715504",
         "rohithkumar0955@gmail.com",
         "WRITE",
         {
          "mode": "Append",
          "partitionBy": "[\"ingest_day\"]",
          "statsOnLoad": "false"
         },
         null,
         [
          "1323301528906842"
         ],
         "0120-034800-q4ixh8v8",
         155,
         "WriteSerializable",
         true,
         {
          "numFiles": "1",
          "numOutputBytes": "27317699",
          "numOutputRows": "1500000"
         },
         null,
         "Databricks-Runtime/15.4.x-scala2.12"
        ],
        [
         155,
         "2025-08-16T02:57:06Z",
         "78016171715504",
         "rohithkumar0955@gmail.com",
         "WRITE",
         {
          "mode": "Append",
          "partitionBy": "[\"ingest_day\"]",
          "statsOnLoad": "false"
         },
         null,
         [
          "1323301528906842"
         ],
         "0120-034800-q4ixh8v8",
         154,
         "WriteSerializable",
         true,
         {
          "numFiles": "1",
          "numOutputBytes": "27317709",
          "numOutputRows": "1500000"
         },
         null,
         "Databricks-Runtime/15.4.x-scala2.12"
        ],
        [
         154,
         "2025-08-16T02:57:02Z",
         "78016171715504",
         "rohithkumar0955@gmail.com",
         "WRITE",
         {
          "mode": "Append",
          "partitionBy": "[\"ingest_day\"]",
          "statsOnLoad": "false"
         },
         null,
         [
          "1323301528906842"
         ],
         "0120-034800-q4ixh8v8",
         153,
         "WriteSerializable",
         true,
         {
          "numFiles": "1",
          "numOutputBytes": "27317706",
          "numOutputRows": "1500000"
         },
         null,
         "Databricks-Runtime/15.4.x-scala2.12"
        ],
        [
         153,
         "2025-08-16T02:56:59Z",
         "78016171715504",
         "rohithkumar0955@gmail.com",
         "WRITE",
         {
          "mode": "Append",
          "partitionBy": "[\"ingest_day\"]",
          "statsOnLoad": "false"
         },
         null,
         [
          "1323301528906842"
         ],
         "0120-034800-q4ixh8v8",
         152,
         "WriteSerializable",
         true,
         {
          "numFiles": "1",
          "numOutputBytes": "27318405",
          "numOutputRows": "1500000"
         },
         null,
         "Databricks-Runtime/15.4.x-scala2.12"
        ],
        [
         152,
         "2025-08-16T02:56:54Z",
         "78016171715504",
         "rohithkumar0955@gmail.com",
         "WRITE",
         {
          "mode": "Append",
          "partitionBy": "[\"ingest_day\"]",
          "statsOnLoad": "false"
         },
         null,
         [
          "1323301528906842"
         ],
         "0120-034800-q4ixh8v8",
         151,
         "WriteSerializable",
         true,
         {
          "numFiles": "1",
          "numOutputBytes": "27318404",
          "numOutputRows": "1500000"
         },
         null,
         "Databricks-Runtime/15.4.x-scala2.12"
        ],
        [
         151,
         "2025-08-16T02:56:50Z",
         "78016171715504",
         "rohithkumar0955@gmail.com",
         "WRITE",
         {
          "mode": "Append",
          "partitionBy": "[\"ingest_day\"]",
          "statsOnLoad": "false"
         },
         null,
         [
          "1323301528906842"
         ],
         "0120-034800-q4ixh8v8",
         150,
         "WriteSerializable",
         true,
         {
          "numFiles": "1",
          "numOutputBytes": "27317678",
          "numOutputRows": "1500000"
         },
         null,
         "Databricks-Runtime/15.4.x-scala2.12"
        ],
        [
         150,
         "2025-08-16T02:56:46Z",
         "78016171715504",
         "rohithkumar0955@gmail.com",
         "WRITE",
         {
          "mode": "Append",
          "partitionBy": "[\"ingest_day\"]",
          "statsOnLoad": "false"
         },
         null,
         [
          "1323301528906842"
         ],
         "0120-034800-q4ixh8v8",
         149,
         "WriteSerializable",
         true,
         {
          "numFiles": "1",
          "numOutputBytes": "27318405",
          "numOutputRows": "1500000"
         },
         null,
         "Databricks-Runtime/15.4.x-scala2.12"
        ],
        [
         149,
         "2025-08-16T02:56:42Z",
         "78016171715504",
         "rohithkumar0955@gmail.com",
         "WRITE",
         {
          "mode": "Append",
          "partitionBy": "[\"ingest_day\"]",
          "statsOnLoad": "false"
         },
         null,
         [
          "1323301528906842"
         ],
         "0120-034800-q4ixh8v8",
         148,
         "WriteSerializable",
         true,
         {
          "numFiles": "1",
          "numOutputBytes": "27318411",
          "numOutputRows": "1500000"
         },
         null,
         "Databricks-Runtime/15.4.x-scala2.12"
        ],
        [
         148,
         "2025-08-16T02:56:37Z",
         "78016171715504",
         "rohithkumar0955@gmail.com",
         "WRITE",
         {
          "mode": "Append",
          "partitionBy": "[\"ingest_day\"]",
          "statsOnLoad": "false"
         },
         null,
         [
          "1323301528906842"
         ],
         "0120-034800-q4ixh8v8",
         147,
         "WriteSerializable",
         true,
         {
          "numFiles": "1",
          "numOutputBytes": "27318415",
          "numOutputRows": "1500000"
         },
         null,
         "Databricks-Runtime/15.4.x-scala2.12"
        ],
        [
         147,
         "2025-08-16T02:56:34Z",
         "78016171715504",
         "rohithkumar0955@gmail.com",
         "WRITE",
         {
          "mode": "Append",
          "partitionBy": "[\"ingest_day\"]",
          "statsOnLoad": "false"
         },
         null,
         [
          "1323301528906842"
         ],
         "0120-034800-q4ixh8v8",
         146,
         "WriteSerializable",
         true,
         {
          "numFiles": "1",
          "numOutputBytes": "27317684",
          "numOutputRows": "1500000"
         },
         null,
         "Databricks-Runtime/15.4.x-scala2.12"
        ],
        [
         146,
         "2025-08-16T02:56:30Z",
         "78016171715504",
         "rohithkumar0955@gmail.com",
         "WRITE",
         {
          "mode": "Append",
          "partitionBy": "[\"ingest_day\"]",
          "statsOnLoad": "false"
         },
         null,
         [
          "1323301528906842"
         ],
         "0120-034800-q4ixh8v8",
         145,
         "WriteSerializable",
         true,
         {
          "numFiles": "1",
          "numOutputBytes": "27318414",
          "numOutputRows": "1500000"
         },
         null,
         "Databricks-Runtime/15.4.x-scala2.12"
        ],
        [
         145,
         "2025-08-16T02:56:26Z",
         "78016171715504",
         "rohithkumar0955@gmail.com",
         "WRITE",
         {
          "mode": "Append",
          "partitionBy": "[\"ingest_day\"]",
          "statsOnLoad": "false"
         },
         null,
         [
          "1323301528906842"
         ],
         "0120-034800-q4ixh8v8",
         144,
         "WriteSerializable",
         true,
         {
          "numFiles": "1",
          "numOutputBytes": "27317690",
          "numOutputRows": "1500000"
         },
         null,
         "Databricks-Runtime/15.4.x-scala2.12"
        ],
        [
         144,
         "2025-08-16T02:56:22Z",
         "78016171715504",
         "rohithkumar0955@gmail.com",
         "WRITE",
         {
          "mode": "Append",
          "partitionBy": "[\"ingest_day\"]",
          "statsOnLoad": "false"
         },
         null,
         [
          "1323301528906842"
         ],
         "0120-034800-q4ixh8v8",
         143,
         "WriteSerializable",
         true,
         {
          "numFiles": "1",
          "numOutputBytes": "27318398",
          "numOutputRows": "1500000"
         },
         null,
         "Databricks-Runtime/15.4.x-scala2.12"
        ],
        [
         143,
         "2025-08-16T02:56:18Z",
         "78016171715504",
         "rohithkumar0955@gmail.com",
         "WRITE",
         {
          "mode": "Append",
          "partitionBy": "[\"ingest_day\"]",
          "statsOnLoad": "false"
         },
         null,
         [
          "1323301528906842"
         ],
         "0120-034800-q4ixh8v8",
         142,
         "WriteSerializable",
         true,
         {
          "numFiles": "1",
          "numOutputBytes": "27317704",
          "numOutputRows": "1500000"
         },
         null,
         "Databricks-Runtime/15.4.x-scala2.12"
        ],
        [
         142,
         "2025-08-16T02:56:14Z",
         "78016171715504",
         "rohithkumar0955@gmail.com",
         "WRITE",
         {
          "mode": "Append",
          "partitionBy": "[\"ingest_day\"]",
          "statsOnLoad": "false"
         },
         null,
         [
          "1323301528906842"
         ],
         "0120-034800-q4ixh8v8",
         141,
         "WriteSerializable",
         true,
         {
          "numFiles": "1",
          "numOutputBytes": "27317703",
          "numOutputRows": "1500000"
         },
         null,
         "Databricks-Runtime/15.4.x-scala2.12"
        ],
        [
         141,
         "2025-08-16T02:56:10Z",
         "78016171715504",
         "rohithkumar0955@gmail.com",
         "WRITE",
         {
          "mode": "Append",
          "partitionBy": "[\"ingest_day\"]",
          "statsOnLoad": "false"
         },
         null,
         [
          "1323301528906842"
         ],
         "0120-034800-q4ixh8v8",
         140,
         "WriteSerializable",
         true,
         {
          "numFiles": "1",
          "numOutputBytes": "27317709",
          "numOutputRows": "1500000"
         },
         null,
         "Databricks-Runtime/15.4.x-scala2.12"
        ],
        [
         140,
         "2025-08-16T02:56:06Z",
         "78016171715504",
         "rohithkumar0955@gmail.com",
         "WRITE",
         {
          "mode": "Append",
          "partitionBy": "[\"ingest_day\"]",
          "statsOnLoad": "false"
         },
         null,
         [
          "1323301528906842"
         ],
         "0120-034800-q4ixh8v8",
         139,
         "WriteSerializable",
         true,
         {
          "numFiles": "1",
          "numOutputBytes": "27318400",
          "numOutputRows": "1500000"
         },
         null,
         "Databricks-Runtime/15.4.x-scala2.12"
        ],
        [
         139,
         "2025-08-16T02:56:02Z",
         "78016171715504",
         "rohithkumar0955@gmail.com",
         "WRITE",
         {
          "mode": "Append",
          "partitionBy": "[\"ingest_day\"]",
          "statsOnLoad": "false"
         },
         null,
         [
          "1323301528906842"
         ],
         "0120-034800-q4ixh8v8",
         138,
         "WriteSerializable",
         true,
         {
          "numFiles": "1",
          "numOutputBytes": "27317682",
          "numOutputRows": "1500000"
         },
         null,
         "Databricks-Runtime/15.4.x-scala2.12"
        ],
        [
         138,
         "2025-08-16T02:55:57Z",
         "78016171715504",
         "rohithkumar0955@gmail.com",
         "WRITE",
         {
          "mode": "Append",
          "partitionBy": "[\"ingest_day\"]",
          "statsOnLoad": "false"
         },
         null,
         [
          "1323301528906842"
         ],
         "0120-034800-q4ixh8v8",
         137,
         "WriteSerializable",
         true,
         {
          "numFiles": "1",
          "numOutputBytes": "27318412",
          "numOutputRows": "1500000"
         },
         null,
         "Databricks-Runtime/15.4.x-scala2.12"
        ],
        [
         137,
         "2025-08-16T02:55:53Z",
         "78016171715504",
         "rohithkumar0955@gmail.com",
         "WRITE",
         {
          "mode": "Append",
          "partitionBy": "[\"ingest_day\"]",
          "statsOnLoad": "false"
         },
         null,
         [
          "1323301528906842"
         ],
         "0120-034800-q4ixh8v8",
         136,
         "WriteSerializable",
         true,
         {
          "numFiles": "1",
          "numOutputBytes": "27318405",
          "numOutputRows": "1500000"
         },
         null,
         "Databricks-Runtime/15.4.x-scala2.12"
        ],
        [
         136,
         "2025-08-16T02:55:48Z",
         "78016171715504",
         "rohithkumar0955@gmail.com",
         "WRITE",
         {
          "mode": "Append",
          "partitionBy": "[\"ingest_day\"]",
          "statsOnLoad": "false"
         },
         null,
         [
          "1323301528906842"
         ],
         "0120-034800-q4ixh8v8",
         135,
         "WriteSerializable",
         true,
         {
          "numFiles": "1",
          "numOutputBytes": "27318409",
          "numOutputRows": "1500000"
         },
         null,
         "Databricks-Runtime/15.4.x-scala2.12"
        ],
        [
         135,
         "2025-08-16T02:55:44Z",
         "78016171715504",
         "rohithkumar0955@gmail.com",
         "WRITE",
         {
          "mode": "Append",
          "partitionBy": "[\"ingest_day\"]",
          "statsOnLoad": "false"
         },
         null,
         [
          "1323301528906842"
         ],
         "0120-034800-q4ixh8v8",
         134,
         "WriteSerializable",
         true,
         {
          "numFiles": "1",
          "numOutputBytes": "27318416",
          "numOutputRows": "1500000"
         },
         null,
         "Databricks-Runtime/15.4.x-scala2.12"
        ],
        [
         134,
         "2025-08-16T02:55:40Z",
         "78016171715504",
         "rohithkumar0955@gmail.com",
         "WRITE",
         {
          "mode": "Append",
          "partitionBy": "[\"ingest_day\"]",
          "statsOnLoad": "false"
         },
         null,
         [
          "1323301528906842"
         ],
         "0120-034800-q4ixh8v8",
         133,
         "WriteSerializable",
         true,
         {
          "numFiles": "1",
          "numOutputBytes": "27318408",
          "numOutputRows": "1500000"
         },
         null,
         "Databricks-Runtime/15.4.x-scala2.12"
        ],
        [
         133,
         "2025-08-16T02:55:36Z",
         "78016171715504",
         "rohithkumar0955@gmail.com",
         "WRITE",
         {
          "mode": "Append",
          "partitionBy": "[\"ingest_day\"]",
          "statsOnLoad": "false"
         },
         null,
         [
          "1323301528906842"
         ],
         "0120-034800-q4ixh8v8",
         132,
         "WriteSerializable",
         true,
         {
          "numFiles": "1",
          "numOutputBytes": "27318405",
          "numOutputRows": "1500000"
         },
         null,
         "Databricks-Runtime/15.4.x-scala2.12"
        ],
        [
         132,
         "2025-08-16T02:55:31Z",
         "78016171715504",
         "rohithkumar0955@gmail.com",
         "WRITE",
         {
          "mode": "Append",
          "partitionBy": "[\"ingest_day\"]",
          "statsOnLoad": "false"
         },
         null,
         [
          "1323301528906842"
         ],
         "0120-034800-q4ixh8v8",
         131,
         "WriteSerializable",
         true,
         {
          "numFiles": "1",
          "numOutputBytes": "27318408",
          "numOutputRows": "1500000"
         },
         null,
         "Databricks-Runtime/15.4.x-scala2.12"
        ],
        [
         131,
         "2025-08-16T02:55:27Z",
         "78016171715504",
         "rohithkumar0955@gmail.com",
         "WRITE",
         {
          "mode": "Append",
          "partitionBy": "[\"ingest_day\"]",
          "statsOnLoad": "false"
         },
         null,
         [
          "1323301528906842"
         ],
         "0120-034800-q4ixh8v8",
         130,
         "WriteSerializable",
         true,
         {
          "numFiles": "1",
          "numOutputBytes": "27318405",
          "numOutputRows": "1500000"
         },
         null,
         "Databricks-Runtime/15.4.x-scala2.12"
        ],
        [
         130,
         "2025-08-16T02:55:23Z",
         "78016171715504",
         "rohithkumar0955@gmail.com",
         "WRITE",
         {
          "mode": "Append",
          "partitionBy": "[\"ingest_day\"]",
          "statsOnLoad": "false"
         },
         null,
         [
          "1323301528906842"
         ],
         "0120-034800-q4ixh8v8",
         129,
         "WriteSerializable",
         true,
         {
          "numFiles": "1",
          "numOutputBytes": "27317677",
          "numOutputRows": "1500000"
         },
         null,
         "Databricks-Runtime/15.4.x-scala2.12"
        ],
        [
         129,
         "2025-08-16T02:55:20Z",
         "78016171715504",
         "rohithkumar0955@gmail.com",
         "WRITE",
         {
          "mode": "Append",
          "partitionBy": "[\"ingest_day\"]",
          "statsOnLoad": "false"
         },
         null,
         [
          "1323301528906842"
         ],
         "0120-034800-q4ixh8v8",
         128,
         "WriteSerializable",
         true,
         {
          "numFiles": "1",
          "numOutputBytes": "27318404",
          "numOutputRows": "1500000"
         },
         null,
         "Databricks-Runtime/15.4.x-scala2.12"
        ],
        [
         128,
         "2025-08-16T02:55:15Z",
         "78016171715504",
         "rohithkumar0955@gmail.com",
         "WRITE",
         {
          "mode": "Append",
          "partitionBy": "[\"ingest_day\"]",
          "statsOnLoad": "false"
         },
         null,
         [
          "1323301528906842"
         ],
         "0120-034800-q4ixh8v8",
         127,
         "WriteSerializable",
         true,
         {
          "numFiles": "1",
          "numOutputBytes": "27317702",
          "numOutputRows": "1500000"
         },
         null,
         "Databricks-Runtime/15.4.x-scala2.12"
        ],
        [
         127,
         "2025-08-16T02:55:11Z",
         "78016171715504",
         "rohithkumar0955@gmail.com",
         "WRITE",
         {
          "mode": "Append",
          "partitionBy": "[\"ingest_day\"]",
          "statsOnLoad": "false"
         },
         null,
         [
          "1323301528906842"
         ],
         "0120-034800-q4ixh8v8",
         126,
         "WriteSerializable",
         true,
         {
          "numFiles": "1",
          "numOutputBytes": "27318410",
          "numOutputRows": "1500000"
         },
         null,
         "Databricks-Runtime/15.4.x-scala2.12"
        ],
        [
         126,
         "2025-08-16T02:55:07Z",
         "78016171715504",
         "rohithkumar0955@gmail.com",
         "WRITE",
         {
          "mode": "Append",
          "partitionBy": "[\"ingest_day\"]",
          "statsOnLoad": "false"
         },
         null,
         [
          "1323301528906842"
         ],
         "0120-034800-q4ixh8v8",
         125,
         "WriteSerializable",
         true,
         {
          "numFiles": "1",
          "numOutputBytes": "27318413",
          "numOutputRows": "1500000"
         },
         null,
         "Databricks-Runtime/15.4.x-scala2.12"
        ],
        [
         125,
         "2025-08-16T02:55:04Z",
         "78016171715504",
         "rohithkumar0955@gmail.com",
         "WRITE",
         {
          "mode": "Append",
          "partitionBy": "[\"ingest_day\"]",
          "statsOnLoad": "false"
         },
         null,
         [
          "1323301528906842"
         ],
         "0120-034800-q4ixh8v8",
         124,
         "WriteSerializable",
         true,
         {
          "numFiles": "1",
          "numOutputBytes": "27318400",
          "numOutputRows": "1500000"
         },
         null,
         "Databricks-Runtime/15.4.x-scala2.12"
        ],
        [
         124,
         "2025-08-16T02:55:00Z",
         "78016171715504",
         "rohithkumar0955@gmail.com",
         "WRITE",
         {
          "mode": "Append",
          "partitionBy": "[\"ingest_day\"]",
          "statsOnLoad": "false"
         },
         null,
         [
          "1323301528906842"
         ],
         "0120-034800-q4ixh8v8",
         123,
         "WriteSerializable",
         true,
         {
          "numFiles": "1",
          "numOutputBytes": "27318417",
          "numOutputRows": "1500000"
         },
         null,
         "Databricks-Runtime/15.4.x-scala2.12"
        ],
        [
         123,
         "2025-08-16T02:54:54Z",
         "78016171715504",
         "rohithkumar0955@gmail.com",
         "WRITE",
         {
          "mode": "Append",
          "partitionBy": "[\"ingest_day\"]",
          "statsOnLoad": "false"
         },
         null,
         [
          "1323301528906842"
         ],
         "0120-034800-q4ixh8v8",
         122,
         "WriteSerializable",
         true,
         {
          "numFiles": "1",
          "numOutputBytes": "27317705",
          "numOutputRows": "1500000"
         },
         null,
         "Databricks-Runtime/15.4.x-scala2.12"
        ],
        [
         122,
         "2025-08-16T02:54:50Z",
         "78016171715504",
         "rohithkumar0955@gmail.com",
         "WRITE",
         {
          "mode": "Append",
          "partitionBy": "[\"ingest_day\"]",
          "statsOnLoad": "false"
         },
         null,
         [
          "1323301528906842"
         ],
         "0120-034800-q4ixh8v8",
         121,
         "WriteSerializable",
         true,
         {
          "numFiles": "1",
          "numOutputBytes": "27318409",
          "numOutputRows": "1500000"
         },
         null,
         "Databricks-Runtime/15.4.x-scala2.12"
        ],
        [
         121,
         "2025-08-16T02:54:46Z",
         "78016171715504",
         "rohithkumar0955@gmail.com",
         "WRITE",
         {
          "mode": "Append",
          "partitionBy": "[\"ingest_day\"]",
          "statsOnLoad": "false"
         },
         null,
         [
          "1323301528906842"
         ],
         "0120-034800-q4ixh8v8",
         120,
         "WriteSerializable",
         true,
         {
          "numFiles": "1",
          "numOutputBytes": "25241778",
          "numOutputRows": "1500000"
         },
         null,
         "Databricks-Runtime/15.4.x-scala2.12"
        ],
        [
         120,
         "2025-08-16T02:54:42Z",
         "78016171715504",
         "rohithkumar0955@gmail.com",
         "WRITE",
         {
          "mode": "Append",
          "partitionBy": "[\"ingest_day\"]",
          "statsOnLoad": "false"
         },
         null,
         [
          "1323301528906842"
         ],
         "0120-034800-q4ixh8v8",
         119,
         "WriteSerializable",
         true,
         {
          "numFiles": "1",
          "numOutputBytes": "27317688",
          "numOutputRows": "1500000"
         },
         null,
         "Databricks-Runtime/15.4.x-scala2.12"
        ],
        [
         119,
         "2025-08-16T02:54:38Z",
         "78016171715504",
         "rohithkumar0955@gmail.com",
         "WRITE",
         {
          "mode": "Append",
          "partitionBy": "[\"ingest_day\"]",
          "statsOnLoad": "false"
         },
         null,
         [
          "1323301528906842"
         ],
         "0120-034800-q4ixh8v8",
         118,
         "WriteSerializable",
         true,
         {
          "numFiles": "1",
          "numOutputBytes": "27317715",
          "numOutputRows": "1500000"
         },
         null,
         "Databricks-Runtime/15.4.x-scala2.12"
        ],
        [
         118,
         "2025-08-16T02:54:34Z",
         "78016171715504",
         "rohithkumar0955@gmail.com",
         "WRITE",
         {
          "mode": "Append",
          "partitionBy": "[\"ingest_day\"]",
          "statsOnLoad": "false"
         },
         null,
         [
          "1323301528906842"
         ],
         "0120-034800-q4ixh8v8",
         117,
         "WriteSerializable",
         true,
         {
          "numFiles": "1",
          "numOutputBytes": "27318413",
          "numOutputRows": "1500000"
         },
         null,
         "Databricks-Runtime/15.4.x-scala2.12"
        ],
        [
         117,
         "2025-08-16T02:54:29Z",
         "78016171715504",
         "rohithkumar0955@gmail.com",
         "WRITE",
         {
          "mode": "Append",
          "partitionBy": "[\"ingest_day\"]",
          "statsOnLoad": "false"
         },
         null,
         [
          "1323301528906842"
         ],
         "0120-034800-q4ixh8v8",
         116,
         "WriteSerializable",
         true,
         {
          "numFiles": "1",
          "numOutputBytes": "27318411",
          "numOutputRows": "1500000"
         },
         null,
         "Databricks-Runtime/15.4.x-scala2.12"
        ],
        [
         116,
         "2025-08-16T02:54:26Z",
         "78016171715504",
         "rohithkumar0955@gmail.com",
         "WRITE",
         {
          "mode": "Append",
          "partitionBy": "[\"ingest_day\"]",
          "statsOnLoad": "false"
         },
         null,
         [
          "1323301528906842"
         ],
         "0120-034800-q4ixh8v8",
         115,
         "WriteSerializable",
         true,
         {
          "numFiles": "1",
          "numOutputBytes": "27317686",
          "numOutputRows": "1500000"
         },
         null,
         "Databricks-Runtime/15.4.x-scala2.12"
        ],
        [
         115,
         "2025-08-16T02:54:22Z",
         "78016171715504",
         "rohithkumar0955@gmail.com",
         "WRITE",
         {
          "mode": "Append",
          "partitionBy": "[\"ingest_day\"]",
          "statsOnLoad": "false"
         },
         null,
         [
          "1323301528906842"
         ],
         "0120-034800-q4ixh8v8",
         114,
         "WriteSerializable",
         true,
         {
          "numFiles": "1",
          "numOutputBytes": "27318409",
          "numOutputRows": "1500000"
         },
         null,
         "Databricks-Runtime/15.4.x-scala2.12"
        ],
        [
         114,
         "2025-08-16T02:54:18Z",
         "78016171715504",
         "rohithkumar0955@gmail.com",
         "WRITE",
         {
          "mode": "Append",
          "partitionBy": "[\"ingest_day\"]",
          "statsOnLoad": "false"
         },
         null,
         [
          "1323301528906842"
         ],
         "0120-034800-q4ixh8v8",
         113,
         "WriteSerializable",
         true,
         {
          "numFiles": "1",
          "numOutputBytes": "27318412",
          "numOutputRows": "1500000"
         },
         null,
         "Databricks-Runtime/15.4.x-scala2.12"
        ],
        [
         113,
         "2025-08-16T02:54:14Z",
         "78016171715504",
         "rohithkumar0955@gmail.com",
         "WRITE",
         {
          "mode": "Append",
          "partitionBy": "[\"ingest_day\"]",
          "statsOnLoad": "false"
         },
         null,
         [
          "1323301528906842"
         ],
         "0120-034800-q4ixh8v8",
         112,
         "WriteSerializable",
         true,
         {
          "numFiles": "1",
          "numOutputBytes": "27318407",
          "numOutputRows": "1500000"
         },
         null,
         "Databricks-Runtime/15.4.x-scala2.12"
        ],
        [
         112,
         "2025-08-16T02:54:10Z",
         "78016171715504",
         "rohithkumar0955@gmail.com",
         "WRITE",
         {
          "mode": "Append",
          "partitionBy": "[\"ingest_day\"]",
          "statsOnLoad": "false"
         },
         null,
         [
          "1323301528906842"
         ],
         "0120-034800-q4ixh8v8",
         111,
         "WriteSerializable",
         true,
         {
          "numFiles": "1",
          "numOutputBytes": "27318403",
          "numOutputRows": "1500000"
         },
         null,
         "Databricks-Runtime/15.4.x-scala2.12"
        ],
        [
         111,
         "2025-08-16T02:54:06Z",
         "78016171715504",
         "rohithkumar0955@gmail.com",
         "WRITE",
         {
          "mode": "Append",
          "partitionBy": "[\"ingest_day\"]",
          "statsOnLoad": "false"
         },
         null,
         [
          "1323301528906842"
         ],
         "0120-034800-q4ixh8v8",
         110,
         "WriteSerializable",
         true,
         {
          "numFiles": "1",
          "numOutputBytes": "27318403",
          "numOutputRows": "1500000"
         },
         null,
         "Databricks-Runtime/15.4.x-scala2.12"
        ],
        [
         110,
         "2025-08-16T02:54:02Z",
         "78016171715504",
         "rohithkumar0955@gmail.com",
         "WRITE",
         {
          "mode": "Append",
          "partitionBy": "[\"ingest_day\"]",
          "statsOnLoad": "false"
         },
         null,
         [
          "1323301528906842"
         ],
         "0120-034800-q4ixh8v8",
         109,
         "WriteSerializable",
         true,
         {
          "numFiles": "1",
          "numOutputBytes": "27318408",
          "numOutputRows": "1500000"
         },
         null,
         "Databricks-Runtime/15.4.x-scala2.12"
        ],
        [
         109,
         "2025-08-16T02:53:57Z",
         "78016171715504",
         "rohithkumar0955@gmail.com",
         "WRITE",
         {
          "mode": "Append",
          "partitionBy": "[\"ingest_day\"]",
          "statsOnLoad": "false"
         },
         null,
         [
          "1323301528906842"
         ],
         "0120-034800-q4ixh8v8",
         108,
         "WriteSerializable",
         true,
         {
          "numFiles": "1",
          "numOutputBytes": "27318405",
          "numOutputRows": "1500000"
         },
         null,
         "Databricks-Runtime/15.4.x-scala2.12"
        ],
        [
         108,
         "2025-08-16T02:53:53Z",
         "78016171715504",
         "rohithkumar0955@gmail.com",
         "WRITE",
         {
          "mode": "Append",
          "partitionBy": "[\"ingest_day\"]",
          "statsOnLoad": "false"
         },
         null,
         [
          "1323301528906842"
         ],
         "0120-034800-q4ixh8v8",
         107,
         "WriteSerializable",
         true,
         {
          "numFiles": "1",
          "numOutputBytes": "27317672",
          "numOutputRows": "1500000"
         },
         null,
         "Databricks-Runtime/15.4.x-scala2.12"
        ],
        [
         107,
         "2025-08-16T02:53:49Z",
         "78016171715504",
         "rohithkumar0955@gmail.com",
         "WRITE",
         {
          "mode": "Append",
          "partitionBy": "[\"ingest_day\"]",
          "statsOnLoad": "false"
         },
         null,
         [
          "1323301528906842"
         ],
         "0120-034800-q4ixh8v8",
         106,
         "WriteSerializable",
         true,
         {
          "numFiles": "1",
          "numOutputBytes": "27317691",
          "numOutputRows": "1500000"
         },
         null,
         "Databricks-Runtime/15.4.x-scala2.12"
        ],
        [
         106,
         "2025-08-16T02:53:45Z",
         "78016171715504",
         "rohithkumar0955@gmail.com",
         "WRITE",
         {
          "mode": "Append",
          "partitionBy": "[\"ingest_day\"]",
          "statsOnLoad": "false"
         },
         null,
         [
          "1323301528906842"
         ],
         "0120-034800-q4ixh8v8",
         105,
         "WriteSerializable",
         true,
         {
          "numFiles": "1",
          "numOutputBytes": "27317675",
          "numOutputRows": "1500000"
         },
         null,
         "Databricks-Runtime/15.4.x-scala2.12"
        ],
        [
         105,
         "2025-08-16T02:53:40Z",
         "78016171715504",
         "rohithkumar0955@gmail.com",
         "WRITE",
         {
          "mode": "Append",
          "partitionBy": "[\"ingest_day\"]",
          "statsOnLoad": "false"
         },
         null,
         [
          "1323301528906842"
         ],
         "0120-034800-q4ixh8v8",
         104,
         "WriteSerializable",
         true,
         {
          "numFiles": "1",
          "numOutputBytes": "27317705",
          "numOutputRows": "1500000"
         },
         null,
         "Databricks-Runtime/15.4.x-scala2.12"
        ],
        [
         104,
         "2025-08-16T02:53:37Z",
         "78016171715504",
         "rohithkumar0955@gmail.com",
         "WRITE",
         {
          "mode": "Append",
          "partitionBy": "[\"ingest_day\"]",
          "statsOnLoad": "false"
         },
         null,
         [
          "1323301528906842"
         ],
         "0120-034800-q4ixh8v8",
         103,
         "WriteSerializable",
         true,
         {
          "numFiles": "1",
          "numOutputBytes": "27317705",
          "numOutputRows": "1500000"
         },
         null,
         "Databricks-Runtime/15.4.x-scala2.12"
        ],
        [
         103,
         "2025-08-16T02:53:32Z",
         "78016171715504",
         "rohithkumar0955@gmail.com",
         "WRITE",
         {
          "mode": "Append",
          "partitionBy": "[\"ingest_day\"]",
          "statsOnLoad": "false"
         },
         null,
         [
          "1323301528906842"
         ],
         "0120-034800-q4ixh8v8",
         102,
         "WriteSerializable",
         true,
         {
          "numFiles": "1",
          "numOutputBytes": "27318408",
          "numOutputRows": "1500000"
         },
         null,
         "Databricks-Runtime/15.4.x-scala2.12"
        ],
        [
         102,
         "2025-08-16T02:53:28Z",
         "78016171715504",
         "rohithkumar0955@gmail.com",
         "WRITE",
         {
          "mode": "Append",
          "partitionBy": "[\"ingest_day\"]",
          "statsOnLoad": "false"
         },
         null,
         [
          "1323301528906842"
         ],
         "0120-034800-q4ixh8v8",
         101,
         "WriteSerializable",
         true,
         {
          "numFiles": "1",
          "numOutputBytes": "27317702",
          "numOutputRows": "1500000"
         },
         null,
         "Databricks-Runtime/15.4.x-scala2.12"
        ],
        [
         101,
         "2025-08-16T02:53:25Z",
         "78016171715504",
         "rohithkumar0955@gmail.com",
         "WRITE",
         {
          "mode": "Append",
          "partitionBy": "[\"ingest_day\"]",
          "statsOnLoad": "false"
         },
         null,
         [
          "1323301528906842"
         ],
         "0120-034800-q4ixh8v8",
         100,
         "WriteSerializable",
         true,
         {
          "numFiles": "1",
          "numOutputBytes": "27318410",
          "numOutputRows": "1500000"
         },
         null,
         "Databricks-Runtime/15.4.x-scala2.12"
        ],
        [
         100,
         "2025-08-16T02:53:20Z",
         "78016171715504",
         "rohithkumar0955@gmail.com",
         "WRITE",
         {
          "mode": "Append",
          "partitionBy": "[\"ingest_day\"]",
          "statsOnLoad": "false"
         },
         null,
         [
          "1323301528906842"
         ],
         "0120-034800-q4ixh8v8",
         99,
         "WriteSerializable",
         true,
         {
          "numFiles": "1",
          "numOutputBytes": "27318405",
          "numOutputRows": "1500000"
         },
         null,
         "Databricks-Runtime/15.4.x-scala2.12"
        ],
        [
         99,
         "2025-08-16T02:53:15Z",
         "78016171715504",
         "rohithkumar0955@gmail.com",
         "WRITE",
         {
          "mode": "Append",
          "partitionBy": "[\"ingest_day\"]",
          "statsOnLoad": "false"
         },
         null,
         [
          "1323301528906842"
         ],
         "0120-034800-q4ixh8v8",
         98,
         "WriteSerializable",
         true,
         {
          "numFiles": "1",
          "numOutputBytes": "27318406",
          "numOutputRows": "1500000"
         },
         null,
         "Databricks-Runtime/15.4.x-scala2.12"
        ],
        [
         98,
         "2025-08-16T02:53:11Z",
         "78016171715504",
         "rohithkumar0955@gmail.com",
         "WRITE",
         {
          "mode": "Append",
          "partitionBy": "[\"ingest_day\"]",
          "statsOnLoad": "false"
         },
         null,
         [
          "1323301528906842"
         ],
         "0120-034800-q4ixh8v8",
         97,
         "WriteSerializable",
         true,
         {
          "numFiles": "1",
          "numOutputBytes": "27318405",
          "numOutputRows": "1500000"
         },
         null,
         "Databricks-Runtime/15.4.x-scala2.12"
        ],
        [
         97,
         "2025-08-16T02:53:07Z",
         "78016171715504",
         "rohithkumar0955@gmail.com",
         "WRITE",
         {
          "mode": "Append",
          "partitionBy": "[\"ingest_day\"]",
          "statsOnLoad": "false"
         },
         null,
         [
          "1323301528906842"
         ],
         "0120-034800-q4ixh8v8",
         96,
         "WriteSerializable",
         true,
         {
          "numFiles": "1",
          "numOutputBytes": "27317691",
          "numOutputRows": "1500000"
         },
         null,
         "Databricks-Runtime/15.4.x-scala2.12"
        ],
        [
         96,
         "2025-08-16T02:53:02Z",
         "78016171715504",
         "rohithkumar0955@gmail.com",
         "WRITE",
         {
          "mode": "Append",
          "partitionBy": "[\"ingest_day\"]",
          "statsOnLoad": "false"
         },
         null,
         [
          "1323301528906842"
         ],
         "0120-034800-q4ixh8v8",
         95,
         "WriteSerializable",
         true,
         {
          "numFiles": "1",
          "numOutputBytes": "27318402",
          "numOutputRows": "1500000"
         },
         null,
         "Databricks-Runtime/15.4.x-scala2.12"
        ],
        [
         95,
         "2025-08-16T02:52:58Z",
         "78016171715504",
         "rohithkumar0955@gmail.com",
         "WRITE",
         {
          "mode": "Append",
          "partitionBy": "[\"ingest_day\"]",
          "statsOnLoad": "false"
         },
         null,
         [
          "1323301528906842"
         ],
         "0120-034800-q4ixh8v8",
         94,
         "WriteSerializable",
         true,
         {
          "numFiles": "1",
          "numOutputBytes": "27317710",
          "numOutputRows": "1500000"
         },
         null,
         "Databricks-Runtime/15.4.x-scala2.12"
        ],
        [
         94,
         "2025-08-16T02:52:52Z",
         "78016171715504",
         "rohithkumar0955@gmail.com",
         "WRITE",
         {
          "mode": "Append",
          "partitionBy": "[\"ingest_day\"]",
          "statsOnLoad": "false"
         },
         null,
         [
          "1323301528906842"
         ],
         "0120-034800-q4ixh8v8",
         93,
         "WriteSerializable",
         true,
         {
          "numFiles": "1",
          "numOutputBytes": "27318405",
          "numOutputRows": "1500000"
         },
         null,
         "Databricks-Runtime/15.4.x-scala2.12"
        ],
        [
         93,
         "2025-08-16T01:19:39Z",
         "78016171715504",
         "rohithkumar0955@gmail.com",
         "WRITE",
         {
          "mode": "Append",
          "partitionBy": "[\"ingest_day\"]",
          "statsOnLoad": "false"
         },
         null,
         [
          "1323301528906842"
         ],
         "0120-034800-q4ixh8v8",
         92,
         "WriteSerializable",
         true,
         {
          "numFiles": "1",
          "numOutputBytes": "27318411",
          "numOutputRows": "1500000"
         },
         null,
         "Databricks-Runtime/15.4.x-scala2.12"
        ],
        [
         92,
         "2025-08-16T01:19:35Z",
         "78016171715504",
         "rohithkumar0955@gmail.com",
         "WRITE",
         {
          "mode": "Append",
          "partitionBy": "[\"ingest_day\"]",
          "statsOnLoad": "false"
         },
         null,
         [
          "1323301528906842"
         ],
         "0120-034800-q4ixh8v8",
         91,
         "WriteSerializable",
         true,
         {
          "numFiles": "1",
          "numOutputBytes": "27318408",
          "numOutputRows": "1500000"
         },
         null,
         "Databricks-Runtime/15.4.x-scala2.12"
        ],
        [
         91,
         "2025-08-16T01:19:30Z",
         "78016171715504",
         "rohithkumar0955@gmail.com",
         "WRITE",
         {
          "mode": "Append",
          "partitionBy": "[\"ingest_day\"]",
          "statsOnLoad": "false"
         },
         null,
         [
          "1323301528906842"
         ],
         "0120-034800-q4ixh8v8",
         90,
         "WriteSerializable",
         true,
         {
          "numFiles": "1",
          "numOutputBytes": "27317680",
          "numOutputRows": "1500000"
         },
         null,
         "Databricks-Runtime/15.4.x-scala2.12"
        ],
        [
         90,
         "2025-08-16T01:19:26Z",
         "78016171715504",
         "rohithkumar0955@gmail.com",
         "WRITE",
         {
          "mode": "Append",
          "partitionBy": "[\"ingest_day\"]",
          "statsOnLoad": "false"
         },
         null,
         [
          "1323301528906842"
         ],
         "0120-034800-q4ixh8v8",
         89,
         "WriteSerializable",
         true,
         {
          "numFiles": "1",
          "numOutputBytes": "27317704",
          "numOutputRows": "1500000"
         },
         null,
         "Databricks-Runtime/15.4.x-scala2.12"
        ],
        [
         89,
         "2025-08-16T01:19:22Z",
         "78016171715504",
         "rohithkumar0955@gmail.com",
         "WRITE",
         {
          "mode": "Append",
          "partitionBy": "[\"ingest_day\"]",
          "statsOnLoad": "false"
         },
         null,
         [
          "1323301528906842"
         ],
         "0120-034800-q4ixh8v8",
         88,
         "WriteSerializable",
         true,
         {
          "numFiles": "1",
          "numOutputBytes": "27317703",
          "numOutputRows": "1500000"
         },
         null,
         "Databricks-Runtime/15.4.x-scala2.12"
        ],
        [
         88,
         "2025-08-16T01:19:18Z",
         "78016171715504",
         "rohithkumar0955@gmail.com",
         "WRITE",
         {
          "mode": "Append",
          "partitionBy": "[\"ingest_day\"]",
          "statsOnLoad": "false"
         },
         null,
         [
          "1323301528906842"
         ],
         "0120-034800-q4ixh8v8",
         87,
         "WriteSerializable",
         true,
         {
          "numFiles": "1",
          "numOutputBytes": "27317701",
          "numOutputRows": "1500000"
         },
         null,
         "Databricks-Runtime/15.4.x-scala2.12"
        ],
        [
         87,
         "2025-08-16T01:19:14Z",
         "78016171715504",
         "rohithkumar0955@gmail.com",
         "WRITE",
         {
          "mode": "Append",
          "partitionBy": "[\"ingest_day\"]",
          "statsOnLoad": "false"
         },
         null,
         [
          "1323301528906842"
         ],
         "0120-034800-q4ixh8v8",
         86,
         "WriteSerializable",
         true,
         {
          "numFiles": "1",
          "numOutputBytes": "27317704",
          "numOutputRows": "1500000"
         },
         null,
         "Databricks-Runtime/15.4.x-scala2.12"
        ],
        [
         86,
         "2025-08-16T01:19:10Z",
         "78016171715504",
         "rohithkumar0955@gmail.com",
         "WRITE",
         {
          "mode": "Append",
          "partitionBy": "[\"ingest_day\"]",
          "statsOnLoad": "false"
         },
         null,
         [
          "1323301528906842"
         ],
         "0120-034800-q4ixh8v8",
         85,
         "WriteSerializable",
         true,
         {
          "numFiles": "1",
          "numOutputBytes": "27317701",
          "numOutputRows": "1500000"
         },
         null,
         "Databricks-Runtime/15.4.x-scala2.12"
        ],
        [
         85,
         "2025-08-16T01:19:05Z",
         "78016171715504",
         "rohithkumar0955@gmail.com",
         "WRITE",
         {
          "mode": "Append",
          "partitionBy": "[\"ingest_day\"]",
          "statsOnLoad": "false"
         },
         null,
         [
          "1323301528906842"
         ],
         "0120-034800-q4ixh8v8",
         84,
         "WriteSerializable",
         true,
         {
          "numFiles": "1",
          "numOutputBytes": "27318411",
          "numOutputRows": "1500000"
         },
         null,
         "Databricks-Runtime/15.4.x-scala2.12"
        ],
        [
         84,
         "2025-08-16T01:19:01Z",
         "78016171715504",
         "rohithkumar0955@gmail.com",
         "WRITE",
         {
          "mode": "Append",
          "partitionBy": "[\"ingest_day\"]",
          "statsOnLoad": "false"
         },
         null,
         [
          "1323301528906842"
         ],
         "0120-034800-q4ixh8v8",
         83,
         "WriteSerializable",
         true,
         {
          "numFiles": "1",
          "numOutputBytes": "27318411",
          "numOutputRows": "1500000"
         },
         null,
         "Databricks-Runtime/15.4.x-scala2.12"
        ],
        [
         83,
         "2025-08-16T01:18:56Z",
         "78016171715504",
         "rohithkumar0955@gmail.com",
         "WRITE",
         {
          "mode": "Append",
          "partitionBy": "[\"ingest_day\"]",
          "statsOnLoad": "false"
         },
         null,
         [
          "1323301528906842"
         ],
         "0120-034800-q4ixh8v8",
         82,
         "WriteSerializable",
         true,
         {
          "numFiles": "1",
          "numOutputBytes": "27318403",
          "numOutputRows": "1500000"
         },
         null,
         "Databricks-Runtime/15.4.x-scala2.12"
        ],
        [
         82,
         "2025-08-16T01:18:51Z",
         "78016171715504",
         "rohithkumar0955@gmail.com",
         "WRITE",
         {
          "mode": "Append",
          "partitionBy": "[\"ingest_day\"]",
          "statsOnLoad": "false"
         },
         null,
         [
          "1323301528906842"
         ],
         "0120-034800-q4ixh8v8",
         81,
         "WriteSerializable",
         true,
         {
          "numFiles": "1",
          "numOutputBytes": "27318407",
          "numOutputRows": "1500000"
         },
         null,
         "Databricks-Runtime/15.4.x-scala2.12"
        ],
        [
         81,
         "2025-08-16T01:18:47Z",
         "78016171715504",
         "rohithkumar0955@gmail.com",
         "WRITE",
         {
          "mode": "Append",
          "partitionBy": "[\"ingest_day\"]",
          "statsOnLoad": "false"
         },
         null,
         [
          "1323301528906842"
         ],
         "0120-034800-q4ixh8v8",
         80,
         "WriteSerializable",
         true,
         {
          "numFiles": "1",
          "numOutputBytes": "27317696",
          "numOutputRows": "1500000"
         },
         null,
         "Databricks-Runtime/15.4.x-scala2.12"
        ],
        [
         80,
         "2025-08-16T01:18:43Z",
         "78016171715504",
         "rohithkumar0955@gmail.com",
         "WRITE",
         {
          "mode": "Append",
          "partitionBy": "[\"ingest_day\"]",
          "statsOnLoad": "false"
         },
         null,
         [
          "1323301528906842"
         ],
         "0120-034800-q4ixh8v8",
         79,
         "WriteSerializable",
         true,
         {
          "numFiles": "1",
          "numOutputBytes": "27318395",
          "numOutputRows": "1500000"
         },
         null,
         "Databricks-Runtime/15.4.x-scala2.12"
        ],
        [
         79,
         "2025-08-16T01:18:39Z",
         "78016171715504",
         "rohithkumar0955@gmail.com",
         "WRITE",
         {
          "mode": "Append",
          "partitionBy": "[\"ingest_day\"]",
          "statsOnLoad": "false"
         },
         null,
         [
          "1323301528906842"
         ],
         "0120-034800-q4ixh8v8",
         78,
         "WriteSerializable",
         true,
         {
          "numFiles": "1",
          "numOutputBytes": "27317705",
          "numOutputRows": "1500000"
         },
         null,
         "Databricks-Runtime/15.4.x-scala2.12"
        ],
        [
         78,
         "2025-08-16T01:18:34Z",
         "78016171715504",
         "rohithkumar0955@gmail.com",
         "WRITE",
         {
          "mode": "Append",
          "partitionBy": "[\"ingest_day\"]",
          "statsOnLoad": "false"
         },
         null,
         [
          "1323301528906842"
         ],
         "0120-034800-q4ixh8v8",
         77,
         "WriteSerializable",
         true,
         {
          "numFiles": "1",
          "numOutputBytes": "27317700",
          "numOutputRows": "1500000"
         },
         null,
         "Databricks-Runtime/15.4.x-scala2.12"
        ],
        [
         77,
         "2025-08-16T01:18:30Z",
         "78016171715504",
         "rohithkumar0955@gmail.com",
         "WRITE",
         {
          "mode": "Append",
          "partitionBy": "[\"ingest_day\"]",
          "statsOnLoad": "false"
         },
         null,
         [
          "1323301528906842"
         ],
         "0120-034800-q4ixh8v8",
         76,
         "WriteSerializable",
         true,
         {
          "numFiles": "1",
          "numOutputBytes": "27318417",
          "numOutputRows": "1500000"
         },
         null,
         "Databricks-Runtime/15.4.x-scala2.12"
        ],
        [
         76,
         "2025-08-16T01:18:25Z",
         "78016171715504",
         "rohithkumar0955@gmail.com",
         "WRITE",
         {
          "mode": "Append",
          "partitionBy": "[\"ingest_day\"]",
          "statsOnLoad": "false"
         },
         null,
         [
          "1323301528906842"
         ],
         "0120-034800-q4ixh8v8",
         75,
         "WriteSerializable",
         true,
         {
          "numFiles": "1",
          "numOutputBytes": "27317672",
          "numOutputRows": "1500000"
         },
         null,
         "Databricks-Runtime/15.4.x-scala2.12"
        ],
        [
         75,
         "2025-08-16T01:18:21Z",
         "78016171715504",
         "rohithkumar0955@gmail.com",
         "WRITE",
         {
          "mode": "Append",
          "partitionBy": "[\"ingest_day\"]",
          "statsOnLoad": "false"
         },
         null,
         [
          "1323301528906842"
         ],
         "0120-034800-q4ixh8v8",
         74,
         "WriteSerializable",
         true,
         {
          "numFiles": "1",
          "numOutputBytes": "27317674",
          "numOutputRows": "1500000"
         },
         null,
         "Databricks-Runtime/15.4.x-scala2.12"
        ],
        [
         74,
         "2025-08-16T01:18:17Z",
         "78016171715504",
         "rohithkumar0955@gmail.com",
         "WRITE",
         {
          "mode": "Append",
          "partitionBy": "[\"ingest_day\"]",
          "statsOnLoad": "false"
         },
         null,
         [
          "1323301528906842"
         ],
         "0120-034800-q4ixh8v8",
         73,
         "WriteSerializable",
         true,
         {
          "numFiles": "1",
          "numOutputBytes": "27317703",
          "numOutputRows": "1500000"
         },
         null,
         "Databricks-Runtime/15.4.x-scala2.12"
        ],
        [
         73,
         "2025-08-16T01:18:12Z",
         "78016171715504",
         "rohithkumar0955@gmail.com",
         "WRITE",
         {
          "mode": "Append",
          "partitionBy": "[\"ingest_day\"]",
          "statsOnLoad": "false"
         },
         null,
         [
          "1323301528906842"
         ],
         "0120-034800-q4ixh8v8",
         72,
         "WriteSerializable",
         true,
         {
          "numFiles": "1",
          "numOutputBytes": "27318409",
          "numOutputRows": "1500000"
         },
         null,
         "Databricks-Runtime/15.4.x-scala2.12"
        ],
        [
         72,
         "2025-08-16T01:18:08Z",
         "78016171715504",
         "rohithkumar0955@gmail.com",
         "WRITE",
         {
          "mode": "Append",
          "partitionBy": "[\"ingest_day\"]",
          "statsOnLoad": "false"
         },
         null,
         [
          "1323301528906842"
         ],
         "0120-034800-q4ixh8v8",
         71,
         "WriteSerializable",
         true,
         {
          "numFiles": "1",
          "numOutputBytes": "27318406",
          "numOutputRows": "1500000"
         },
         null,
         "Databricks-Runtime/15.4.x-scala2.12"
        ],
        [
         71,
         "2025-08-16T01:18:04Z",
         "78016171715504",
         "rohithkumar0955@gmail.com",
         "WRITE",
         {
          "mode": "Append",
          "partitionBy": "[\"ingest_day\"]",
          "statsOnLoad": "false"
         },
         null,
         [
          "1323301528906842"
         ],
         "0120-034800-q4ixh8v8",
         70,
         "WriteSerializable",
         true,
         {
          "numFiles": "1",
          "numOutputBytes": "27317682",
          "numOutputRows": "1500000"
         },
         null,
         "Databricks-Runtime/15.4.x-scala2.12"
        ],
        [
         70,
         "2025-08-16T01:18:00Z",
         "78016171715504",
         "rohithkumar0955@gmail.com",
         "WRITE",
         {
          "mode": "Append",
          "partitionBy": "[\"ingest_day\"]",
          "statsOnLoad": "false"
         },
         null,
         [
          "1323301528906842"
         ],
         "0120-034800-q4ixh8v8",
         69,
         "WriteSerializable",
         true,
         {
          "numFiles": "1",
          "numOutputBytes": "27317686",
          "numOutputRows": "1500000"
         },
         null,
         "Databricks-Runtime/15.4.x-scala2.12"
        ],
        [
         69,
         "2025-08-16T01:17:55Z",
         "78016171715504",
         "rohithkumar0955@gmail.com",
         "WRITE",
         {
          "mode": "Append",
          "partitionBy": "[\"ingest_day\"]",
          "statsOnLoad": "false"
         },
         null,
         [
          "1323301528906842"
         ],
         "0120-034800-q4ixh8v8",
         68,
         "WriteSerializable",
         true,
         {
          "numFiles": "1",
          "numOutputBytes": "27318399",
          "numOutputRows": "1500000"
         },
         null,
         "Databricks-Runtime/15.4.x-scala2.12"
        ],
        [
         68,
         "2025-08-16T01:17:51Z",
         "78016171715504",
         "rohithkumar0955@gmail.com",
         "WRITE",
         {
          "mode": "Append",
          "partitionBy": "[\"ingest_day\"]",
          "statsOnLoad": "false"
         },
         null,
         [
          "1323301528906842"
         ],
         "0120-034800-q4ixh8v8",
         67,
         "WriteSerializable",
         true,
         {
          "numFiles": "1",
          "numOutputBytes": "27318411",
          "numOutputRows": "1500000"
         },
         null,
         "Databricks-Runtime/15.4.x-scala2.12"
        ],
        [
         67,
         "2025-08-16T01:17:46Z",
         "78016171715504",
         "rohithkumar0955@gmail.com",
         "WRITE",
         {
          "mode": "Append",
          "partitionBy": "[\"ingest_day\"]",
          "statsOnLoad": "false"
         },
         null,
         [
          "1323301528906842"
         ],
         "0120-034800-q4ixh8v8",
         66,
         "WriteSerializable",
         true,
         {
          "numFiles": "1",
          "numOutputBytes": "27318405",
          "numOutputRows": "1500000"
         },
         null,
         "Databricks-Runtime/15.4.x-scala2.12"
        ],
        [
         66,
         "2025-08-16T01:17:42Z",
         "78016171715504",
         "rohithkumar0955@gmail.com",
         "WRITE",
         {
          "mode": "Append",
          "partitionBy": "[\"ingest_day\"]",
          "statsOnLoad": "false"
         },
         null,
         [
          "1323301528906842"
         ],
         "0120-034800-q4ixh8v8",
         65,
         "WriteSerializable",
         true,
         {
          "numFiles": "1",
          "numOutputBytes": "27317689",
          "numOutputRows": "1500000"
         },
         null,
         "Databricks-Runtime/15.4.x-scala2.12"
        ],
        [
         65,
         "2025-08-16T01:17:38Z",
         "78016171715504",
         "rohithkumar0955@gmail.com",
         "WRITE",
         {
          "mode": "Append",
          "partitionBy": "[\"ingest_day\"]",
          "statsOnLoad": "false"
         },
         null,
         [
          "1323301528906842"
         ],
         "0120-034800-q4ixh8v8",
         64,
         "WriteSerializable",
         true,
         {
          "numFiles": "1",
          "numOutputBytes": "27317684",
          "numOutputRows": "1500000"
         },
         null,
         "Databricks-Runtime/15.4.x-scala2.12"
        ],
        [
         64,
         "2025-08-16T01:17:33Z",
         "78016171715504",
         "rohithkumar0955@gmail.com",
         "WRITE",
         {
          "mode": "Append",
          "partitionBy": "[\"ingest_day\"]",
          "statsOnLoad": "false"
         },
         null,
         [
          "1323301528906842"
         ],
         "0120-034800-q4ixh8v8",
         63,
         "WriteSerializable",
         true,
         {
          "numFiles": "1",
          "numOutputBytes": "27317683",
          "numOutputRows": "1500000"
         },
         null,
         "Databricks-Runtime/15.4.x-scala2.12"
        ],
        [
         63,
         "2025-08-16T01:17:29Z",
         "78016171715504",
         "rohithkumar0955@gmail.com",
         "WRITE",
         {
          "mode": "Append",
          "partitionBy": "[\"ingest_day\"]",
          "statsOnLoad": "false"
         },
         null,
         [
          "1323301528906842"
         ],
         "0120-034800-q4ixh8v8",
         62,
         "WriteSerializable",
         true,
         {
          "numFiles": "1",
          "numOutputBytes": "27318400",
          "numOutputRows": "1500000"
         },
         null,
         "Databricks-Runtime/15.4.x-scala2.12"
        ],
        [
         62,
         "2025-08-16T01:17:25Z",
         "78016171715504",
         "rohithkumar0955@gmail.com",
         "WRITE",
         {
          "mode": "Append",
          "partitionBy": "[\"ingest_day\"]",
          "statsOnLoad": "false"
         },
         null,
         [
          "1323301528906842"
         ],
         "0120-034800-q4ixh8v8",
         61,
         "WriteSerializable",
         true,
         {
          "numFiles": "1",
          "numOutputBytes": "27318405",
          "numOutputRows": "1500000"
         },
         null,
         "Databricks-Runtime/15.4.x-scala2.12"
        ],
        [
         61,
         "2025-08-16T01:17:21Z",
         "78016171715504",
         "rohithkumar0955@gmail.com",
         "WRITE",
         {
          "mode": "Append",
          "partitionBy": "[\"ingest_day\"]",
          "statsOnLoad": "false"
         },
         null,
         [
          "1323301528906842"
         ],
         "0120-034800-q4ixh8v8",
         60,
         "WriteSerializable",
         true,
         {
          "numFiles": "1",
          "numOutputBytes": "27317708",
          "numOutputRows": "1500000"
         },
         null,
         "Databricks-Runtime/15.4.x-scala2.12"
        ],
        [
         60,
         "2025-08-16T01:17:16Z",
         "78016171715504",
         "rohithkumar0955@gmail.com",
         "WRITE",
         {
          "mode": "Append",
          "partitionBy": "[\"ingest_day\"]",
          "statsOnLoad": "false"
         },
         null,
         [
          "1323301528906842"
         ],
         "0120-034800-q4ixh8v8",
         59,
         "WriteSerializable",
         true,
         {
          "numFiles": "1",
          "numOutputBytes": "27317708",
          "numOutputRows": "1500000"
         },
         null,
         "Databricks-Runtime/15.4.x-scala2.12"
        ],
        [
         59,
         "2025-08-16T01:17:12Z",
         "78016171715504",
         "rohithkumar0955@gmail.com",
         "WRITE",
         {
          "mode": "Append",
          "partitionBy": "[\"ingest_day\"]",
          "statsOnLoad": "false"
         },
         null,
         [
          "1323301528906842"
         ],
         "0120-034800-q4ixh8v8",
         58,
         "WriteSerializable",
         true,
         {
          "numFiles": "1",
          "numOutputBytes": "27317705",
          "numOutputRows": "1500000"
         },
         null,
         "Databricks-Runtime/15.4.x-scala2.12"
        ],
        [
         58,
         "2025-08-16T01:17:07Z",
         "78016171715504",
         "rohithkumar0955@gmail.com",
         "WRITE",
         {
          "mode": "Append",
          "partitionBy": "[\"ingest_day\"]",
          "statsOnLoad": "false"
         },
         null,
         [
          "1323301528906842"
         ],
         "0120-034800-q4ixh8v8",
         57,
         "WriteSerializable",
         true,
         {
          "numFiles": "1",
          "numOutputBytes": "27317696",
          "numOutputRows": "1500000"
         },
         null,
         "Databricks-Runtime/15.4.x-scala2.12"
        ],
        [
         57,
         "2025-08-16T01:17:03Z",
         "78016171715504",
         "rohithkumar0955@gmail.com",
         "WRITE",
         {
          "mode": "Append",
          "partitionBy": "[\"ingest_day\"]",
          "statsOnLoad": "false"
         },
         null,
         [
          "1323301528906842"
         ],
         "0120-034800-q4ixh8v8",
         56,
         "WriteSerializable",
         true,
         {
          "numFiles": "1",
          "numOutputBytes": "27318411",
          "numOutputRows": "1500000"
         },
         null,
         "Databricks-Runtime/15.4.x-scala2.12"
        ],
        [
         56,
         "2025-08-16T01:16:59Z",
         "78016171715504",
         "rohithkumar0955@gmail.com",
         "WRITE",
         {
          "mode": "Append",
          "partitionBy": "[\"ingest_day\"]",
          "statsOnLoad": "false"
         },
         null,
         [
          "1323301528906842"
         ],
         "0120-034800-q4ixh8v8",
         55,
         "WriteSerializable",
         true,
         {
          "numFiles": "1",
          "numOutputBytes": "27317694",
          "numOutputRows": "1500000"
         },
         null,
         "Databricks-Runtime/15.4.x-scala2.12"
        ],
        [
         55,
         "2025-08-16T01:16:55Z",
         "78016171715504",
         "rohithkumar0955@gmail.com",
         "WRITE",
         {
          "mode": "Append",
          "partitionBy": "[\"ingest_day\"]",
          "statsOnLoad": "false"
         },
         null,
         [
          "1323301528906842"
         ],
         "0120-034800-q4ixh8v8",
         54,
         "WriteSerializable",
         true,
         {
          "numFiles": "1",
          "numOutputBytes": "27317700",
          "numOutputRows": "1500000"
         },
         null,
         "Databricks-Runtime/15.4.x-scala2.12"
        ],
        [
         54,
         "2025-08-16T01:16:51Z",
         "78016171715504",
         "rohithkumar0955@gmail.com",
         "WRITE",
         {
          "mode": "Append",
          "partitionBy": "[\"ingest_day\"]",
          "statsOnLoad": "false"
         },
         null,
         [
          "1323301528906842"
         ],
         "0120-034800-q4ixh8v8",
         53,
         "WriteSerializable",
         true,
         {
          "numFiles": "1",
          "numOutputBytes": "27317693",
          "numOutputRows": "1500000"
         },
         null,
         "Databricks-Runtime/15.4.x-scala2.12"
        ],
        [
         53,
         "2025-08-16T01:16:46Z",
         "78016171715504",
         "rohithkumar0955@gmail.com",
         "WRITE",
         {
          "mode": "Append",
          "partitionBy": "[\"ingest_day\"]",
          "statsOnLoad": "false"
         },
         null,
         [
          "1323301528906842"
         ],
         "0120-034800-q4ixh8v8",
         52,
         "WriteSerializable",
         true,
         {
          "numFiles": "1",
          "numOutputBytes": "27317701",
          "numOutputRows": "1500000"
         },
         null,
         "Databricks-Runtime/15.4.x-scala2.12"
        ],
        [
         52,
         "2025-08-16T01:16:42Z",
         "78016171715504",
         "rohithkumar0955@gmail.com",
         "WRITE",
         {
          "mode": "Append",
          "partitionBy": "[\"ingest_day\"]",
          "statsOnLoad": "false"
         },
         null,
         [
          "1323301528906842"
         ],
         "0120-034800-q4ixh8v8",
         51,
         "WriteSerializable",
         true,
         {
          "numFiles": "1",
          "numOutputBytes": "27318409",
          "numOutputRows": "1500000"
         },
         null,
         "Databricks-Runtime/15.4.x-scala2.12"
        ],
        [
         51,
         "2025-08-16T01:16:35Z",
         "78016171715504",
         "rohithkumar0955@gmail.com",
         "WRITE",
         {
          "mode": "Append",
          "partitionBy": "[\"ingest_day\"]",
          "statsOnLoad": "false"
         },
         null,
         [
          "1323301528906842"
         ],
         "0120-034800-q4ixh8v8",
         50,
         "WriteSerializable",
         true,
         {
          "numFiles": "1",
          "numOutputBytes": "27318406",
          "numOutputRows": "1500000"
         },
         null,
         "Databricks-Runtime/15.4.x-scala2.12"
        ],
        [
         50,
         "2025-08-16T01:16:30Z",
         "78016171715504",
         "rohithkumar0955@gmail.com",
         "WRITE",
         {
          "mode": "Append",
          "partitionBy": "[\"ingest_day\"]",
          "statsOnLoad": "false"
         },
         null,
         [
          "1323301528906842"
         ],
         "0120-034800-q4ixh8v8",
         49,
         "WriteSerializable",
         true,
         {
          "numFiles": "1",
          "numOutputBytes": "27317668",
          "numOutputRows": "1500000"
         },
         null,
         "Databricks-Runtime/15.4.x-scala2.12"
        ],
        [
         49,
         "2025-08-16T01:16:25Z",
         "78016171715504",
         "rohithkumar0955@gmail.com",
         "WRITE",
         {
          "mode": "Append",
          "partitionBy": "[\"ingest_day\"]",
          "statsOnLoad": "false"
         },
         null,
         [
          "1323301528906842"
         ],
         "0120-034800-q4ixh8v8",
         48,
         "WriteSerializable",
         true,
         {
          "numFiles": "1",
          "numOutputBytes": "27317679",
          "numOutputRows": "1500000"
         },
         null,
         "Databricks-Runtime/15.4.x-scala2.12"
        ],
        [
         48,
         "2025-08-16T01:16:21Z",
         "78016171715504",
         "rohithkumar0955@gmail.com",
         "WRITE",
         {
          "mode": "Append",
          "partitionBy": "[\"ingest_day\"]",
          "statsOnLoad": "false"
         },
         null,
         [
          "1323301528906842"
         ],
         "0120-034800-q4ixh8v8",
         47,
         "WriteSerializable",
         true,
         {
          "numFiles": "1",
          "numOutputBytes": "27318414",
          "numOutputRows": "1500000"
         },
         null,
         "Databricks-Runtime/15.4.x-scala2.12"
        ],
        [
         47,
         "2025-08-16T01:16:18Z",
         "78016171715504",
         "rohithkumar0955@gmail.com",
         "WRITE",
         {
          "mode": "Append",
          "partitionBy": "[\"ingest_day\"]",
          "statsOnLoad": "false"
         },
         null,
         [
          "1323301528906842"
         ],
         "0120-034800-q4ixh8v8",
         46,
         "WriteSerializable",
         true,
         {
          "numFiles": "1",
          "numOutputBytes": "27317708",
          "numOutputRows": "1500000"
         },
         null,
         "Databricks-Runtime/15.4.x-scala2.12"
        ],
        [
         46,
         "2025-08-16T01:16:14Z",
         "78016171715504",
         "rohithkumar0955@gmail.com",
         "WRITE",
         {
          "mode": "Append",
          "partitionBy": "[\"ingest_day\"]",
          "statsOnLoad": "false"
         },
         null,
         [
          "1323301528906842"
         ],
         "0120-034800-q4ixh8v8",
         45,
         "WriteSerializable",
         true,
         {
          "numFiles": "1",
          "numOutputBytes": "27317684",
          "numOutputRows": "1500000"
         },
         null,
         "Databricks-Runtime/15.4.x-scala2.12"
        ],
        [
         45,
         "2025-08-16T01:16:10Z",
         "78016171715504",
         "rohithkumar0955@gmail.com",
         "WRITE",
         {
          "mode": "Append",
          "partitionBy": "[\"ingest_day\"]",
          "statsOnLoad": "false"
         },
         null,
         [
          "1323301528906842"
         ],
         "0120-034800-q4ixh8v8",
         44,
         "WriteSerializable",
         true,
         {
          "numFiles": "1",
          "numOutputBytes": "27318411",
          "numOutputRows": "1500000"
         },
         null,
         "Databricks-Runtime/15.4.x-scala2.12"
        ],
        [
         44,
         "2025-08-16T01:16:06Z",
         "78016171715504",
         "rohithkumar0955@gmail.com",
         "WRITE",
         {
          "mode": "Append",
          "partitionBy": "[\"ingest_day\"]",
          "statsOnLoad": "false"
         },
         null,
         [
          "1323301528906842"
         ],
         "0120-034800-q4ixh8v8",
         43,
         "WriteSerializable",
         true,
         {
          "numFiles": "1",
          "numOutputBytes": "27318397",
          "numOutputRows": "1500000"
         },
         null,
         "Databricks-Runtime/15.4.x-scala2.12"
        ],
        [
         43,
         "2025-08-16T01:16:03Z",
         "78016171715504",
         "rohithkumar0955@gmail.com",
         "WRITE",
         {
          "mode": "Append",
          "partitionBy": "[\"ingest_day\"]",
          "statsOnLoad": "false"
         },
         null,
         [
          "1323301528906842"
         ],
         "0120-034800-q4ixh8v8",
         42,
         "WriteSerializable",
         true,
         {
          "numFiles": "1",
          "numOutputBytes": "27317698",
          "numOutputRows": "1500000"
         },
         null,
         "Databricks-Runtime/15.4.x-scala2.12"
        ],
        [
         42,
         "2025-08-16T01:15:59Z",
         "78016171715504",
         "rohithkumar0955@gmail.com",
         "WRITE",
         {
          "mode": "Append",
          "partitionBy": "[\"ingest_day\"]",
          "statsOnLoad": "false"
         },
         null,
         [
          "1323301528906842"
         ],
         "0120-034800-q4ixh8v8",
         41,
         "WriteSerializable",
         true,
         {
          "numFiles": "1",
          "numOutputBytes": "27317683",
          "numOutputRows": "1500000"
         },
         null,
         "Databricks-Runtime/15.4.x-scala2.12"
        ],
        [
         41,
         "2025-08-16T01:15:55Z",
         "78016171715504",
         "rohithkumar0955@gmail.com",
         "WRITE",
         {
          "mode": "Append",
          "partitionBy": "[\"ingest_day\"]",
          "statsOnLoad": "false"
         },
         null,
         [
          "1323301528906842"
         ],
         "0120-034800-q4ixh8v8",
         40,
         "WriteSerializable",
         true,
         {
          "numFiles": "1",
          "numOutputBytes": "27318407",
          "numOutputRows": "1500000"
         },
         null,
         "Databricks-Runtime/15.4.x-scala2.12"
        ],
        [
         40,
         "2025-08-16T01:15:51Z",
         "78016171715504",
         "rohithkumar0955@gmail.com",
         "WRITE",
         {
          "mode": "Append",
          "partitionBy": "[\"ingest_day\"]",
          "statsOnLoad": "false"
         },
         null,
         [
          "1323301528906842"
         ],
         "0120-034800-q4ixh8v8",
         39,
         "WriteSerializable",
         true,
         {
          "numFiles": "1",
          "numOutputBytes": "27318413",
          "numOutputRows": "1500000"
         },
         null,
         "Databricks-Runtime/15.4.x-scala2.12"
        ],
        [
         39,
         "2025-08-16T01:15:48Z",
         "78016171715504",
         "rohithkumar0955@gmail.com",
         "WRITE",
         {
          "mode": "Append",
          "partitionBy": "[\"ingest_day\"]",
          "statsOnLoad": "false"
         },
         null,
         [
          "1323301528906842"
         ],
         "0120-034800-q4ixh8v8",
         38,
         "WriteSerializable",
         true,
         {
          "numFiles": "1",
          "numOutputBytes": "27317711",
          "numOutputRows": "1500000"
         },
         null,
         "Databricks-Runtime/15.4.x-scala2.12"
        ],
        [
         38,
         "2025-08-16T01:15:43Z",
         "78016171715504",
         "rohithkumar0955@gmail.com",
         "WRITE",
         {
          "mode": "Append",
          "partitionBy": "[\"ingest_day\"]",
          "statsOnLoad": "false"
         },
         null,
         [
          "1323301528906842"
         ],
         "0120-034800-q4ixh8v8",
         37,
         "WriteSerializable",
         true,
         {
          "numFiles": "1",
          "numOutputBytes": "27317704",
          "numOutputRows": "1500000"
         },
         null,
         "Databricks-Runtime/15.4.x-scala2.12"
        ],
        [
         37,
         "2025-08-16T01:15:39Z",
         "78016171715504",
         "rohithkumar0955@gmail.com",
         "WRITE",
         {
          "mode": "Append",
          "partitionBy": "[\"ingest_day\"]",
          "statsOnLoad": "false"
         },
         null,
         [
          "1323301528906842"
         ],
         "0120-034800-q4ixh8v8",
         36,
         "WriteSerializable",
         true,
         {
          "numFiles": "1",
          "numOutputBytes": "27317704",
          "numOutputRows": "1500000"
         },
         null,
         "Databricks-Runtime/15.4.x-scala2.12"
        ],
        [
         36,
         "2025-08-16T01:15:35Z",
         "78016171715504",
         "rohithkumar0955@gmail.com",
         "WRITE",
         {
          "mode": "Append",
          "partitionBy": "[\"ingest_day\"]",
          "statsOnLoad": "false"
         },
         null,
         [
          "1323301528906842"
         ],
         "0120-034800-q4ixh8v8",
         35,
         "WriteSerializable",
         true,
         {
          "numFiles": "1",
          "numOutputBytes": "27317678",
          "numOutputRows": "1500000"
         },
         null,
         "Databricks-Runtime/15.4.x-scala2.12"
        ],
        [
         35,
         "2025-08-16T01:15:31Z",
         "78016171715504",
         "rohithkumar0955@gmail.com",
         "WRITE",
         {
          "mode": "Append",
          "partitionBy": "[\"ingest_day\"]",
          "statsOnLoad": "false"
         },
         null,
         [
          "1323301528906842"
         ],
         "0120-034800-q4ixh8v8",
         34,
         "WriteSerializable",
         true,
         {
          "numFiles": "1",
          "numOutputBytes": "27318404",
          "numOutputRows": "1500000"
         },
         null,
         "Databricks-Runtime/15.4.x-scala2.12"
        ],
        [
         34,
         "2025-08-16T01:15:27Z",
         "78016171715504",
         "rohithkumar0955@gmail.com",
         "WRITE",
         {
          "mode": "Append",
          "partitionBy": "[\"ingest_day\"]",
          "statsOnLoad": "false"
         },
         null,
         [
          "1323301528906842"
         ],
         "0120-034800-q4ixh8v8",
         33,
         "WriteSerializable",
         true,
         {
          "numFiles": "1",
          "numOutputBytes": "27317699",
          "numOutputRows": "1500000"
         },
         null,
         "Databricks-Runtime/15.4.x-scala2.12"
        ],
        [
         33,
         "2025-08-16T01:15:24Z",
         "78016171715504",
         "rohithkumar0955@gmail.com",
         "WRITE",
         {
          "mode": "Append",
          "partitionBy": "[\"ingest_day\"]",
          "statsOnLoad": "false"
         },
         null,
         [
          "1323301528906842"
         ],
         "0120-034800-q4ixh8v8",
         32,
         "WriteSerializable",
         true,
         {
          "numFiles": "1",
          "numOutputBytes": "27317676",
          "numOutputRows": "1500000"
         },
         null,
         "Databricks-Runtime/15.4.x-scala2.12"
        ],
        [
         32,
         "2025-08-16T01:15:20Z",
         "78016171715504",
         "rohithkumar0955@gmail.com",
         "WRITE",
         {
          "mode": "Append",
          "partitionBy": "[\"ingest_day\"]",
          "statsOnLoad": "false"
         },
         null,
         [
          "1323301528906842"
         ],
         "0120-034800-q4ixh8v8",
         31,
         "WriteSerializable",
         true,
         {
          "numFiles": "1",
          "numOutputBytes": "27317703",
          "numOutputRows": "1500000"
         },
         null,
         "Databricks-Runtime/15.4.x-scala2.12"
        ],
        [
         31,
         "2025-08-16T01:15:16Z",
         "78016171715504",
         "rohithkumar0955@gmail.com",
         "WRITE",
         {
          "mode": "Append",
          "partitionBy": "[\"ingest_day\"]",
          "statsOnLoad": "false"
         },
         null,
         [
          "1323301528906842"
         ],
         "0120-034800-q4ixh8v8",
         30,
         "WriteSerializable",
         true,
         {
          "numFiles": "1",
          "numOutputBytes": "27317677",
          "numOutputRows": "1500000"
         },
         null,
         "Databricks-Runtime/15.4.x-scala2.12"
        ],
        [
         30,
         "2025-08-16T01:15:12Z",
         "78016171715504",
         "rohithkumar0955@gmail.com",
         "WRITE",
         {
          "mode": "Append",
          "partitionBy": "[\"ingest_day\"]",
          "statsOnLoad": "false"
         },
         null,
         [
          "1323301528906842"
         ],
         "0120-034800-q4ixh8v8",
         29,
         "WriteSerializable",
         true,
         {
          "numFiles": "1",
          "numOutputBytes": "27318404",
          "numOutputRows": "1500000"
         },
         null,
         "Databricks-Runtime/15.4.x-scala2.12"
        ],
        [
         29,
         "2025-08-16T01:15:08Z",
         "78016171715504",
         "rohithkumar0955@gmail.com",
         "WRITE",
         {
          "mode": "Append",
          "partitionBy": "[\"ingest_day\"]",
          "statsOnLoad": "false"
         },
         null,
         [
          "1323301528906842"
         ],
         "0120-034800-q4ixh8v8",
         28,
         "WriteSerializable",
         true,
         {
          "numFiles": "1",
          "numOutputBytes": "27317672",
          "numOutputRows": "1500000"
         },
         null,
         "Databricks-Runtime/15.4.x-scala2.12"
        ],
        [
         28,
         "2025-08-16T01:15:05Z",
         "78016171715504",
         "rohithkumar0955@gmail.com",
         "WRITE",
         {
          "mode": "Append",
          "partitionBy": "[\"ingest_day\"]",
          "statsOnLoad": "false"
         },
         null,
         [
          "1323301528906842"
         ],
         "0120-034800-q4ixh8v8",
         27,
         "WriteSerializable",
         true,
         {
          "numFiles": "1",
          "numOutputBytes": "27317701",
          "numOutputRows": "1500000"
         },
         null,
         "Databricks-Runtime/15.4.x-scala2.12"
        ],
        [
         27,
         "2025-08-16T01:15:01Z",
         "78016171715504",
         "rohithkumar0955@gmail.com",
         "WRITE",
         {
          "mode": "Append",
          "partitionBy": "[\"ingest_day\"]",
          "statsOnLoad": "false"
         },
         null,
         [
          "1323301528906842"
         ],
         "0120-034800-q4ixh8v8",
         26,
         "WriteSerializable",
         true,
         {
          "numFiles": "1",
          "numOutputBytes": "27318410",
          "numOutputRows": "1500000"
         },
         null,
         "Databricks-Runtime/15.4.x-scala2.12"
        ],
        [
         26,
         "2025-08-16T01:14:57Z",
         "78016171715504",
         "rohithkumar0955@gmail.com",
         "WRITE",
         {
          "mode": "Append",
          "partitionBy": "[\"ingest_day\"]",
          "statsOnLoad": "false"
         },
         null,
         [
          "1323301528906842"
         ],
         "0120-034800-q4ixh8v8",
         25,
         "WriteSerializable",
         true,
         {
          "numFiles": "1",
          "numOutputBytes": "27317671",
          "numOutputRows": "1500000"
         },
         null,
         "Databricks-Runtime/15.4.x-scala2.12"
        ],
        [
         25,
         "2025-08-16T01:14:53Z",
         "78016171715504",
         "rohithkumar0955@gmail.com",
         "WRITE",
         {
          "mode": "Append",
          "partitionBy": "[\"ingest_day\"]",
          "statsOnLoad": "false"
         },
         null,
         [
          "1323301528906842"
         ],
         "0120-034800-q4ixh8v8",
         24,
         "WriteSerializable",
         true,
         {
          "numFiles": "1",
          "numOutputBytes": "27317678",
          "numOutputRows": "1500000"
         },
         null,
         "Databricks-Runtime/15.4.x-scala2.12"
        ],
        [
         24,
         "2025-08-16T01:14:50Z",
         "78016171715504",
         "rohithkumar0955@gmail.com",
         "WRITE",
         {
          "mode": "Append",
          "partitionBy": "[\"ingest_day\"]",
          "statsOnLoad": "false"
         },
         null,
         [
          "1323301528906842"
         ],
         "0120-034800-q4ixh8v8",
         23,
         "WriteSerializable",
         true,
         {
          "numFiles": "1",
          "numOutputBytes": "27318412",
          "numOutputRows": "1500000"
         },
         null,
         "Databricks-Runtime/15.4.x-scala2.12"
        ],
        [
         23,
         "2025-08-16T01:14:46Z",
         "78016171715504",
         "rohithkumar0955@gmail.com",
         "WRITE",
         {
          "mode": "Append",
          "partitionBy": "[\"ingest_day\"]",
          "statsOnLoad": "false"
         },
         null,
         [
          "1323301528906842"
         ],
         "0120-034800-q4ixh8v8",
         22,
         "WriteSerializable",
         true,
         {
          "numFiles": "1",
          "numOutputBytes": "27317687",
          "numOutputRows": "1500000"
         },
         null,
         "Databricks-Runtime/15.4.x-scala2.12"
        ],
        [
         22,
         "2025-08-16T01:14:42Z",
         "78016171715504",
         "rohithkumar0955@gmail.com",
         "WRITE",
         {
          "mode": "Append",
          "partitionBy": "[\"ingest_day\"]",
          "statsOnLoad": "false"
         },
         null,
         [
          "1323301528906842"
         ],
         "0120-034800-q4ixh8v8",
         21,
         "WriteSerializable",
         true,
         {
          "numFiles": "1",
          "numOutputBytes": "27317712",
          "numOutputRows": "1500000"
         },
         null,
         "Databricks-Runtime/15.4.x-scala2.12"
        ],
        [
         21,
         "2025-08-16T01:14:39Z",
         "78016171715504",
         "rohithkumar0955@gmail.com",
         "WRITE",
         {
          "mode": "Append",
          "partitionBy": "[\"ingest_day\"]",
          "statsOnLoad": "false"
         },
         null,
         [
          "1323301528906842"
         ],
         "0120-034800-q4ixh8v8",
         20,
         "WriteSerializable",
         true,
         {
          "numFiles": "1",
          "numOutputBytes": "27317707",
          "numOutputRows": "1500000"
         },
         null,
         "Databricks-Runtime/15.4.x-scala2.12"
        ],
        [
         20,
         "2025-08-16T01:14:35Z",
         "78016171715504",
         "rohithkumar0955@gmail.com",
         "WRITE",
         {
          "mode": "Append",
          "partitionBy": "[\"ingest_day\"]",
          "statsOnLoad": "false"
         },
         null,
         [
          "1323301528906842"
         ],
         "0120-034800-q4ixh8v8",
         19,
         "WriteSerializable",
         true,
         {
          "numFiles": "1",
          "numOutputBytes": "27318415",
          "numOutputRows": "1500000"
         },
         null,
         "Databricks-Runtime/15.4.x-scala2.12"
        ],
        [
         19,
         "2025-08-16T01:14:31Z",
         "78016171715504",
         "rohithkumar0955@gmail.com",
         "WRITE",
         {
          "mode": "Append",
          "partitionBy": "[\"ingest_day\"]",
          "statsOnLoad": "false"
         },
         null,
         [
          "1323301528906842"
         ],
         "0120-034800-q4ixh8v8",
         18,
         "WriteSerializable",
         true,
         {
          "numFiles": "1",
          "numOutputBytes": "27318404",
          "numOutputRows": "1500000"
         },
         null,
         "Databricks-Runtime/15.4.x-scala2.12"
        ],
        [
         18,
         "2025-08-16T01:14:27Z",
         "78016171715504",
         "rohithkumar0955@gmail.com",
         "WRITE",
         {
          "mode": "Append",
          "partitionBy": "[\"ingest_day\"]",
          "statsOnLoad": "false"
         },
         null,
         [
          "1323301528906842"
         ],
         "0120-034800-q4ixh8v8",
         17,
         "WriteSerializable",
         true,
         {
          "numFiles": "1",
          "numOutputBytes": "27318402",
          "numOutputRows": "1500000"
         },
         null,
         "Databricks-Runtime/15.4.x-scala2.12"
        ],
        [
         17,
         "2025-08-16T01:14:22Z",
         "78016171715504",
         "rohithkumar0955@gmail.com",
         "WRITE",
         {
          "mode": "Append",
          "partitionBy": "[\"ingest_day\"]",
          "statsOnLoad": "false"
         },
         null,
         [
          "1323301528906842"
         ],
         "0120-034800-q4ixh8v8",
         16,
         "WriteSerializable",
         true,
         {
          "numFiles": "1",
          "numOutputBytes": "27317667",
          "numOutputRows": "1500000"
         },
         null,
         "Databricks-Runtime/15.4.x-scala2.12"
        ],
        [
         16,
         "2025-08-16T01:14:18Z",
         "78016171715504",
         "rohithkumar0955@gmail.com",
         "WRITE",
         {
          "mode": "Append",
          "partitionBy": "[\"ingest_day\"]",
          "statsOnLoad": "false"
         },
         null,
         [
          "1323301528906842"
         ],
         "0120-034800-q4ixh8v8",
         15,
         "WriteSerializable",
         true,
         {
          "numFiles": "1",
          "numOutputBytes": "27318404",
          "numOutputRows": "1500000"
         },
         null,
         "Databricks-Runtime/15.4.x-scala2.12"
        ],
        [
         15,
         "2025-08-16T01:14:15Z",
         "78016171715504",
         "rohithkumar0955@gmail.com",
         "WRITE",
         {
          "mode": "Append",
          "partitionBy": "[\"ingest_day\"]",
          "statsOnLoad": "false"
         },
         null,
         [
          "1323301528906842"
         ],
         "0120-034800-q4ixh8v8",
         14,
         "WriteSerializable",
         true,
         {
          "numFiles": "1",
          "numOutputBytes": "27318406",
          "numOutputRows": "1500000"
         },
         null,
         "Databricks-Runtime/15.4.x-scala2.12"
        ],
        [
         14,
         "2025-08-16T01:14:11Z",
         "78016171715504",
         "rohithkumar0955@gmail.com",
         "WRITE",
         {
          "mode": "Append",
          "partitionBy": "[\"ingest_day\"]",
          "statsOnLoad": "false"
         },
         null,
         [
          "1323301528906842"
         ],
         "0120-034800-q4ixh8v8",
         13,
         "WriteSerializable",
         true,
         {
          "numFiles": "1",
          "numOutputBytes": "27317705",
          "numOutputRows": "1500000"
         },
         null,
         "Databricks-Runtime/15.4.x-scala2.12"
        ],
        [
         13,
         "2025-08-16T01:14:07Z",
         "78016171715504",
         "rohithkumar0955@gmail.com",
         "WRITE",
         {
          "mode": "Append",
          "partitionBy": "[\"ingest_day\"]",
          "statsOnLoad": "false"
         },
         null,
         [
          "1323301528906842"
         ],
         "0120-034800-q4ixh8v8",
         12,
         "WriteSerializable",
         true,
         {
          "numFiles": "1",
          "numOutputBytes": "27318408",
          "numOutputRows": "1500000"
         },
         null,
         "Databricks-Runtime/15.4.x-scala2.12"
        ],
        [
         12,
         "2025-08-16T01:14:04Z",
         "78016171715504",
         "rohithkumar0955@gmail.com",
         "WRITE",
         {
          "mode": "Append",
          "partitionBy": "[\"ingest_day\"]",
          "statsOnLoad": "false"
         },
         null,
         [
          "1323301528906842"
         ],
         "0120-034800-q4ixh8v8",
         11,
         "WriteSerializable",
         true,
         {
          "numFiles": "1",
          "numOutputBytes": "27317702",
          "numOutputRows": "1500000"
         },
         null,
         "Databricks-Runtime/15.4.x-scala2.12"
        ],
        [
         11,
         "2025-08-16T01:14:00Z",
         "78016171715504",
         "rohithkumar0955@gmail.com",
         "WRITE",
         {
          "mode": "Append",
          "partitionBy": "[\"ingest_day\"]",
          "statsOnLoad": "false"
         },
         null,
         [
          "1323301528906842"
         ],
         "0120-034800-q4ixh8v8",
         10,
         "WriteSerializable",
         true,
         {
          "numFiles": "1",
          "numOutputBytes": "27318405",
          "numOutputRows": "1500000"
         },
         null,
         "Databricks-Runtime/15.4.x-scala2.12"
        ],
        [
         10,
         "2025-08-16T01:13:56Z",
         "78016171715504",
         "rohithkumar0955@gmail.com",
         "WRITE",
         {
          "mode": "Append",
          "partitionBy": "[\"ingest_day\"]",
          "statsOnLoad": "false"
         },
         null,
         [
          "1323301528906842"
         ],
         "0120-034800-q4ixh8v8",
         9,
         "WriteSerializable",
         true,
         {
          "numFiles": "1",
          "numOutputBytes": "27317702",
          "numOutputRows": "1500000"
         },
         null,
         "Databricks-Runtime/15.4.x-scala2.12"
        ],
        [
         9,
         "2025-08-16T01:13:52Z",
         "78016171715504",
         "rohithkumar0955@gmail.com",
         "WRITE",
         {
          "mode": "Append",
          "partitionBy": "[\"ingest_day\"]",
          "statsOnLoad": "false"
         },
         null,
         [
          "1323301528906842"
         ],
         "0120-034800-q4ixh8v8",
         8,
         "WriteSerializable",
         true,
         {
          "numFiles": "1",
          "numOutputBytes": "27318407",
          "numOutputRows": "1500000"
         },
         null,
         "Databricks-Runtime/15.4.x-scala2.12"
        ],
        [
         8,
         "2025-08-16T01:13:49Z",
         "78016171715504",
         "rohithkumar0955@gmail.com",
         "WRITE",
         {
          "mode": "Append",
          "partitionBy": "[\"ingest_day\"]",
          "statsOnLoad": "false"
         },
         null,
         [
          "1323301528906842"
         ],
         "0120-034800-q4ixh8v8",
         7,
         "WriteSerializable",
         true,
         {
          "numFiles": "1",
          "numOutputBytes": "27317706",
          "numOutputRows": "1500000"
         },
         null,
         "Databricks-Runtime/15.4.x-scala2.12"
        ],
        [
         7,
         "2025-08-16T01:13:44Z",
         "78016171715504",
         "rohithkumar0955@gmail.com",
         "WRITE",
         {
          "mode": "Append",
          "partitionBy": "[\"ingest_day\"]",
          "statsOnLoad": "false"
         },
         null,
         [
          "1323301528906842"
         ],
         "0120-034800-q4ixh8v8",
         6,
         "WriteSerializable",
         true,
         {
          "numFiles": "1",
          "numOutputBytes": "27317699",
          "numOutputRows": "1500000"
         },
         null,
         "Databricks-Runtime/15.4.x-scala2.12"
        ],
        [
         6,
         "2025-08-16T01:13:40Z",
         "78016171715504",
         "rohithkumar0955@gmail.com",
         "WRITE",
         {
          "mode": "Append",
          "partitionBy": "[\"ingest_day\"]",
          "statsOnLoad": "false"
         },
         null,
         [
          "1323301528906842"
         ],
         "0120-034800-q4ixh8v8",
         5,
         "WriteSerializable",
         true,
         {
          "numFiles": "1",
          "numOutputBytes": "27317681",
          "numOutputRows": "1500000"
         },
         null,
         "Databricks-Runtime/15.4.x-scala2.12"
        ],
        [
         5,
         "2025-08-14T23:17:35Z",
         "78016171715504",
         "rohithkumar0955@gmail.com",
         "WRITE",
         {
          "mode": "Append",
          "partitionBy": "[\"ingest_day\"]",
          "statsOnLoad": "false"
         },
         null,
         [
          "1323301528906842"
         ],
         "0120-034800-q4ixh8v8",
         4,
         "WriteSerializable",
         true,
         {
          "numFiles": "1",
          "numOutputBytes": "18235243",
          "numOutputRows": "1000000"
         },
         null,
         "Databricks-Runtime/15.4.x-scala2.12"
        ],
        [
         4,
         "2025-08-14T23:17:32Z",
         "78016171715504",
         "rohithkumar0955@gmail.com",
         "WRITE",
         {
          "mode": "Append",
          "partitionBy": "[\"ingest_day\"]",
          "statsOnLoad": "false"
         },
         null,
         [
          "1323301528906842"
         ],
         "0120-034800-q4ixh8v8",
         3,
         "WriteSerializable",
         true,
         {
          "numFiles": "1",
          "numOutputBytes": "18235277",
          "numOutputRows": "1000000"
         },
         null,
         "Databricks-Runtime/15.4.x-scala2.12"
        ],
        [
         3,
         "2025-08-14T23:17:28Z",
         "78016171715504",
         "rohithkumar0955@gmail.com",
         "WRITE",
         {
          "mode": "Append",
          "partitionBy": "[\"ingest_day\"]",
          "statsOnLoad": "false"
         },
         null,
         [
          "1323301528906842"
         ],
         "0120-034800-q4ixh8v8",
         2,
         "WriteSerializable",
         true,
         {
          "numFiles": "1",
          "numOutputBytes": "18234507",
          "numOutputRows": "1000000"
         },
         null,
         "Databricks-Runtime/15.4.x-scala2.12"
        ],
        [
         2,
         "2025-08-14T23:00:38Z",
         "78016171715504",
         "rohithkumar0955@gmail.com",
         "WRITE",
         {
          "mode": "Append",
          "partitionBy": "[\"ingest_day\"]",
          "statsOnLoad": "false"
         },
         null,
         [
          "1323301528906842"
         ],
         "0120-034800-q4ixh8v8",
         1,
         "WriteSerializable",
         true,
         {
          "numFiles": "1",
          "numOutputBytes": "18235231",
          "numOutputRows": "1000000"
         },
         null,
         "Databricks-Runtime/15.4.x-scala2.12"
        ],
        [
         1,
         "2025-08-14T23:00:34Z",
         "78016171715504",
         "rohithkumar0955@gmail.com",
         "WRITE",
         {
          "mode": "Append",
          "partitionBy": "[\"ingest_day\"]",
          "statsOnLoad": "false"
         },
         null,
         [
          "1323301528906842"
         ],
         "0120-034800-q4ixh8v8",
         0,
         "WriteSerializable",
         true,
         {
          "numFiles": "1",
          "numOutputBytes": "18234517",
          "numOutputRows": "1000000"
         },
         null,
         "Databricks-Runtime/15.4.x-scala2.12"
        ],
        [
         0,
         "2025-08-14T23:00:30Z",
         "78016171715504",
         "rohithkumar0955@gmail.com",
         "WRITE",
         {
          "mode": "Append",
          "partitionBy": "[\"ingest_day\"]",
          "statsOnLoad": "false"
         },
         null,
         [
          "1323301528906842"
         ],
         "0120-034800-q4ixh8v8",
         null,
         "WriteSerializable",
         true,
         {
          "numFiles": "1",
          "numOutputBytes": "18235273",
          "numOutputRows": "1000000"
         },
         null,
         "Databricks-Runtime/15.4.x-scala2.12"
        ]
       ],
       "datasetInfos": [],
       "dbfsResultPath": null,
       "isJsonSchema": true,
       "metadata": {},
       "overflow": false,
       "plotOptions": {
        "customPlotOptions": {},
        "displayType": "table",
        "pivotAggregation": null,
        "pivotColumns": null,
        "xColumns": null,
        "yColumns": null
       },
       "removedWidgets": [],
       "schema": [
        {
         "metadata": "{}",
         "name": "version",
         "type": "\"long\""
        },
        {
         "metadata": "{}",
         "name": "timestamp",
         "type": "\"timestamp\""
        },
        {
         "metadata": "{}",
         "name": "userId",
         "type": "\"string\""
        },
        {
         "metadata": "{}",
         "name": "userName",
         "type": "\"string\""
        },
        {
         "metadata": "{}",
         "name": "operation",
         "type": "\"string\""
        },
        {
         "metadata": "{}",
         "name": "operationParameters",
         "type": "{\"type\":\"map\",\"keyType\":\"string\",\"valueType\":\"string\",\"valueContainsNull\":true}"
        },
        {
         "metadata": "{}",
         "name": "job",
         "type": "{\"type\":\"struct\",\"fields\":[{\"name\":\"jobId\",\"type\":\"string\",\"nullable\":true,\"metadata\":{}},{\"name\":\"jobName\",\"type\":\"string\",\"nullable\":true,\"metadata\":{}},{\"name\":\"jobRunId\",\"type\":\"string\",\"nullable\":true,\"metadata\":{}},{\"name\":\"runId\",\"type\":\"string\",\"nullable\":true,\"metadata\":{}},{\"name\":\"jobOwnerId\",\"type\":\"string\",\"nullable\":true,\"metadata\":{}},{\"name\":\"triggerType\",\"type\":\"string\",\"nullable\":true,\"metadata\":{}}]}"
        },
        {
         "metadata": "{}",
         "name": "notebook",
         "type": "{\"type\":\"struct\",\"fields\":[{\"name\":\"notebookId\",\"type\":\"string\",\"nullable\":true,\"metadata\":{}}]}"
        },
        {
         "metadata": "{}",
         "name": "clusterId",
         "type": "\"string\""
        },
        {
         "metadata": "{}",
         "name": "readVersion",
         "type": "\"long\""
        },
        {
         "metadata": "{}",
         "name": "isolationLevel",
         "type": "\"string\""
        },
        {
         "metadata": "{}",
         "name": "isBlindAppend",
         "type": "\"boolean\""
        },
        {
         "metadata": "{}",
         "name": "operationMetrics",
         "type": "{\"type\":\"map\",\"keyType\":\"string\",\"valueType\":\"string\",\"valueContainsNull\":true}"
        },
        {
         "metadata": "{}",
         "name": "userMetadata",
         "type": "\"string\""
        },
        {
         "metadata": "{}",
         "name": "engineInfo",
         "type": "\"string\""
        }
       ],
       "type": "table"
      }
     },
     "output_type": "display_data"
    }
   ],
   "source": [
    "tx = spark.read.format(\"delta\").load(tx_path)\n",
    "\n",
    "print(\"Total rows:\", tx.count())\n",
    "display(tx.groupBy(\"ingest_day\").count().orderBy(\"ingest_day\"))\n",
    "\n",
    "# Check that all customer_ids are valid (no orphans)\n",
    "cust = spark.read.format(\"delta\").load(cust_path).select(\"customer_id\")\n",
    "orphans = tx.join(cust, on=\"customer_id\", how=\"left_anti\").count()\n",
    "print(\"Orphan transactions:\", orphans)\n",
    "\n",
    "# Show Delta history (should see APPEND writes)\n",
    "display(spark.sql(f\"DESCRIBE HISTORY delta.`{tx_path}`\"))\n"
   ]
  },
  {
   "cell_type": "code",
   "execution_count": 0,
   "metadata": {
    "application/vnd.databricks.v1+cell": {
     "cellMetadata": {
      "byteLimit": 2048000,
      "rowLimit": 10000
     },
     "inputWidgets": {},
     "nuid": "3aa2dea9-1ab4-4087-b92f-2c6fc16ee9af",
     "showTitle": false,
     "tableResultSettingsMap": {},
     "title": ""
    }
   },
   "outputs": [
    {
     "output_type": "stream",
     "name": "stdout",
     "output_type": "stream",
     "text": [
      "Customer rows: 200000\nDistinct customer_id: 200000\n"
     ]
    },
    {
     "output_type": "display_data",
     "data": {
      "text/html": [
       "<style scoped>\n",
       "  .table-result-container {\n",
       "    max-height: 300px;\n",
       "    overflow: auto;\n",
       "  }\n",
       "  table, th, td {\n",
       "    border: 1px solid black;\n",
       "    border-collapse: collapse;\n",
       "  }\n",
       "  th, td {\n",
       "    padding: 5px;\n",
       "  }\n",
       "  th {\n",
       "    text-align: left;\n",
       "  }\n",
       "</style><div class='table-result-container'><table class='table-result'><thead style='background-color: white'><tr><th>customer_id</th><th>signup_date</th><th>segment</th><th>state</th><th>city</th></tr></thead><tbody><tr><td>1</td><td>2023-12-13</td><td>CASUAL</td><td>WA</td><td>City_285</td></tr><tr><td>2</td><td>2023-11-15</td><td>CASUAL</td><td>PA</td><td>City_352</td></tr><tr><td>3</td><td>2023-07-19</td><td>CASUAL</td><td>CA</td><td>City_26</td></tr><tr><td>4</td><td>2023-06-16</td><td>LOYAL</td><td>GA</td><td>City_19</td></tr><tr><td>5</td><td>2023-05-17</td><td>VIP</td><td>TX</td><td>City_206</td></tr></tbody></table></div>"
      ]
     },
     "metadata": {
      "application/vnd.databricks.v1+output": {
       "addedWidgets": {},
       "aggData": [],
       "aggError": "",
       "aggOverflow": false,
       "aggSchema": [],
       "aggSeriesLimitReached": false,
       "aggType": "",
       "arguments": {},
       "columnCustomDisplayInfos": {},
       "data": [
        [
         1,
         "2023-12-13",
         "CASUAL",
         "WA",
         "City_285"
        ],
        [
         2,
         "2023-11-15",
         "CASUAL",
         "PA",
         "City_352"
        ],
        [
         3,
         "2023-07-19",
         "CASUAL",
         "CA",
         "City_26"
        ],
        [
         4,
         "2023-06-16",
         "LOYAL",
         "GA",
         "City_19"
        ],
        [
         5,
         "2023-05-17",
         "VIP",
         "TX",
         "City_206"
        ]
       ],
       "datasetInfos": [],
       "dbfsResultPath": null,
       "isJsonSchema": true,
       "metadata": {},
       "overflow": false,
       "plotOptions": {
        "customPlotOptions": {},
        "displayType": "table",
        "pivotAggregation": null,
        "pivotColumns": null,
        "xColumns": null,
        "yColumns": null
       },
       "removedWidgets": [],
       "schema": [
        {
         "metadata": "{}",
         "name": "customer_id",
         "type": "\"long\""
        },
        {
         "metadata": "{}",
         "name": "signup_date",
         "type": "\"date\""
        },
        {
         "metadata": "{}",
         "name": "segment",
         "type": "\"string\""
        },
        {
         "metadata": "{}",
         "name": "state",
         "type": "\"string\""
        },
        {
         "metadata": "{}",
         "name": "city",
         "type": "\"string\""
        }
       ],
       "type": "table"
      }
     },
     "output_type": "display_data"
    },
    {
     "output_type": "display_data",
     "data": {
      "text/html": [
       "<style scoped>\n",
       "  .table-result-container {\n",
       "    max-height: 300px;\n",
       "    overflow: auto;\n",
       "  }\n",
       "  table, th, td {\n",
       "    border: 1px solid black;\n",
       "    border-collapse: collapse;\n",
       "  }\n",
       "  th, td {\n",
       "    padding: 5px;\n",
       "  }\n",
       "  th {\n",
       "    text-align: left;\n",
       "  }\n",
       "</style><div class='table-result-container'><table class='table-result'><thead style='background-color: white'><tr><th>segment</th><th>count</th></tr></thead><tbody><tr><td>LOYAL</td><td>96042</td></tr><tr><td>CASUAL</td><td>63949</td></tr><tr><td>VIP</td><td>40009</td></tr></tbody></table></div>"
      ]
     },
     "metadata": {
      "application/vnd.databricks.v1+output": {
       "addedWidgets": {},
       "aggData": [],
       "aggError": "",
       "aggOverflow": false,
       "aggSchema": [],
       "aggSeriesLimitReached": false,
       "aggType": "",
       "arguments": {},
       "columnCustomDisplayInfos": {},
       "data": [
        [
         "LOYAL",
         96042
        ],
        [
         "CASUAL",
         63949
        ],
        [
         "VIP",
         40009
        ]
       ],
       "datasetInfos": [],
       "dbfsResultPath": null,
       "isJsonSchema": true,
       "metadata": {},
       "overflow": false,
       "plotOptions": {
        "customPlotOptions": {},
        "displayType": "table",
        "pivotAggregation": null,
        "pivotColumns": null,
        "xColumns": null,
        "yColumns": null
       },
       "removedWidgets": [],
       "schema": [
        {
         "metadata": "{}",
         "name": "segment",
         "type": "\"string\""
        },
        {
         "metadata": "{}",
         "name": "count",
         "type": "\"long\""
        }
       ],
       "type": "table"
      }
     },
     "output_type": "display_data"
    },
    {
     "output_type": "display_data",
     "data": {
      "text/html": [
       "<style scoped>\n",
       "  .table-result-container {\n",
       "    max-height: 300px;\n",
       "    overflow: auto;\n",
       "  }\n",
       "  table, th, td {\n",
       "    border: 1px solid black;\n",
       "    border-collapse: collapse;\n",
       "  }\n",
       "  th, td {\n",
       "    padding: 5px;\n",
       "  }\n",
       "  th {\n",
       "    text-align: left;\n",
       "  }\n",
       "</style><div class='table-result-container'><table class='table-result'><thead style='background-color: white'><tr><th>state</th><th>count</th></tr></thead><tbody><tr><td>GA</td><td>20199</td></tr><tr><td>WA</td><td>20187</td></tr><tr><td>FL</td><td>20167</td></tr><tr><td>PA</td><td>20144</td></tr><tr><td>TX</td><td>20011</td></tr><tr><td>CA</td><td>19963</td></tr><tr><td>NC</td><td>19951</td></tr><tr><td>IL</td><td>19883</td></tr><tr><td>OH</td><td>19785</td></tr><tr><td>NY</td><td>19710</td></tr></tbody></table></div>"
      ]
     },
     "metadata": {
      "application/vnd.databricks.v1+output": {
       "addedWidgets": {},
       "aggData": [],
       "aggError": "",
       "aggOverflow": false,
       "aggSchema": [],
       "aggSeriesLimitReached": false,
       "aggType": "",
       "arguments": {},
       "columnCustomDisplayInfos": {},
       "data": [
        [
         "GA",
         20199
        ],
        [
         "WA",
         20187
        ],
        [
         "FL",
         20167
        ],
        [
         "PA",
         20144
        ],
        [
         "TX",
         20011
        ],
        [
         "CA",
         19963
        ],
        [
         "NC",
         19951
        ],
        [
         "IL",
         19883
        ],
        [
         "OH",
         19785
        ],
        [
         "NY",
         19710
        ]
       ],
       "datasetInfos": [],
       "dbfsResultPath": null,
       "isJsonSchema": true,
       "metadata": {},
       "overflow": false,
       "plotOptions": {
        "customPlotOptions": {},
        "displayType": "table",
        "pivotAggregation": null,
        "pivotColumns": null,
        "xColumns": null,
        "yColumns": null
       },
       "removedWidgets": [],
       "schema": [
        {
         "metadata": "{}",
         "name": "state",
         "type": "\"string\""
        },
        {
         "metadata": "{}",
         "name": "count",
         "type": "\"long\""
        }
       ],
       "type": "table"
      }
     },
     "output_type": "display_data"
    }
   ],
   "source": [
    "cust = spark.read.format(\"delta\").load(cust_path)\n",
    "\n",
    "print(\"Customer rows:\", cust.count())\n",
    "print(\"Distinct customer_id:\", cust.select(\"customer_id\").distinct().count())\n",
    "\n",
    "display(cust.orderBy(\"customer_id\").limit(5))\n",
    "display(cust.groupBy(\"segment\").count().orderBy(F.desc(\"count\")))\n",
    "display(cust.groupBy(\"state\").count().orderBy(F.desc(\"count\")))\n"
   ]
  },
  {
   "cell_type": "code",
   "execution_count": 0,
   "metadata": {
    "application/vnd.databricks.v1+cell": {
     "cellMetadata": {
      "byteLimit": 2048000,
      "rowLimit": 10000
     },
     "inputWidgets": {},
     "nuid": "1402810f-fbce-4a53-9913-b337436ba29c",
     "showTitle": false,
     "tableResultSettingsMap": {},
     "title": ""
    }
   },
   "outputs": [
    {
     "output_type": "stream",
     "name": "stdout",
     "output_type": "stream",
     "text": [
      "Orphan transactions: 0\n"
     ]
    },
    {
     "output_type": "display_data",
     "data": {
      "text/html": [
       "<style scoped>\n",
       "  .table-result-container {\n",
       "    max-height: 300px;\n",
       "    overflow: auto;\n",
       "  }\n",
       "  table, th, td {\n",
       "    border: 1px solid black;\n",
       "    border-collapse: collapse;\n",
       "  }\n",
       "  th, td {\n",
       "    padding: 5px;\n",
       "  }\n",
       "  th {\n",
       "    text-align: left;\n",
       "  }\n",
       "</style><div class='table-result-container'><table class='table-result'><thead style='background-color: white'><tr><th>customer_id</th><th>segment</th><th>state</th><th>amount</th><th>ingest_day</th><th>ts</th></tr></thead><tbody><tr><td>73093</td><td>LOYAL</td><td>GA</td><td>66.57000000000001</td><td>2024-03-01</td><td>2024-03-01T09:27:00Z</td></tr><tr><td>186252</td><td>LOYAL</td><td>WA</td><td>107.15</td><td>2024-03-01</td><td>2024-03-01T11:40:00Z</td></tr><tr><td>140693</td><td>CASUAL</td><td>OH</td><td>31.15</td><td>2024-03-01</td><td>2024-03-01T07:01:00Z</td></tr><tr><td>32719</td><td>VIP</td><td>OH</td><td>29.16</td><td>2024-03-01</td><td>2024-03-01T08:00:00Z</td></tr><tr><td>1266</td><td>LOYAL</td><td>FL</td><td>30.4</td><td>2024-03-01</td><td>2024-03-01T09:33:00Z</td></tr><tr><td>91772</td><td>CASUAL</td><td>PA</td><td>46.64</td><td>2024-03-01</td><td>2024-03-01T07:42:00Z</td></tr><tr><td>44595</td><td>LOYAL</td><td>WA</td><td>27.62</td><td>2024-03-01</td><td>2024-03-01T00:49:00Z</td></tr><tr><td>188066</td><td>VIP</td><td>IL</td><td>66.48</td><td>2024-03-01</td><td>2024-03-01T21:45:00Z</td></tr><tr><td>65399</td><td>LOYAL</td><td>GA</td><td>38.22</td><td>2024-03-01</td><td>2024-03-01T10:20:00Z</td></tr><tr><td>86407</td><td>LOYAL</td><td>TX</td><td>36.93</td><td>2024-03-01</td><td>2024-03-01T17:56:00Z</td></tr></tbody></table></div>"
      ]
     },
     "metadata": {
      "application/vnd.databricks.v1+output": {
       "addedWidgets": {},
       "aggData": [],
       "aggError": "",
       "aggOverflow": false,
       "aggSchema": [],
       "aggSeriesLimitReached": false,
       "aggType": "",
       "arguments": {},
       "columnCustomDisplayInfos": {},
       "data": [
        [
         73093,
         "LOYAL",
         "GA",
         66.57000000000001,
         "2024-03-01",
         "2024-03-01T09:27:00Z"
        ],
        [
         186252,
         "LOYAL",
         "WA",
         107.15,
         "2024-03-01",
         "2024-03-01T11:40:00Z"
        ],
        [
         140693,
         "CASUAL",
         "OH",
         31.15,
         "2024-03-01",
         "2024-03-01T07:01:00Z"
        ],
        [
         32719,
         "VIP",
         "OH",
         29.16,
         "2024-03-01",
         "2024-03-01T08:00:00Z"
        ],
        [
         1266,
         "LOYAL",
         "FL",
         30.4,
         "2024-03-01",
         "2024-03-01T09:33:00Z"
        ],
        [
         91772,
         "CASUAL",
         "PA",
         46.64,
         "2024-03-01",
         "2024-03-01T07:42:00Z"
        ],
        [
         44595,
         "LOYAL",
         "WA",
         27.62,
         "2024-03-01",
         "2024-03-01T00:49:00Z"
        ],
        [
         188066,
         "VIP",
         "IL",
         66.48,
         "2024-03-01",
         "2024-03-01T21:45:00Z"
        ],
        [
         65399,
         "LOYAL",
         "GA",
         38.22,
         "2024-03-01",
         "2024-03-01T10:20:00Z"
        ],
        [
         86407,
         "LOYAL",
         "TX",
         36.93,
         "2024-03-01",
         "2024-03-01T17:56:00Z"
        ]
       ],
       "datasetInfos": [],
       "dbfsResultPath": null,
       "isJsonSchema": true,
       "metadata": {},
       "overflow": false,
       "plotOptions": {
        "customPlotOptions": {},
        "displayType": "table",
        "pivotAggregation": null,
        "pivotColumns": null,
        "xColumns": null,
        "yColumns": null
       },
       "removedWidgets": [],
       "schema": [
        {
         "metadata": "{}",
         "name": "customer_id",
         "type": "\"integer\""
        },
        {
         "metadata": "{}",
         "name": "segment",
         "type": "\"string\""
        },
        {
         "metadata": "{}",
         "name": "state",
         "type": "\"string\""
        },
        {
         "metadata": "{}",
         "name": "amount",
         "type": "\"double\""
        },
        {
         "metadata": "{}",
         "name": "ingest_day",
         "type": "\"string\""
        },
        {
         "metadata": "{}",
         "name": "ts",
         "type": "\"timestamp\""
        }
       ],
       "type": "table"
      }
     },
     "output_type": "display_data"
    },
    {
     "output_type": "display_data",
     "data": {
      "text/html": [
       "<style scoped>\n",
       "  .table-result-container {\n",
       "    max-height: 300px;\n",
       "    overflow: auto;\n",
       "  }\n",
       "  table, th, td {\n",
       "    border: 1px solid black;\n",
       "    border-collapse: collapse;\n",
       "  }\n",
       "  th, td {\n",
       "    padding: 5px;\n",
       "  }\n",
       "  th {\n",
       "    text-align: left;\n",
       "  }\n",
       "</style><div class='table-result-container'><table class='table-result'><thead style='background-color: white'><tr><th>segment</th><th>txn_cnt</th><th>revenue</th></tr></thead><tbody><tr><td>LOYAL</td><td>66218674</td><td>4.8504964540196705E9</td></tr><tr><td>CASUAL</td><td>44136764</td><td>3.2316846514396777E9</td></tr><tr><td>VIP</td><td>27644562</td><td>2.024527583259989E9</td></tr></tbody></table></div>"
      ]
     },
     "metadata": {
      "application/vnd.databricks.v1+output": {
       "addedWidgets": {},
       "aggData": [],
       "aggError": "",
       "aggOverflow": false,
       "aggSchema": [],
       "aggSeriesLimitReached": false,
       "aggType": "",
       "arguments": {},
       "columnCustomDisplayInfos": {},
       "data": [
        [
         "LOYAL",
         66218674,
         4.8504964540196705E9
        ],
        [
         "CASUAL",
         44136764,
         3.2316846514396777E9
        ],
        [
         "VIP",
         27644562,
         2.024527583259989E9
        ]
       ],
       "datasetInfos": [],
       "dbfsResultPath": null,
       "isJsonSchema": true,
       "metadata": {},
       "overflow": false,
       "plotOptions": {
        "customPlotOptions": {},
        "displayType": "table",
        "pivotAggregation": null,
        "pivotColumns": null,
        "xColumns": null,
        "yColumns": null
       },
       "removedWidgets": [],
       "schema": [
        {
         "metadata": "{}",
         "name": "segment",
         "type": "\"string\""
        },
        {
         "metadata": "{}",
         "name": "txn_cnt",
         "type": "\"long\""
        },
        {
         "metadata": "{}",
         "name": "revenue",
         "type": "\"double\""
        }
       ],
       "type": "table"
      }
     },
     "output_type": "display_data"
    }
   ],
   "source": [
    "tx = spark.read.format(\"delta\").load(tx_path).select(\"customer_id\",\"ingest_day\",\"amount\",\"ts\")\n",
    "\n",
    "# Orphans (tx with no matching customer)\n",
    "orphans = (tx.join(cust.select(\"customer_id\"), on=\"customer_id\", how=\"left_anti\")).count()\n",
    "print(\"Orphan transactions:\", orphans)\n",
    "\n",
    "# Basic joined sample\n",
    "joined = tx.join(cust, \"customer_id\", \"left\")\n",
    "display(joined.select(\"customer_id\",\"segment\",\"state\",\"amount\",\"ingest_day\",\"ts\").limit(10))\n",
    "\n",
    "# Useful distributions for later KPIs\n",
    "display(joined.groupBy(\"segment\").agg(F.count(\"*\").alias(\"txn_cnt\"),\n",
    "                                      F.sum(\"amount\").alias(\"revenue\")).orderBy(F.desc(\"revenue\")))\n"
   ]
  },
  {
   "cell_type": "code",
   "execution_count": 0,
   "metadata": {
    "application/vnd.databricks.v1+cell": {
     "cellMetadata": {},
     "inputWidgets": {},
     "nuid": "c5042e2f-7772-4ca2-a92c-24f3f65bc8cb",
     "showTitle": false,
     "tableResultSettingsMap": {},
     "title": ""
    }
   },
   "outputs": [],
   "source": []
  }
 ],
 "metadata": {
  "application/vnd.databricks.v1+notebook": {
   "computePreferences": {
    "hardware": {
     "accelerator": null,
     "gpuPoolId": null,
     "memory": null
    }
   },
   "dashboards": [],
   "environmentMetadata": {
    "base_environment": "",
    "environment_version": "2"
   },
   "inputWidgetPreferences": null,
   "language": "python",
   "notebookMetadata": {
    "pythonIndentUnit": 4
   },
   "notebookName": "Data_for_benchmarking",
   "widgets": {}
  },
  "language_info": {
   "name": "python"
  }
 },
 "nbformat": 4,
 "nbformat_minor": 0
}