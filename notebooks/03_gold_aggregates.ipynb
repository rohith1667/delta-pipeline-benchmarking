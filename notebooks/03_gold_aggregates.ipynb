{
 "cells": [
  {
   "cell_type": "code",
   "execution_count": 0,
   "metadata": {
    "application/vnd.databricks.v1+cell": {
     "cellMetadata": {
      "byteLimit": 2048000,
      "rowLimit": 10000
     },
     "inputWidgets": {},
     "nuid": "9595bd59-c154-40ba-a921-1c2c1f69111e",
     "showTitle": false,
     "tableResultSettingsMap": {},
     "title": ""
    }
   },
   "outputs": [],
   "source": [
    "ROOT   = \"/Volumes/tabular/dataexpert/benchmarking_capstone\"\n",
    "SILVER = f\"{ROOT}/silver\"\n",
    "GOLD   = f\"{ROOT}/gold\"\n",
    "\n",
    "TX_SILVER_PATH   = f\"{SILVER}/transactions_clean\"\n",
    "CUST_SILVER_PATH = f\"{SILVER}/customers_clean\"\n",
    "\n",
    "KPIS_GOLD_PATH   = f\"{GOLD}/store_day_kpis\"\n",
    "BENCH_LOG_PATH   = f\"{GOLD}/benchmark_results_v2\"\n",
    "SUMMARY=f\"{GOLD}/summary\"\n"
   ]
  },
  {
   "cell_type": "code",
   "execution_count": 0,
   "metadata": {
    "application/vnd.databricks.v1+cell": {
     "cellMetadata": {
      "byteLimit": 2048000,
      "rowLimit": 10000
     },
     "inputWidgets": {},
     "nuid": "9d77065f-45a1-4bc4-a4da-343d3d523fa9",
     "showTitle": false,
     "tableResultSettingsMap": {},
     "title": ""
    }
   },
   "outputs": [
    {
     "name": "stdout",
     "output_type": "stream",
     "text": [
      "Selected: xl_250m -> [2024-03-04 , 2024-08-26) on cluster 'dev_large'\n"
     ]
    }
   ],
   "source": [
    "# One source of truth for windows\n",
    "DATASETS = {\n",
    "    \"small_9m\":   {\"from\": \"2024-03-04\", \"to\": \"2024-03-10\"},\n",
    "    \"large_142m\": {\"from\": \"2024-03-04\", \"to\": \"2024-06-11\"},\n",
    "    \"xl_250m\":    {\"from\": \"2024-03-04\", \"to\": \"2024-08-26\"},\n",
    "}\n",
    "\n",
    "dbutils.widgets.removeAll()\n",
    "dbutils.widgets.dropdown(\"dataset_label\", \"small_9m\", list(DATASETS.keys()))\n",
    "dbutils.widgets.text(\"cluster_profile\", \"dev_small\")\n",
    "dbutils.widgets.text(\"hourly_rate_usd\", \"0.60\")   # set per cluster\n",
    "dbutils.widgets.text(\"notes\", \"\")                 # optional free-form (e.g., \"after OPTIMIZE\")\n",
    "\n",
    "label            = dbutils.widgets.get(\"dataset_label\")\n",
    "DATE_FROM        = DATASETS[label][\"from\"]\n",
    "DATE_TO          = DATASETS[label][\"to\"]\n",
    "cluster_profile  = dbutils.widgets.get(\"cluster_profile\").strip()\n",
    "hourly_rate      = float(dbutils.widgets.get(\"hourly_rate_usd\"))\n",
    "notes            = dbutils.widgets.get(\"notes\").strip()\n",
    "\n",
    "print(f\"Selected: {label} -> [{DATE_FROM} , {DATE_TO}) on cluster '{cluster_profile}'\")\n"
   ]
  },
  {
   "cell_type": "code",
   "execution_count": 0,
   "metadata": {
    "application/vnd.databricks.v1+cell": {
     "cellMetadata": {
      "byteLimit": 2048000,
      "rowLimit": 10000
     },
     "inputWidgets": {},
     "nuid": "d7fd89b6-0f6a-41c7-9a6c-6dc3ab17f098",
     "showTitle": false,
     "tableResultSettingsMap": {},
     "title": ""
    }
   },
   "outputs": [
    {
     "name": "stdout",
     "output_type": "stream",
     "text": [
      "Rows in slice (xl_250m): 256,500,000\n"
     ]
    }
   ],
   "source": [
    "from pyspark.sql import functions as F, Window as W\n",
    "\n",
    "tx   = spark.read.format(\"delta\").load(TX_SILVER_PATH) \\\n",
    "         .filter((F.col(\"ingest_day\") >= DATE_FROM) & (F.col(\"ingest_day\") < DATE_TO))\n",
    "cust = spark.read.format(\"delta\").load(CUST_SILVER_PATH)\n",
    "\n",
    "rows_in = tx.count()\n",
    "print(f\"Rows in slice ({label}): {rows_in:,}\")\n",
    "\n",
    "# Small dim → broadcast is safe & faster\n",
    "cust = cust.cache()\n",
    "j = (tx.hint(\"broadcast\")\n",
    "       .join(cust, \"customer_id\", \"left\")\n",
    "       .withColumn(\"day\", F.to_date(\"ts\")))\n"
   ]
  },
  {
   "cell_type": "code",
   "execution_count": 0,
   "metadata": {
    "application/vnd.databricks.v1+cell": {
     "cellMetadata": {
      "byteLimit": 2048000,
      "rowLimit": 10000
     },
     "inputWidgets": {},
     "nuid": "d0b53e83-3a3e-4c25-b8cd-03e2188091b0",
     "showTitle": false,
     "tableResultSettingsMap": {},
     "title": ""
    }
   },
   "outputs": [
    {
     "name": "stdout",
     "output_type": "stream",
     "text": [
      "[ENV] cluster=dev_large dbr=15.4.x-photon-scala2.12 node=unknown workers~=8 | photon=True aqe=True shuffle_parts=1600 cores~=unknown\n"
     ]
    }
   ],
   "source": [
    "# ==== Auto-detect runtime flags & cluster facts (no manual typing) ====\n",
    "def _get_bool(\n",
    "    name: str,\n",
    "    default=\"false\"\n",
    ") -> bool:\n",
    "    try:\n",
    "        return spark.conf.get(name, default).lower() in (\"true\", \"1\", \"yes\")\n",
    "    except Exception:\n",
    "        return default.lower() in (\"true\", \"1\", \"yes\")\n",
    "\n",
    "def _get_str(\n",
    "    name: str,\n",
    "    default: str = \"\"\n",
    ") -> str:\n",
    "    try:\n",
    "        return spark.conf.get(name, default)\n",
    "    except Exception:\n",
    "        return default\n",
    "\n",
    "# Spark/Databricks flags\n",
    "aqe_enabled    = _get_bool(\"spark.sql.adaptive.enabled\", \"true\")\n",
    "photon_enabled = _get_bool(\"spark.databricks.photon.enabled\", \"true\")\n",
    "shuffle_parts  = int(_get_str(\"spark.sql.shuffle.partitions\", \"1600\"))\n",
    "\n",
    "# Helpful cluster context (nice for your logs)\n",
    "cluster_name   = spark.conf.get(\"spark.databricks.clusterUsageTags.clusterName\", \"unknown\")\n",
    "dbr_version    = spark.conf.get(\"spark.databricks.clusterUsageTags.sparkVersion\", \"unknown\")\n",
    "node_type      = spark.conf.get(\"spark.databricks.clusterUsageTags.node_type_id\", \"unknown\")\n",
    "workers_hint   = spark.conf.get(\"spark.databricks.clusterUsageTags.clusterWorkers\", \"unknown\")\n",
    "total_cores    = spark.conf.get(\"spark.databricks.defaultParallelism\", \"unknown\")  # May not be exact\n",
    "\n",
    "print(\n",
    "    f\"[ENV] cluster={cluster_name} dbr={dbr_version} node={node_type} workers~={workers_hint} \"\n",
    "    f\"| photon={photon_enabled} aqe={aqe_enabled} shuffle_parts={shuffle_parts} cores~={total_cores}\"\n",
    ")"
   ]
  },
  {
   "cell_type": "code",
   "execution_count": 0,
   "metadata": {
    "application/vnd.databricks.v1+cell": {
     "cellMetadata": {
      "byteLimit": 2048000,
      "rowLimit": 10000
     },
     "inputWidgets": {},
     "nuid": "a1f16eaf-ef75-475b-ad7c-f1be6719d340",
     "showTitle": false,
     "tableResultSettingsMap": {},
     "title": ""
    }
   },
   "outputs": [
    {
     "name": "stdout",
     "output_type": "stream",
     "text": [
      "Gold duration: 6.83s  |  Estimated cost: $0.0046\n",
      "Logged → /Volumes/tabular/dataexpert/benchmarking_capstone/gold/benchmark_results_v2\n"
     ]
    }
   ],
   "source": [
    "import time\n",
    "from datetime import datetime\n",
    "from pyspark.sql.types import StructType, StructField, StringType, IntegerType, LongType, DoubleType, BooleanType\n",
    "\n",
    "t0 = time.time()\n",
    "\n",
    "# Core KPIs by store/day (extend as needed)\n",
    "by_store_day = (j.groupBy(\"store_id\", \"day\")\n",
    "                  .agg(F.count(\"*\").alias(\"txn_cnt\"),\n",
    "                       F.sum(\"amount\").alias(\"revenue\"),\n",
    "                       F.avg(\"amount\").alias(\"avg_basket\"),\n",
    "                       F.expr(\"percentile_approx(amount, 0.95)\").alias(\"p95_amount\")))\n",
    "\n",
    "# 7-day moving window\n",
    "w = W.partitionBy(\"store_id\").orderBy(\"day\").rowsBetween(-6, 0)\n",
    "kpis = (by_store_day\n",
    "        .withColumn(\"rev_mv7\", F.avg(\"revenue\").over(w))\n",
    "        .withColumn(\"dataset_label\", F.lit(label))\n",
    "        .withColumn(\"cluster_profile\", F.lit(cluster_profile))\n",
    "        .withColumn(\"run_ts\", F.lit(datetime.utcnow().isoformat())))\n",
    "\n",
    "# Write Gold for just this dataset_label\n",
    "(kpis.write\n",
    "   .format(\"delta\")\n",
    "   .mode(\"overwrite\")\n",
    "   .option(\"replaceWhere\", f\"dataset_label = '{label}'\")\n",
    "   .save(KPIS_GOLD_PATH))\n",
    "\n",
    "duration_sec = time.time() - t0\n",
    "cost_usd = (duration_sec / 3600.0) * hourly_rate\n",
    "\n",
    "print(f\"Gold duration: {round(duration_sec,2)}s  |  Estimated cost: ${cost_usd:.4f}\")\n",
    "\n",
    "# ---- Append a structured log row ----\n",
    "schema = StructType([\n",
    "    StructField(\"run_ts\",          StringType(),  True),\n",
    "    StructField(\"cluster_profile\", StringType(),  True),\n",
    "    StructField(\"dataset_label\",   StringType(),  True),\n",
    "    StructField(\"rows_in\",         LongType(),    True),\n",
    "    StructField(\"duration_sec\",    DoubleType(),  True),\n",
    "    StructField(\"hourly_rate_usd\", DoubleType(),  True),\n",
    "    StructField(\"cost_usd\",        DoubleType(),  True),\n",
    "    StructField(\"photon_enabled\",  BooleanType(), True),\n",
    "    StructField(\"aqe_enabled\",     BooleanType(), True),\n",
    "    StructField(\"shuffle_parts\",   IntegerType(), True),\n",
    "    StructField(\"date_from\",       StringType(),  True),\n",
    "    StructField(\"date_to\",         StringType(),  True),\n",
    "    StructField(\"notes\",           StringType(),  True),\n",
    "])\n",
    "\n",
    "row = [(datetime.utcnow().isoformat(), cluster_profile, label, int(rows_in),\n",
    "        float(round(duration_sec,2)), float(hourly_rate), float(round(cost_usd,4)),\n",
    "        bool(photon_enabled), bool(aqe_enabled), int(shuffle_parts),\n",
    "        DATE_FROM, DATE_TO, notes)]\n",
    "\n",
    "spark.createDataFrame(row, schema=schema) \\\n",
    "     .write.mode(\"append\").format(\"delta\").save(BENCH_LOG_PATH)\n",
    "\n",
    "print(\"Logged →\", BENCH_LOG_PATH)\n"
   ]
  },
  {
   "cell_type": "code",
   "execution_count": 0,
   "metadata": {
    "application/vnd.databricks.v1+cell": {
     "cellMetadata": {
      "byteLimit": 2048000,
      "rowLimit": 10000
     },
     "inputWidgets": {},
     "nuid": "0c480958-2ab8-498b-a3e8-57d5cdaea073",
     "showTitle": false,
     "tableResultSettingsMap": {},
     "title": ""
    }
   },
   "outputs": [
    {
     "data": {
      "text/html": [
       "<style scoped>\n",
       "  .table-result-container {\n",
       "    max-height: 300px;\n",
       "    overflow: auto;\n",
       "  }\n",
       "  table, th, td {\n",
       "    border: 1px solid black;\n",
       "    border-collapse: collapse;\n",
       "  }\n",
       "  th, td {\n",
       "    padding: 5px;\n",
       "  }\n",
       "  th {\n",
       "    text-align: left;\n",
       "  }\n",
       "</style><div class='table-result-container'><table class='table-result'><thead style='background-color: white'><tr><th>run_ts</th><th>cluster_profile</th><th>dataset_label</th><th>rows_in</th><th>duration_sec</th><th>hourly_rate_usd</th><th>cost_usd</th><th>photon_enabled</th><th>aqe_enabled</th><th>shuffle_parts</th><th>date_from</th><th>date_to</th><th>notes</th></tr></thead><tbody><tr><td>2025-08-18T03:43:15.910055</td><td>dev_large</td><td>xl_250m</td><td>256500000</td><td>6.83</td><td>2.4</td><td>0.0046</td><td>true</td><td>true</td><td>1600</td><td>2024-03-04</td><td>2024-08-26</td><td></td></tr><tr><td>2025-08-18T03:41:20.775420</td><td>dev_large</td><td>xl_250m</td><td>256500000</td><td>11.27</td><td>2.4</td><td>0.0075</td><td>true</td><td>true</td><td>1600</td><td>2024-03-04</td><td>2024-08-26</td><td></td></tr><tr><td>2025-08-18T03:39:51.413381</td><td>dev_large</td><td>large_142m</td><td>142500000</td><td>5.82</td><td>2.4</td><td>0.0039</td><td>true</td><td>true</td><td>1600</td><td>2024-03-04</td><td>2024-06-11</td><td></td></tr><tr><td>2025-08-18T03:39:29.308986</td><td>dev_large</td><td>large_142m</td><td>142500000</td><td>8.36</td><td>2.4</td><td>0.0056</td><td>true</td><td>true</td><td>1600</td><td>2024-03-04</td><td>2024-06-11</td><td></td></tr><tr><td>2025-08-18T03:39:07.977745</td><td>dev_large</td><td>large_142m</td><td>142500000</td><td>28.04</td><td>2.4</td><td>0.0187</td><td>true</td><td>true</td><td>1600</td><td>2024-03-04</td><td>2024-06-11</td><td></td></tr><tr><td>2025-08-18T03:38:17.050987</td><td>dev_large</td><td>small_9m</td><td>9000000</td><td>4.11</td><td>2.4</td><td>0.0027</td><td>true</td><td>true</td><td>1600</td><td>2024-03-04</td><td>2024-03-10</td><td></td></tr><tr><td>2025-08-18T03:37:44.989558</td><td>dev_large</td><td>small_9m</td><td>9000000</td><td>17.87</td><td>2.4</td><td>0.0119</td><td>true</td><td>true</td><td>1600</td><td>2024-03-04</td><td>2024-03-10</td><td></td></tr><tr><td>2025-08-18T03:36:33.790120</td><td>dev_large</td><td>small_9m</td><td>9000000</td><td>8.53</td><td>2.4</td><td>0.0057</td><td>true</td><td>true</td><td>1600</td><td>2024-03-04</td><td>2024-03-10</td><td></td></tr><tr><td>2025-08-18T03:36:03.057925</td><td>dev_large</td><td>small_9m</td><td>9000000</td><td>69.25</td><td>2.4</td><td>0.0462</td><td>true</td><td>true</td><td>1600</td><td>2024-03-04</td><td>2024-03-10</td><td></td></tr><tr><td>2025-08-18T03:25:38.990599</td><td>dev_large</td><td>xl_250m</td><td>256500000</td><td>23.55</td><td>2.4</td><td>0.0157</td><td>false</td><td>true</td><td>1600</td><td>2024-03-04</td><td>2024-08-26</td><td></td></tr><tr><td>2025-08-18T03:25:09.597643</td><td>dev_large</td><td>xl_250m</td><td>256500000</td><td>27.15</td><td>2.4</td><td>0.0181</td><td>false</td><td>true</td><td>1600</td><td>2024-03-04</td><td>2024-08-26</td><td></td></tr><tr><td>2025-08-18T03:23:50.161944</td><td>dev_large</td><td>large_142m</td><td>142500000</td><td>17.16</td><td>2.4</td><td>0.0114</td><td>false</td><td>true</td><td>1600</td><td>2024-03-04</td><td>2024-06-11</td><td></td></tr><tr><td>2025-08-18T03:23:20.591834</td><td>dev_large</td><td>large_142m</td><td>142500000</td><td>31.36</td><td>2.4</td><td>0.0209</td><td>false</td><td>true</td><td>1600</td><td>2024-03-04</td><td>2024-06-11</td><td></td></tr><tr><td>2025-08-18T03:21:47.878205</td><td>dev_large</td><td>small_9m</td><td>9000000</td><td>8.87</td><td>2.4</td><td>0.0059</td><td>false</td><td>true</td><td>1600</td><td>2024-03-04</td><td>2024-03-10</td><td></td></tr><tr><td>2025-08-18T03:21:19.751980</td><td>dev_large</td><td>small_9m</td><td>9000000</td><td>19.45</td><td>2.4</td><td>0.013</td><td>false</td><td>true</td><td>1600</td><td>2024-03-04</td><td>2024-03-10</td><td></td></tr><tr><td>2025-08-18T03:20:31.205347</td><td>dev_large</td><td>small_9m</td><td>9000000</td><td>71.37</td><td>2.4</td><td>0.0476</td><td>false</td><td>true</td><td>1600</td><td>2024-03-04</td><td>2024-03-10</td><td></td></tr><tr><td>2025-08-18T03:06:10.820019</td><td>dev_medium</td><td>xl_250m</td><td>256500000</td><td>10.77</td><td>1.2</td><td>0.0036</td><td>true</td><td>true</td><td>1600</td><td>2024-03-04</td><td>2024-08-26</td><td></td></tr><tr><td>2025-08-18T03:05:53.668594</td><td>dev_medium</td><td>xl_250m</td><td>256500000</td><td>12.79</td><td>1.2</td><td>0.0043</td><td>true</td><td>true</td><td>1600</td><td>2024-03-04</td><td>2024-08-26</td><td></td></tr><tr><td>2025-08-18T03:05:11.157689</td><td>dev_medium</td><td>large_142m</td><td>142500000</td><td>9.18</td><td>1.2</td><td>0.0031</td><td>true</td><td>true</td><td>1600</td><td>2024-03-04</td><td>2024-06-11</td><td></td></tr><tr><td>2025-08-18T03:04:15.299138</td><td>dev_medium</td><td>large_142m</td><td>142500000</td><td>8.87</td><td>1.2</td><td>0.003</td><td>true</td><td>true</td><td>1600</td><td>2024-03-04</td><td>2024-06-11</td><td></td></tr></tbody></table></div>"
      ]
     },
     "metadata": {
      "application/vnd.databricks.v1+output": {
       "addedWidgets": {},
       "aggData": [],
       "aggError": "",
       "aggOverflow": false,
       "aggSchema": [],
       "aggSeriesLimitReached": false,
       "aggType": "",
       "arguments": {},
       "columnCustomDisplayInfos": {},
       "data": [
        [
         "2025-08-18T03:43:15.910055",
         "dev_large",
         "xl_250m",
         256500000,
         6.83,
         2.4,
         0.0046,
         true,
         true,
         1600,
         "2024-03-04",
         "2024-08-26",
         ""
        ],
        [
         "2025-08-18T03:41:20.775420",
         "dev_large",
         "xl_250m",
         256500000,
         11.27,
         2.4,
         0.0075,
         true,
         true,
         1600,
         "2024-03-04",
         "2024-08-26",
         ""
        ],
        [
         "2025-08-18T03:39:51.413381",
         "dev_large",
         "large_142m",
         142500000,
         5.82,
         2.4,
         0.0039,
         true,
         true,
         1600,
         "2024-03-04",
         "2024-06-11",
         ""
        ],
        [
         "2025-08-18T03:39:29.308986",
         "dev_large",
         "large_142m",
         142500000,
         8.36,
         2.4,
         0.0056,
         true,
         true,
         1600,
         "2024-03-04",
         "2024-06-11",
         ""
        ],
        [
         "2025-08-18T03:39:07.977745",
         "dev_large",
         "large_142m",
         142500000,
         28.04,
         2.4,
         0.0187,
         true,
         true,
         1600,
         "2024-03-04",
         "2024-06-11",
         ""
        ],
        [
         "2025-08-18T03:38:17.050987",
         "dev_large",
         "small_9m",
         9000000,
         4.11,
         2.4,
         0.0027,
         true,
         true,
         1600,
         "2024-03-04",
         "2024-03-10",
         ""
        ],
        [
         "2025-08-18T03:37:44.989558",
         "dev_large",
         "small_9m",
         9000000,
         17.87,
         2.4,
         0.0119,
         true,
         true,
         1600,
         "2024-03-04",
         "2024-03-10",
         ""
        ],
        [
         "2025-08-18T03:36:33.790120",
         "dev_large",
         "small_9m",
         9000000,
         8.53,
         2.4,
         0.0057,
         true,
         true,
         1600,
         "2024-03-04",
         "2024-03-10",
         ""
        ],
        [
         "2025-08-18T03:36:03.057925",
         "dev_large",
         "small_9m",
         9000000,
         69.25,
         2.4,
         0.0462,
         true,
         true,
         1600,
         "2024-03-04",
         "2024-03-10",
         ""
        ],
        [
         "2025-08-18T03:25:38.990599",
         "dev_large",
         "xl_250m",
         256500000,
         23.55,
         2.4,
         0.0157,
         false,
         true,
         1600,
         "2024-03-04",
         "2024-08-26",
         ""
        ],
        [
         "2025-08-18T03:25:09.597643",
         "dev_large",
         "xl_250m",
         256500000,
         27.15,
         2.4,
         0.0181,
         false,
         true,
         1600,
         "2024-03-04",
         "2024-08-26",
         ""
        ],
        [
         "2025-08-18T03:23:50.161944",
         "dev_large",
         "large_142m",
         142500000,
         17.16,
         2.4,
         0.0114,
         false,
         true,
         1600,
         "2024-03-04",
         "2024-06-11",
         ""
        ],
        [
         "2025-08-18T03:23:20.591834",
         "dev_large",
         "large_142m",
         142500000,
         31.36,
         2.4,
         0.0209,
         false,
         true,
         1600,
         "2024-03-04",
         "2024-06-11",
         ""
        ],
        [
         "2025-08-18T03:21:47.878205",
         "dev_large",
         "small_9m",
         9000000,
         8.87,
         2.4,
         0.0059,
         false,
         true,
         1600,
         "2024-03-04",
         "2024-03-10",
         ""
        ],
        [
         "2025-08-18T03:21:19.751980",
         "dev_large",
         "small_9m",
         9000000,
         19.45,
         2.4,
         0.013,
         false,
         true,
         1600,
         "2024-03-04",
         "2024-03-10",
         ""
        ],
        [
         "2025-08-18T03:20:31.205347",
         "dev_large",
         "small_9m",
         9000000,
         71.37,
         2.4,
         0.0476,
         false,
         true,
         1600,
         "2024-03-04",
         "2024-03-10",
         ""
        ],
        [
         "2025-08-18T03:06:10.820019",
         "dev_medium",
         "xl_250m",
         256500000,
         10.77,
         1.2,
         0.0036,
         true,
         true,
         1600,
         "2024-03-04",
         "2024-08-26",
         ""
        ],
        [
         "2025-08-18T03:05:53.668594",
         "dev_medium",
         "xl_250m",
         256500000,
         12.79,
         1.2,
         0.0043,
         true,
         true,
         1600,
         "2024-03-04",
         "2024-08-26",
         ""
        ],
        [
         "2025-08-18T03:05:11.157689",
         "dev_medium",
         "large_142m",
         142500000,
         9.18,
         1.2,
         0.0031,
         true,
         true,
         1600,
         "2024-03-04",
         "2024-06-11",
         ""
        ],
        [
         "2025-08-18T03:04:15.299138",
         "dev_medium",
         "large_142m",
         142500000,
         8.87,
         1.2,
         0.003,
         true,
         true,
         1600,
         "2024-03-04",
         "2024-06-11",
         ""
        ]
       ],
       "datasetInfos": [],
       "dbfsResultPath": null,
       "isJsonSchema": true,
       "metadata": {},
       "overflow": false,
       "plotOptions": {
        "customPlotOptions": {},
        "displayType": "table",
        "pivotAggregation": null,
        "pivotColumns": null,
        "xColumns": null,
        "yColumns": null
       },
       "removedWidgets": [],
       "schema": [
        {
         "metadata": "{}",
         "name": "run_ts",
         "type": "\"string\""
        },
        {
         "metadata": "{}",
         "name": "cluster_profile",
         "type": "\"string\""
        },
        {
         "metadata": "{}",
         "name": "dataset_label",
         "type": "\"string\""
        },
        {
         "metadata": "{}",
         "name": "rows_in",
         "type": "\"long\""
        },
        {
         "metadata": "{}",
         "name": "duration_sec",
         "type": "\"double\""
        },
        {
         "metadata": "{}",
         "name": "hourly_rate_usd",
         "type": "\"double\""
        },
        {
         "metadata": "{}",
         "name": "cost_usd",
         "type": "\"double\""
        },
        {
         "metadata": "{}",
         "name": "photon_enabled",
         "type": "\"boolean\""
        },
        {
         "metadata": "{}",
         "name": "aqe_enabled",
         "type": "\"boolean\""
        },
        {
         "metadata": "{}",
         "name": "shuffle_parts",
         "type": "\"integer\""
        },
        {
         "metadata": "{}",
         "name": "date_from",
         "type": "\"string\""
        },
        {
         "metadata": "{}",
         "name": "date_to",
         "type": "\"string\""
        },
        {
         "metadata": "{}",
         "name": "notes",
         "type": "\"string\""
        }
       ],
       "type": "table"
      }
     },
     "output_type": "display_data"
    }
   ],
   "source": [
    "display(spark.read.format(\"delta\").load(BENCH_LOG_PATH).orderBy(F.desc(\"run_ts\")).limit(20))\n",
    "\n",
    "# display(spark.read.format(\"delta\").load(KPIS_GOLD_PATH)\n",
    "#         .filter(F.col(\"dataset_label\")==label)\n",
    "#         .orderBy(\"store_id\",\"day\")\n",
    "#         .limit(50))\n"
   ]
  },
  {
   "cell_type": "code",
   "execution_count": 0,
   "metadata": {
    "application/vnd.databricks.v1+cell": {
     "cellMetadata": {
      "byteLimit": 2048000,
      "rowLimit": 10000
     },
     "inputWidgets": {},
     "nuid": "baff65da-fb2a-460f-b3d5-86588220f5b8",
     "showTitle": false,
     "tableResultSettingsMap": {
      "0": {
       "dataGridStateBlob": "{\"version\":1,\"tableState\":{\"columnPinning\":{\"left\":[\"#row_number#\"],\"right\":[]},\"columnSizing\":{},\"columnVisibility\":{}},\"settings\":{\"columns\":{}},\"syncTimestamp\":1755480987131}",
       "filterBlob": null,
       "queryPlanFiltersBlob": null,
       "tableResultIndex": 0
      }
     },
     "title": ""
    }
   },
   "outputs": [
    {
     "data": {
      "text/html": [
       "<style scoped>\n",
       "  .table-result-container {\n",
       "    max-height: 300px;\n",
       "    overflow: auto;\n",
       "  }\n",
       "  table, th, td {\n",
       "    border: 1px solid black;\n",
       "    border-collapse: collapse;\n",
       "  }\n",
       "  th, td {\n",
       "    padding: 5px;\n",
       "  }\n",
       "  th {\n",
       "    text-align: left;\n",
       "  }\n",
       "</style><div class='table-result-container'><table class='table-result'><thead style='background-color: white'><tr><th>cluster_profile</th><th>dataset_label</th><th>photon_enabled</th><th>aqe_enabled</th><th>shuffle_parts</th><th>runs</th><th>median_sec</th><th>avg_sec</th><th>median_cost_usd</th><th>median_cost_per_million</th></tr></thead><tbody><tr><td>dev_large</td><td>large_142m</td><td>false</td><td>true</td><td>1600</td><td>2</td><td>17.16</td><td>24.259999999999998</td><td>0.0114</td><td>8.0E-5</td></tr><tr><td>dev_large</td><td>large_142m</td><td>true</td><td>true</td><td>1600</td><td>3</td><td>8.36</td><td>14.073333333333332</td><td>0.0056</td><td>3.929824561403509E-5</td></tr><tr><td>dev_large</td><td>small_9m</td><td>false</td><td>true</td><td>1600</td><td>3</td><td>19.45</td><td>33.230000000000004</td><td>0.013</td><td>0.0014444444444444444</td></tr><tr><td>dev_large</td><td>small_9m</td><td>true</td><td>true</td><td>1600</td><td>4</td><td>8.53</td><td>24.94</td><td>0.0057</td><td>6.333333333333334E-4</td></tr><tr><td>dev_large</td><td>xl_250m</td><td>false</td><td>true</td><td>1600</td><td>2</td><td>23.55</td><td>25.35</td><td>0.0157</td><td>6.120857699805067E-5</td></tr><tr><td>dev_large</td><td>xl_250m</td><td>true</td><td>true</td><td>1600</td><td>2</td><td>6.83</td><td>9.05</td><td>0.0046</td><td>1.7933723196881093E-5</td></tr><tr><td>dev_medium</td><td>large_142m</td><td>false</td><td>true</td><td>1600</td><td>2</td><td>27.54</td><td>30.724999999999998</td><td>0.0092</td><td>6.456140350877194E-5</td></tr><tr><td>dev_medium</td><td>large_142m</td><td>true</td><td>true</td><td>1600</td><td>3</td><td>9.18</td><td>11.31</td><td>0.0031</td><td>2.175438596491228E-5</td></tr><tr><td>dev_medium</td><td>small_9m</td><td>false</td><td>true</td><td>1600</td><td>2</td><td>12.52</td><td>36.58</td><td>0.0042</td><td>4.6666666666666666E-4</td></tr><tr><td>dev_medium</td><td>small_9m</td><td>true</td><td>true</td><td>1600</td><td>2</td><td>9.86</td><td>30.625</td><td>0.0033</td><td>3.6666666666666667E-4</td></tr><tr><td>dev_medium</td><td>xl_250m</td><td>false</td><td>true</td><td>1600</td><td>2</td><td>40.99</td><td>42.7</td><td>0.0137</td><td>5.341130604288499E-5</td></tr><tr><td>dev_medium</td><td>xl_250m</td><td>true</td><td>true</td><td>1600</td><td>2</td><td>10.77</td><td>11.78</td><td>0.0036</td><td>1.4035087719298246E-5</td></tr><tr><td>dev_small</td><td>large_142m</td><td>false</td><td>true</td><td>1600</td><td>2</td><td>38.32</td><td>45.58</td><td>0.0064</td><td>4.491228070175439E-5</td></tr><tr><td>dev_small</td><td>large_142m</td><td>true</td><td>true</td><td>1600</td><td>1</td><td>15.14</td><td>15.14</td><td>0.0025</td><td>1.7543859649122806E-5</td></tr><tr><td>dev_small</td><td>small_9m</td><td>false</td><td>true</td><td>1600</td><td>2</td><td>6.92</td><td>31.11</td><td>0.0012</td><td>1.333333333333333E-4</td></tr><tr><td>dev_small</td><td>small_9m</td><td>true</td><td>true</td><td>1600</td><td>1</td><td>4.47</td><td>4.47</td><td>7.0E-4</td><td>7.777777777777778E-5</td></tr><tr><td>dev_small</td><td>xl_250m</td><td>false</td><td>true</td><td>1600</td><td>2</td><td>71.17</td><td>74.28999999999999</td><td>0.0119</td><td>4.639376218323587E-5</td></tr><tr><td>dev_small</td><td>xl_250m</td><td>true</td><td>true</td><td>1600</td><td>1</td><td>20.53</td><td>20.53</td><td>0.0034</td><td>1.3255360623781675E-5</td></tr></tbody></table></div>"
      ]
     },
     "metadata": {
      "application/vnd.databricks.v1+output": {
       "addedWidgets": {},
       "aggData": [],
       "aggError": "",
       "aggOverflow": false,
       "aggSchema": [],
       "aggSeriesLimitReached": false,
       "aggType": "",
       "arguments": {},
       "columnCustomDisplayInfos": {},
       "data": [
        [
         "dev_large",
         "large_142m",
         false,
         true,
         1600,
         2,
         17.16,
         24.259999999999998,
         0.0114,
         0.00008
        ],
        [
         "dev_large",
         "large_142m",
         true,
         true,
         1600,
         3,
         8.36,
         14.073333333333332,
         0.0056,
         0.00003929824561403509
        ],
        [
         "dev_large",
         "small_9m",
         false,
         true,
         1600,
         3,
         19.45,
         33.230000000000004,
         0.013,
         0.0014444444444444444
        ],
        [
         "dev_large",
         "small_9m",
         true,
         true,
         1600,
         4,
         8.53,
         24.94,
         0.0057,
         0.0006333333333333334
        ],
        [
         "dev_large",
         "xl_250m",
         false,
         true,
         1600,
         2,
         23.55,
         25.35,
         0.0157,
         0.00006120857699805067
        ],
        [
         "dev_large",
         "xl_250m",
         true,
         true,
         1600,
         2,
         6.83,
         9.05,
         0.0046,
         0.000017933723196881093
        ],
        [
         "dev_medium",
         "large_142m",
         false,
         true,
         1600,
         2,
         27.54,
         30.724999999999998,
         0.0092,
         0.00006456140350877194
        ],
        [
         "dev_medium",
         "large_142m",
         true,
         true,
         1600,
         3,
         9.18,
         11.31,
         0.0031,
         0.00002175438596491228
        ],
        [
         "dev_medium",
         "small_9m",
         false,
         true,
         1600,
         2,
         12.52,
         36.58,
         0.0042,
         0.00046666666666666666
        ],
        [
         "dev_medium",
         "small_9m",
         true,
         true,
         1600,
         2,
         9.86,
         30.625,
         0.0033,
         0.00036666666666666667
        ],
        [
         "dev_medium",
         "xl_250m",
         false,
         true,
         1600,
         2,
         40.99,
         42.7,
         0.0137,
         0.00005341130604288499
        ],
        [
         "dev_medium",
         "xl_250m",
         true,
         true,
         1600,
         2,
         10.77,
         11.78,
         0.0036,
         0.000014035087719298246
        ],
        [
         "dev_small",
         "large_142m",
         false,
         true,
         1600,
         2,
         38.32,
         45.58,
         0.0064,
         0.00004491228070175439
        ],
        [
         "dev_small",
         "large_142m",
         true,
         true,
         1600,
         1,
         15.14,
         15.14,
         0.0025,
         0.000017543859649122806
        ],
        [
         "dev_small",
         "small_9m",
         false,
         true,
         1600,
         2,
         6.92,
         31.11,
         0.0012,
         0.0001333333333333333
        ],
        [
         "dev_small",
         "small_9m",
         true,
         true,
         1600,
         1,
         4.47,
         4.47,
         0.0007,
         0.00007777777777777778
        ],
        [
         "dev_small",
         "xl_250m",
         false,
         true,
         1600,
         2,
         71.17,
         74.28999999999999,
         0.0119,
         0.00004639376218323587
        ],
        [
         "dev_small",
         "xl_250m",
         true,
         true,
         1600,
         1,
         20.53,
         20.53,
         0.0034,
         0.000013255360623781675
        ]
       ],
       "datasetInfos": [],
       "dbfsResultPath": null,
       "isJsonSchema": true,
       "metadata": {},
       "overflow": false,
       "plotOptions": {
        "customPlotOptions": {},
        "displayType": "table",
        "pivotAggregation": null,
        "pivotColumns": null,
        "xColumns": null,
        "yColumns": null
       },
       "removedWidgets": [],
       "schema": [
        {
         "metadata": "{}",
         "name": "cluster_profile",
         "type": "\"string\""
        },
        {
         "metadata": "{}",
         "name": "dataset_label",
         "type": "\"string\""
        },
        {
         "metadata": "{}",
         "name": "photon_enabled",
         "type": "\"boolean\""
        },
        {
         "metadata": "{}",
         "name": "aqe_enabled",
         "type": "\"boolean\""
        },
        {
         "metadata": "{}",
         "name": "shuffle_parts",
         "type": "\"integer\""
        },
        {
         "metadata": "{}",
         "name": "runs",
         "type": "\"long\""
        },
        {
         "metadata": "{}",
         "name": "median_sec",
         "type": "\"double\""
        },
        {
         "metadata": "{}",
         "name": "avg_sec",
         "type": "\"double\""
        },
        {
         "metadata": "{}",
         "name": "median_cost_usd",
         "type": "\"double\""
        },
        {
         "metadata": "{}",
         "name": "median_cost_per_million",
         "type": "\"double\""
        }
       ],
       "type": "table"
      }
     },
     "output_type": "display_data"
    }
   ],
   "source": [
    "from pyspark.sql import functions as F, Window as W\n",
    "\n",
    "bench = spark.read.format(\"delta\").load(BENCH_LOG_PATH)\n",
    "\n",
    "summary_med = (bench\n",
    "  .groupBy(\"cluster_profile\",\"dataset_label\",\"photon_enabled\",\"aqe_enabled\",\"shuffle_parts\")\n",
    "  .agg(\n",
    "      F.count(\"*\").alias(\"runs\"),\n",
    "      F.expr(\"percentile_approx(duration_sec, 0.5)\").alias(\"median_sec\"),\n",
    "      F.avg(\"duration_sec\").alias(\"avg_sec\"),\n",
    "      F.expr(\"percentile_approx(cost_usd, 0.5)\").alias(\"median_cost_usd\"),\n",
    "      (F.expr(\"percentile_approx(cost_usd, 0.5)\") / (F.avg(\"rows_in\")/1e6)).alias(\"median_cost_per_million\")\n",
    "  )\n",
    "  .orderBy(\"cluster_profile\",\"dataset_label\",\"photon_enabled\"))\n",
    "\n",
    "display(summary_med)\n"
   ]
  },
  {
   "cell_type": "code",
   "execution_count": 0,
   "metadata": {
    "application/vnd.databricks.v1+cell": {
     "cellMetadata": {
      "byteLimit": 2048000,
      "rowLimit": 10000
     },
     "inputWidgets": {},
     "nuid": "f24db529-5bee-4fb2-a42d-d5388c9f2fc2",
     "showTitle": false,
     "tableResultSettingsMap": {},
     "title": ""
    }
   },
   "outputs": [],
   "source": [
    "summary_med.write.mode(\"overwrite\").format(\"delta\").save(SUMMARY)"
   ]
  },
  {
   "cell_type": "code",
   "execution_count": 0,
   "metadata": {
    "application/vnd.databricks.v1+cell": {
     "cellMetadata": {},
     "inputWidgets": {},
     "nuid": "8d743685-a307-4411-b71e-e8e0e5930a8a",
     "showTitle": false,
     "tableResultSettingsMap": {},
     "title": ""
    }
   },
   "outputs": [],
   "source": []
  }
 ],
 "metadata": {
  "application/vnd.databricks.v1+notebook": {
   "computePreferences": null,
   "dashboards": [],
   "environmentMetadata": {
    "base_environment": "",
    "environment_version": "2"
   },
   "inputWidgetPreferences": null,
   "language": "python",
   "notebookMetadata": {
    "mostRecentlyExecutedCommandWithImplicitDF": {
     "commandId": 8553185202461354,
     "dataframes": [
      "_sqldf"
     ]
    },
    "pythonIndentUnit": 4
   },
   "notebookName": "benching_gold",
   "widgets": {
    "cluster_profile": {
     "currentValue": "dev_large",
     "nuid": "f0f30ac3-1f04-49ba-9904-9bae72bf3dcb",
     "typedWidgetInfo": {
      "autoCreated": false,
      "defaultValue": "dev_small",
      "label": null,
      "name": "cluster_profile",
      "options": {
       "validationRegex": null,
       "widgetDisplayType": "Text"
      },
      "parameterDataType": "String"
     },
     "widgetInfo": {
      "defaultValue": "dev_small",
      "label": null,
      "name": "cluster_profile",
      "options": {
       "autoCreated": null,
       "validationRegex": null,
       "widgetType": "text"
      },
      "widgetType": "text"
     }
    },
    "dataset_label": {
     "currentValue": "xl_250m",
     "nuid": "db89973c-320d-4da9-8edb-aeba0dfa8513",
     "typedWidgetInfo": {
      "autoCreated": false,
      "defaultValue": "small_9m",
      "label": null,
      "name": "dataset_label",
      "options": {
       "choices": [
        "small_9m",
        "large_142m",
        "xl_250m"
       ],
       "fixedDomain": true,
       "multiselect": false,
       "widgetDisplayType": "Dropdown"
      },
      "parameterDataType": "String"
     },
     "widgetInfo": {
      "defaultValue": "small_9m",
      "label": null,
      "name": "dataset_label",
      "options": {
       "autoCreated": null,
       "choices": [
        "small_9m",
        "large_142m",
        "xl_250m"
       ],
       "widgetType": "dropdown"
      },
      "widgetType": "dropdown"
     }
    },
    "hourly_rate_usd": {
     "currentValue": "2.40",
     "nuid": "f3a82027-51a9-4491-9048-6234c6ba164b",
     "typedWidgetInfo": {
      "autoCreated": false,
      "defaultValue": "0.60",
      "label": null,
      "name": "hourly_rate_usd",
      "options": {
       "validationRegex": null,
       "widgetDisplayType": "Text"
      },
      "parameterDataType": "String"
     },
     "widgetInfo": {
      "defaultValue": "0.60",
      "label": null,
      "name": "hourly_rate_usd",
      "options": {
       "autoCreated": null,
       "validationRegex": null,
       "widgetType": "text"
      },
      "widgetType": "text"
     }
    },
    "notes": {
     "currentValue": "",
     "nuid": "d72e6916-0332-497f-b8fb-10f8b4008f35",
     "typedWidgetInfo": {
      "autoCreated": false,
      "defaultValue": "",
      "label": null,
      "name": "notes",
      "options": {
       "validationRegex": null,
       "widgetDisplayType": "Text"
      },
      "parameterDataType": "String"
     },
     "widgetInfo": {
      "defaultValue": "",
      "label": null,
      "name": "notes",
      "options": {
       "autoCreated": null,
       "validationRegex": null,
       "widgetType": "text"
      },
      "widgetType": "text"
     }
    }
   }
  },
  "language_info": {
   "name": "python"
  }
 },
 "nbformat": 4,
 "nbformat_minor": 0
}
